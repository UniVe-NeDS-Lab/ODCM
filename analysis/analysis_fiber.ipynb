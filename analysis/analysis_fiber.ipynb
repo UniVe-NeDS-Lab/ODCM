{
 "cells": [
  {
   "cell_type": "markdown",
   "metadata": {},
   "source": [
    "\n",
    "**Initialization**"
   ]
  },
  {
   "cell_type": "code",
   "execution_count": 1,
   "metadata": {},
   "outputs": [
    {
     "name": "stderr",
     "output_type": "stream",
     "text": [
      "/tmp/ipykernel_4156141/2969672620.py:13: DeprecationWarning: `set_matplotlib_formats` is deprecated since IPython 7.23, directly use `matplotlib_inline.backend_inline.set_matplotlib_formats()`\n",
      "  set_matplotlib_formats('pdf', 'svg')\n"
     ]
    }
   ],
   "source": [
    "import seaborn as sns\n",
    "import os\n",
    "import networkx as nx\n",
    "from pprint import pprint\n",
    "import pandas as pd\n",
    "import numpy as np\n",
    "import random\n",
    "import math as m\n",
    "import glob\n",
    "%matplotlib inline\n",
    "# produce vector inline graphics\n",
    "from IPython.display import set_matplotlib_formats\n",
    "set_matplotlib_formats('pdf', 'svg')\n",
    "import matplotlib.pyplot as plt\n",
    "#from grave import plot_network\n",
    "basedir = '../results_group_weighted'\n",
    "basedir = '../results_relayedge'\n",
    "basedir = '../results'\n",
    "from tqdm.notebook import tqdm\n",
    "def giant_component(g: nx.Graph) -> nx.Graph:\n",
    "    return nx.subgraph(g, max(nx.connected_components(g), key=len))\n",
    "\n",
    "from scipy.stats import t\n",
    "def ci(series):\n",
    "    return series.sem()*t.ppf((1 + 0.95) / 2., len(series)-1)\n",
    "\n",
    "def to_csv_comment(df, path):\n",
    "    with open(path, 'w') as fr:\n",
    "        fr.write('#'+df.to_csv())"
   ]
  },
  {
   "cell_type": "markdown",
   "metadata": {},
   "source": [
    "**Experimental Variables**"
   ]
  },
  {
   "cell_type": "code",
   "execution_count": 2,
   "metadata": {},
   "outputs": [],
   "source": [
    "#CapEx costs\n",
    "capex_costs = {\n",
    "    'gateway_deploy': 10000, #cost to deploy trellis + works + permits\n",
    "    'gateway_router': 5000, # \n",
    "    'fiber_deploy': 6000, # per km (aerial)\n",
    "    'relay_router': 500, # \n",
    "    'relay_deploy':  1000, # cost for trellis +  works \n",
    "    'leaf_deploy': 300, #cost for roof installation\n",
    "    'leaf_radio': 100, #cost of LHG XL5 ac\n",
    "    'mp_radio': 200 # cost of mANTBox 19\n",
    "}\n",
    "\n",
    "#OpEx costs\n",
    "opex_costs = {\n",
    "    'bw': 1680, #Euros per year for 1Gbps  [Cerdà 2020]\n",
    "    'transport_10': 31200, # yearly price for transport of 10Gbps [xarxaoberta.cat]\n",
    "    'transport_100': 55200,  # yearly price for transport of 100Gbps [xarxaoberta.cat]\n",
    "    'planned_maintenance': 50, #euros per hour to repair\n",
    "    'unplanned_maintenance': 200 #euros per hour to repair\n",
    "}\n",
    "\n",
    "#Reliability values\n",
    "mttf = {\n",
    "    'router': 2e5, #hours [verbrugge 2006] 22y\n",
    "    'radio': 1e5, #hours [mikrotik datasheet]  11yrs\n",
    "}\n",
    "\n",
    "mttr = {\n",
    "    'router': 2, #hours [verbrugge 2006]\n",
    "    'radio': 4, #hours [assumed]\n",
    "}\n",
    "\n",
    "#802.11ac technological values\n",
    "speed_table = [(-72, 400),    #MCS Rx table derived by Mikrotik antbox19 datasheet (some values have been interpolated)\n",
    "               (-75,360),\n",
    "               (-77,300),\n",
    "               (-83,270),\n",
    "               (-86,240),\n",
    "               (-90,180),\n",
    "               (-92,120),\n",
    "               (-94,90),\n",
    "               (-95,60),\n",
    "               (-96,30)] \n",
    "\n",
    "pt = 30 # (dBm) Maximum EIRP According to Italian regulations (1W)\n",
    "gr_m = 19 # (dBi) received gain for mANTBox 19\n",
    "gr_d = 27 # (dBi) received gain for LHG XL5\n",
    "\n",
    "max_bx = 360   #max ch capacity at mcs8\n",
    "contention_ratio = 50\n",
    "mpant_bw = 120 #beamwidth of the mANTbox 19\n",
    "mgb =  max_bx/contention_ratio\n",
    "mchan = max_bx/contention_ratio\n"
   ]
  },
  {
   "cell_type": "markdown",
   "metadata": {},
   "source": [
    "**Read Data**"
   ]
  },
  {
   "cell_type": "code",
   "execution_count": 3,
   "metadata": {},
   "outputs": [
    {
     "data": {
      "text/plain": [
       "2700"
      ]
     },
     "execution_count": 3,
     "metadata": {},
     "output_type": "execute_result"
    }
   ],
   "source": [
    "##Read all the graphs\n",
    "import re\n",
    "# re.split('; |, |\\*|\\n',a)\n",
    "graphs = []\n",
    "#\n",
    "files = glob.glob(f'{basedir}/*/*.wireless.graphml.gz')\n",
    "\n",
    "for f in files:\n",
    "    g = nx.read_graphml(f)\n",
    "    f_g = nx.read_graphml(f.replace('wireless', 'fiber'))\n",
    "    n_cust = sum([g.nodes[n]['subscriptions'] for n in g.nodes() if g.degree()[n] > 0])\n",
    "    graphs.append((f.replace(basedir, ''),g,f_g,n_cust))\n",
    "\n",
    "len(graphs)"
   ]
  },
  {
   "cell_type": "markdown",
   "metadata": {},
   "source": [
    "**Simple Metrics**"
   ]
  },
  {
   "cell_type": "code",
   "execution_count": 4,
   "metadata": {},
   "outputs": [],
   "source": [
    "def average_path_length(graph: nx.Graph):\n",
    "    gws = [n for n in graph if 'type' in graph.nodes[n] and graph.nodes[n]['type'] == 'gateway']\n",
    "    plenghts = nx.multi_source_dijkstra_path_length(graph, gws)\n",
    "    lengths = np.array(list(plenghts.values()))\n",
    "\n",
    "    return lengths.mean(), lengths.max()\n",
    "\n",
    "def get_clusters(graph: nx.Graph):\n",
    "    cc = nx.connected_components(graph)\n",
    "    sizes = []\n",
    "    for c in cc:\n",
    "        size = 0\n",
    "        has_gw = False\n",
    "        for n in c:\n",
    "            if graph.nodes[n].get('type')=='gateway':\n",
    "                has_gw = True\n",
    "            size += graph.nodes[n]['subscriptions']\n",
    "        if has_gw:\n",
    "            sizes.append(size)\n",
    "    return sizes\n",
    "\n",
    "data = []\n",
    "for (f,w_g,f_g, n_subs) in graphs:\n",
    "    measures = {}\n",
    "    area, ratio, cluster_size, algo, n_gw, time, random_seed = re.split('[._/]', f)[1:8]\n",
    "    measures['nodes'] = len(w_g)\n",
    "    measures['n_gw'] = n_gw\n",
    "    measures['algo'] = algo\n",
    "    measures['subscriptions'] = n_subs\n",
    "    measures['edges'] = len(w_g.edges())\n",
    "    measures['avg_pathl'], measures['max_pathl'] = average_path_length(w_g)\n",
    "    measures['area'] = area\n",
    "    measures['ratio'] = int(ratio)\n",
    "    measures['gateways'] = len([n for n,att in w_g.nodes(data=True) if att.get('type')=='gateway'])\n",
    "    measures['leaves'] = len([n for n in w_g.nodes() if w_g.degree()[n]==1])\n",
    "    measures['relays'] = len([n for n in w_g.nodes() if w_g.degree()[n]>1]) - measures['gateways']\n",
    "    measures['relays_ratio'] =  measures['relays']/n_subs\n",
    "    unc = sum([d['subscriptions'] for n, d in w_g.nodes(data=True) if w_g.degree()[n] == 0])\n",
    "    all_sub = sum([d['subscriptions'] for n, d in w_g.nodes(data=True)])\n",
    "    measures['unc'] = unc\n",
    "    measures['unconnected'] = unc/all_sub\n",
    "    measures['cluster_size'] = int(cluster_size)\n",
    "    measures['connected_components'] = get_clusters(w_g)\n",
    "    measures['time'] = time\n",
    "    measures['seed'] = random_seed\n",
    "    data.append(measures)\n",
    "    \n",
    "df = pd.DataFrame(data)"
   ]
  },
  {
   "cell_type": "markdown",
   "metadata": {},
   "source": [
    "**CapEx**"
   ]
  },
  {
   "cell_type": "code",
   "execution_count": 5,
   "metadata": {},
   "outputs": [],
   "source": [
    "def calc_cost_fiber(g):\n",
    "    return sum([d['length'] for s,t,d in g.edges(data=True)])*1e-3*capex_costs['fiber_deploy']\n",
    "\n",
    "def phi(g, n):\n",
    "    #Find the size of the occupied beam and see how many antennas are needed to cover it.\n",
    "    thisnode = g.nodes[n]\n",
    "    beams = []\n",
    "    for neigh in g[n]:\n",
    "        thisneigh = g.nodes[neigh]\n",
    "        beam = m.degrees(m.atan2(thisneigh['x'] - thisnode['x'], thisneigh['y']-thisnode['y'])) % 360\n",
    "        beams.append(beam)\n",
    "    beams.sort()\n",
    "    try:\n",
    "        beams.append(beams[0])\n",
    "    except:\n",
    "        print(g[n])\n",
    "    beams = np.array(beams)\n",
    "    \n",
    "    diff = (beams[1:] - beams[:-1] -0.0001) % 360\n",
    "    width = 360 - diff.max()    \n",
    "    return width\n",
    "\n",
    "def calc_antennas(g, n, gw):\n",
    "    phi_v = m.ceil(phi(g, n)/mpant_bw)\n",
    "    n_paths = sum([n['paths'] for n in g[n].values()])\n",
    "    if not gw:\n",
    "        #Relay nodes needs double of the BW\n",
    "        k=2\n",
    "    else: \n",
    "        k=1\n",
    "    d_v = m.ceil(n_paths*k/contention_ratio)\n",
    "    return max(phi_v, d_v)\n",
    "\n",
    "def compute_paths(g, gws):\n",
    "    for e in g.edges():\n",
    "        g.edges[e]['paths'] = 0\n",
    "    \n",
    "    ## For each edge where a SP pass accumulate a value\n",
    "    \n",
    "    paths = nx.multi_source_dijkstra_path(g, gws, weight='dist')\n",
    "    for k,path in paths.items():\n",
    "        n_subs = g.nodes(data=True)[k]['subscriptions']\n",
    "        for i in range(len(path)-1):\n",
    "            g.edges[path[i], path[i+1]]['paths'] += n_subs\n",
    "    for e in g.edges():\n",
    "        if(g.edges[e]['paths'] == 0):\n",
    "            ## For redundancy link assume a single path\n",
    "            g.edges[e]['paths'] = 1\n",
    "            g.edges[e]['redundant'] = 1\n",
    "        else:\n",
    "            g.edges[e]['redundant'] = 0\n",
    "        g.edges[e]['bw'] = mgb * g.edges[e]['paths']\n",
    "    \n",
    "\n",
    "def calc_cost_wireless(g) -> list[float]:\n",
    "    gws = [n for n in g if 'type' in g.nodes[n] and g.nodes[n]['type'] == 'gateway']\n",
    "    compute_paths(g, gws)\n",
    "                 \n",
    "    ## Multiplicate the value by the BW needed for each node\n",
    "    ## Calculate the cost of each edge\n",
    "    \n",
    "\n",
    "    for n in g.nodes():\n",
    "        #If it's unconnected it does not cost\n",
    "        if nx.degree(g)[n] == 0:\n",
    "            g.nodes[n]['router_cost'] = 0\n",
    "            g.nodes[n]['deploy'] = 0\n",
    "            g.nodes[n]['fiber_cost'] = 0\n",
    "            g.nodes[n]['radio_cost'] = 0\n",
    "            continue\n",
    "        #If it's a GW\n",
    "        if g.nodes[n].get('type') == 'gateway':\n",
    "            g.nodes[n]['router_cost'] = capex_costs['gateway_router'] \n",
    "            #loc = (g.nodes[n]['x'], g.nodes[n]['y'])\n",
    "            #g.nodes[n]['fiber_cost' ] = capex_costs['fiber_deploy']*road_distance(fiber_points[area], loc)\n",
    "            g.nodes[n]['deploy'] = capex_costs['gateway_deploy']\n",
    "            g.nodes[n]['n_ant'] =  calc_antennas(g, n, True)\n",
    "            #print(g.nodes[n]['n_ant'])\n",
    "            g.nodes[n]['radio_cost'] = capex_costs['mp_radio'] * g.nodes[n]['n_ant']\n",
    "        else:\n",
    "            g.nodes[n]['fiber_cost' ] = 0\n",
    "            if g.degree()[n] == 1:\n",
    "                #leaf node, no router\n",
    "                g.nodes[n]['radio_cost'] = capex_costs['leaf_radio']\n",
    "                g.nodes[n]['deploy'] = capex_costs['leaf_deploy']\n",
    "                g.nodes[n]['router_cost'] = 0\n",
    "                g.nodes[n]['n_ant'] = 1\n",
    "            else:\n",
    "                #relay node\n",
    "                g.nodes[n]['n_ant'] = calc_antennas(g, n, False) \n",
    "                g.nodes[n]['radio_cost'] = capex_costs['mp_radio'] * g.nodes[n]['n_ant']\n",
    "                g.nodes[n]['deploy'] = capex_costs['relay_deploy']\n",
    "                g.nodes[n]['router_cost'] = capex_costs['relay_router']\n",
    "        \n",
    "        \n",
    "    router_cost = sum([g.nodes[n]['router_cost'] for n in g.nodes()])\n",
    "    deploy = sum([g.nodes[n]['deploy'] for n in g.nodes()])\n",
    "    radio_cost = sum([g.nodes[n]['radio_cost'] for n in g.nodes()])\n",
    "\n",
    "    return [router_cost, deploy, radio_cost]\n",
    "  "
   ]
  },
  {
   "cell_type": "code",
   "execution_count": 6,
   "metadata": {},
   "outputs": [],
   "source": [
    "data = []\n",
    "data_summed = []\n",
    "   \n",
    "for (f,w_g,f_g, n_subs) in graphs:\n",
    "    measures = {}\n",
    "    area, ratio, cluster_size, algo, n_gw, time, random_seed = re.split('[._/]', f)[1:8]\n",
    "    \n",
    "    cluster_size = int(cluster_size)\n",
    "    ratio = int(ratio)\n",
    "    costs = calc_cost_wireless(w_g)\n",
    "    costs.append(calc_cost_fiber(f_g))\n",
    "   \n",
    "    type_costs = ['router_cost', 'deploy', 'radio_cost', 'fiber_cost']\n",
    "    total_cost = sum(costs)\n",
    "    data_summed.append({'capex': total_cost/n_subs/5/12,\n",
    "                        'area': area, \n",
    "                        'cluster_size': cluster_size,\n",
    "                        'ratio':ratio,\n",
    "                        'algo': algo,\n",
    "                        'n_gw': n_gw})\n",
    "\n",
    "    for i in range(4):\n",
    "        measures = {}\n",
    "        measures['nodes'] = len(w_g)\n",
    "        measures['n_gw'] = n_gw\n",
    "        measures['cost'] = costs[i]\n",
    "        measures['algo'] = algo\n",
    "        measures['cost_customer'] = costs[i]/n_subs\n",
    "        measures['5ymontlycostcustomer'] = costs[i]/n_subs/5/12\n",
    "        measures['type_cost'] = type_costs[i]\n",
    "        measures['area'] = area\n",
    "        measures['ratio'] = ratio\n",
    "        measures['cluster_size'] = cluster_size\n",
    "        measures['time'] = time\n",
    "        measures['seed'] = random_seed\n",
    "        measures['n_gw'] = n_gw\n",
    "\n",
    "        data.append(measures)\n",
    "        \n",
    "edf = pd.DataFrame(data)\n",
    "sedf = pd.DataFrame(data_summed)"
   ]
  },
  {
   "cell_type": "code",
   "execution_count": 7,
   "metadata": {},
   "outputs": [],
   "source": [
    "data = []\n",
    "data_summed = []\n",
    "   \n",
    "for (f,w_g,f_g, n_subs) in graphs:\n",
    "    measures = {}\n",
    "    area, ratio, cluster_size, algo, n_gw, time, random_seed = re.split('[._/]', f)[1:8]\n",
    "    \n",
    "    cluster_size = int(cluster_size)\n",
    "    ratio = int(ratio)\n",
    "    measures = {'n_gw': n_gw,\n",
    "                'algo': algo,\n",
    "                'ratio': ratio,\n",
    "                'cluster_size': cluster_size,\n",
    "                'n_ant': 0}\n",
    "    for n,d in w_g.nodes(data=True):\n",
    "        if w_g.degree(n) > 1:\n",
    "            measures['n_ant']+=d['n_ant']\n",
    "    data.append(measures)\n",
    "\n",
    "n_ant_df = pd.DataFrame(data)"
   ]
  },
  {
   "attachments": {},
   "cell_type": "markdown",
   "metadata": {},
   "source": [
    "Get the number of antennae and generate the table"
   ]
  },
  {
   "cell_type": "code",
   "execution_count": 8,
   "metadata": {},
   "outputs": [
    {
     "name": "stderr",
     "output_type": "stream",
     "text": [
      "/tmp/ipykernel_4156141/455473970.py:3: FutureWarning: The default value of numeric_only in DataFrameGroupBy.mean is deprecated. In a future version, numeric_only will default to False. Either specify numeric_only or select only columns which should be valid for the function.\n",
      "  b = df.groupby(['n_gw', 'algo', 'ratio', 'cluster_size']).mean()\n",
      "/tmp/ipykernel_4156141/455473970.py:4: FutureWarning: In future versions `DataFrame.to_latex` is expected to utilise the base implementation of `Styler.to_latex` for formatting and rendering. The arguments signature may therefore change. It is recommended instead to use `DataFrame.style.to_latex` which also contains additional functionality.\n",
      "  b.join(a)[['nodes', 'subscriptions', 'edges', 'avg_pathl', 'gateways', 'relays', 'leaves', 'unc', 'avg_cc', 'n_ant']].to_latex('../processed/table.tex', float_format=\"{:0.2f}\".format)\n"
     ]
    }
   ],
   "source": [
    "df['avg_cc'] = df.connected_components.apply(np.mean)\n",
    "a = n_ant_df.groupby(['n_gw', 'algo', 'ratio', 'cluster_size']).mean()\n",
    "b = df.groupby(['n_gw', 'algo', 'ratio', 'cluster_size']).mean()\n",
    "b.join(a)[['nodes', 'subscriptions', 'edges', 'avg_pathl', 'gateways', 'relays', 'leaves', 'unc', 'avg_cc', 'n_ant']].to_latex('../processed/table.tex', float_format=\"{:0.2f}\".format)\n"
   ]
  },
  {
   "cell_type": "markdown",
   "metadata": {},
   "source": [
    "**OpEx**"
   ]
  },
  {
   "cell_type": "code",
   "execution_count": 9,
   "metadata": {},
   "outputs": [],
   "source": [
    "def calc_opex_fiber_network(g):\n",
    "    #Fiber opex\n",
    "    total_bw = sum([d['subscriptions'] for n,d in g.nodes(data=True)])*mgb/1000 #Gbps of mgb\n",
    "    fiber_transit = m.ceil(total_bw)*opex_costs['bw']\n",
    "    if total_bw < 10:\n",
    "        fiber_trasport = opex_costs['transport_10']\n",
    "    # if total_bw < 20:\n",
    "    #     fiber_trasport = 2*opex_costs['transport_10']\n",
    "    elif total_bw < 100:\n",
    "        fiber_trasport = opex_costs['transport_100']\n",
    "    else:\n",
    "        raise ValueError(\"Can't relay more than 100G\")\n",
    "    return fiber_transit, fiber_trasport\n",
    "\n",
    "def calc_opex_maintenance(g, kind):\n",
    "    #Maintenance opex\n",
    "    relays = [n for n in g if  g.degree[n] > 1]\n",
    "    leafs = [n for n in g if  g.degree[n] == 1]\n",
    "    gws = [n for n in g if 'type' in g.nodes[n] and g.nodes[n]['type'] == 'gateway']\n",
    "    p_leaf = len(leafs)/len(g)\n",
    "    p_relay = len(relays)/len(g)\n",
    "    p_radio_failure = (364*24)/mttf['radio']\n",
    "    p_router_failure = (364*24)/mttf['router']\n",
    "\n",
    "    n_tot_ants = sum([g.nodes[n]['n_ant'] for n in relays])\n",
    "        \n",
    "    gw_maintenance = p_router_failure * len(gws) * (mttr['router'] * opex_costs[kind] + capex_costs['gateway_router'])\n",
    "    router_maintenance = p_router_failure  * len(relays) * (mttr['router'] * opex_costs[kind] + capex_costs['relay_router'])\n",
    "    leafs_maintenance = p_leaf * p_radio_failure * len(leafs) * (mttr['radio'] * opex_costs['planned_maintenance'] + capex_costs['leaf_radio'])\n",
    "    relays_maintenance = p_relay * p_radio_failure * n_tot_ants * (mttr['radio'] * opex_costs[kind] + capex_costs['mp_radio'])\n",
    "    return gw_maintenance + router_maintenance + leafs_maintenance + relays_maintenance\n",
    "    "
   ]
  },
  {
   "cell_type": "code",
   "execution_count": 10,
   "metadata": {},
   "outputs": [],
   "source": [
    "data = []\n",
    "data_summed = []\n",
    "for (f,w_g,f_g, n_subs) in graphs:\n",
    "    measures = {}\n",
    "    area, ratio, cluster_size, algo, n_gw, time, random_seed = re.split('[._/]', f)[1:8]\n",
    "    cluster_size = int(cluster_size)\n",
    "    ratio = int(ratio)\n",
    "    \n",
    "    fiber_cost, transport_cost = calc_opex_fiber_network(w_g)\n",
    "    cost_types = ['fiber', 'planed_maintenance', 'unplanned_maintenance']\n",
    "    planned_maint = calc_opex_maintenance(w_g, 'planned_maintenance')\n",
    "    unplanned_maint = calc_opex_maintenance(w_g, 'unplanned_maintenance')\n",
    "\n",
    "    data.append({'fiber_cost': fiber_cost/n_subs/12,\n",
    "                 'algo': algo,\n",
    "                 'transport_cost': transport_cost/n_subs/12,\n",
    "                 'unplanned_cost':  unplanned_maint/n_subs/12,\n",
    "                 'area': area, \n",
    "                 'cluster_size': cluster_size,\n",
    "                 'ratio':ratio,\n",
    "                 'n_gw': n_gw})    \n",
    "\n",
    "    data_summed.append({'cost': planned_maint+fiber_cost, \n",
    "                        'cost_customer': (planned_maint+fiber_cost)/n_subs, #Cost per customer per mbps\n",
    "                        'cost_customer_monthly': (planned_maint+fiber_cost)/n_subs/12,\n",
    "                        'area': area, \n",
    "                        'algo': algo,\n",
    "                        'maintennace': 'planned',\n",
    "                        'cluster_size': cluster_size,\n",
    "                        'ratio':ratio,\n",
    "                        'n_gw': n_gw})\n",
    "\n",
    "opdf = pd.DataFrame(data)\n",
    "sopdf = pd.DataFrame(data_summed)"
   ]
  },
  {
   "cell_type": "markdown",
   "metadata": {},
   "source": [
    "**Offered Bandwidth**"
   ]
  },
  {
   "cell_type": "code",
   "execution_count": 11,
   "metadata": {},
   "outputs": [],
   "source": [
    "def calc_speed(g, src, dst):\n",
    "    d = g[src][dst]['dist']\n",
    "    pl = 20*m.log10(4*m.pi*d/0.0599585) #5ghz\n",
    "    if g.degree()[dst] == 1: # leaf\n",
    "        pr = pt + gr_d - pl\n",
    "    else: #relay\n",
    "        pr = pt + gr_m - pl\n",
    "    \n",
    "    for i in range(len(speed_table)):\n",
    "        if pr>speed_table[i][0]:\n",
    "            return speed_table[i][1]\n",
    "    return 0\n",
    "\n",
    "\n",
    "def calc_maxbw(g, p):\n",
    "    bottleneck = speed_table[0][1] #initalize to maximum value (400mbps)\n",
    "    for i in range(len(p)-1):\n",
    "        speed = calc_speed(g, p[i], p[i+1])\n",
    "        if speed<bottleneck:\n",
    "            bottleneck=speed\n",
    "    return bottleneck\n",
    "\n",
    "def calc_minbw(g, p):\n",
    "    bw_path = [max_bx*g.nodes[n]['n_ant']/sum([n['paths'] for n in g[n].values()]) for n in p]\n",
    "    pass\n",
    "    return min(bw_path)\n",
    "        \n",
    "def calc_minbw_leo(g, p):\n",
    "    bw_path = []\n",
    "    bw_path.append(max_bx*g.nodes[p[0]]['n_ant']/sum([n['paths'] for n in g[p[0]].values()]))\n",
    "    for i in range(0, len(p)-1):\n",
    "        speed = calc_speed(g, p[i], p[i+1])\n",
    "        links = g[p[i]][p[i+1]]['paths']\n",
    "        bw_path.append(speed/links)\n",
    "    pass\n",
    "    return min(bw_path)\n",
    "\n",
    "def calc_minbw_gab(g, path):\n",
    "    return min([g.nodes[p]['bottleneck'] for p in path])\n",
    "\n",
    "\n",
    "def compute_bw(g):\n",
    "    speeds = []\n",
    "    for n in w_g.nodes():\n",
    "        if w_g.degree()[n]>0:\n",
    "            caps = []\n",
    "            n_paths = 0\n",
    "            for neigh in w_g[n].keys():\n",
    "                caps.append(calc_speed(w_g, n, neigh))\n",
    "                n_paths += w_g[n][neigh]['paths']\n",
    "            w_g.nodes[n]['capacity'] = w_g.nodes[n]['n_ant'] * np.mean(caps)\n",
    "            w_g.nodes[n]['paths'] = n_paths\n",
    "            w_g.nodes[n]['bottleneck'] = w_g.nodes[n]['capacity'] / n_paths\n",
    "\n",
    "    \n",
    "    for src, p in paths.items():\n",
    "        if src in gws:\n",
    "            continue\n",
    "        #min_bw = calc_minbw(w_g, p)\n",
    "        min_bw = calc_minbw_gab(w_g, p)\n",
    "        max_bw = calc_maxbw(w_g, p)\n",
    "        for s in range(w_g.nodes(data=True)[src]['subscriptions']):\n",
    "            run = {}\n",
    "            run['area'] = area\n",
    "            run['cluster_size'] = cluster_size\n",
    "            run['ratio'] =  ratio\n",
    "            run['algo'] = algo\n",
    "            run['gateways'] = len([n for n,att in w_g.nodes(data=True) if att.get('type')=='gateway'])\n",
    "            run['n_gw'] = n_gw\n",
    "            run['node'] = src\n",
    "            #run['min_bw'] = mac_efficiency*min_bw\n",
    "            run['max_bw'] = mac_efficiency*max_bw\n",
    "            run['min_bw'] = mac_efficiency*min_bw\n",
    "            data.append(run)\n",
    "        "
   ]
  },
  {
   "attachments": {},
   "cell_type": "markdown",
   "metadata": {},
   "source": [
    "Minimum bw"
   ]
  },
  {
   "cell_type": "code",
   "execution_count": 12,
   "metadata": {},
   "outputs": [],
   "source": [
    "mac_efficiency = 0.84\n",
    "\n",
    "data = []\n",
    "for g_id, (f,w_g,f_g, n_subs) in enumerate(graphs):\n",
    "    #print(g_id, len(graphs))\n",
    "    measures = {}\n",
    "    area, ratio, cluster_size, algo, n_gw, time, random_seed = re.split('[._/]', f)[1:8]\n",
    "    cluster_size = int(cluster_size)\n",
    "    ratio = int(ratio)\n",
    "\n",
    "    gws = [n for n in w_g if 'type' in w_g.nodes[n] and w_g.nodes[n]['type'] == 'gateway']\n",
    "    paths = nx.multi_source_dijkstra_path(w_g, gws, weight='dist')\n",
    "    speeds = []\n",
    "    for n in w_g.nodes():\n",
    "        if w_g.degree()[n]>0:\n",
    "            caps = []\n",
    "            n_paths = 0\n",
    "            for neigh in w_g[n].keys():\n",
    "                caps.append(calc_speed(w_g, n, neigh))\n",
    "                n_paths += w_g[n][neigh]['paths']\n",
    "            w_g.nodes[n]['capacity'] = w_g.nodes[n]['n_ant'] * np.mean(caps)\n",
    "            w_g.nodes[n]['paths'] = n_paths\n",
    "            w_g.nodes[n]['bottleneck'] = w_g.nodes[n]['capacity'] / n_paths\n",
    "\n",
    "    \n",
    "    for src, p in paths.items():\n",
    "        if src in gws:\n",
    "            continue\n",
    "        #min_bw = calc_minbw(w_g, p)\n",
    "        min_bw = calc_minbw_gab(w_g, p)\n",
    "        \n",
    "        max_bw = calc_maxbw(w_g, p)\n",
    "        for s in range(w_g.nodes(data=True)[src]['subscriptions']):\n",
    "            run = {}\n",
    "            run['area'] = area\n",
    "            run['algo'] = algo\n",
    "            run['cluster_size'] = cluster_size\n",
    "            run['ratio'] =  ratio\n",
    "            run['gateways'] = len([n for n,att in w_g.nodes(data=True) if att.get('type')=='gateway'])\n",
    "            run['n_gw'] = n_gw\n",
    "            run['node'] = src\n",
    "            #run['min_bw'] = mac_efficiency*min_bw\n",
    "            run['max_bw'] = mac_efficiency*max_bw\n",
    "            run['min_bw'] = mac_efficiency*min_bw\n",
    "            data.append(run)\n",
    "\n",
    "bwdf = pd.DataFrame(data)"
   ]
  },
  {
   "attachments": {},
   "cell_type": "markdown",
   "metadata": {},
   "source": [
    "Connectivity over failed gateways"
   ]
  },
  {
   "cell_type": "code",
   "execution_count": 13,
   "metadata": {},
   "outputs": [],
   "source": [
    "data = []\n",
    "results = []\n",
    "for g_id, (f, w_g, f_g, n_subs) in enumerate(graphs[:]):\n",
    "\n",
    "    measures = {}\n",
    "    area, ratio, cluster_size, algo, n_gw, time, random_seed = re.split('[._/]', f)[1:8]\n",
    "    cluster_size = int(cluster_size)\n",
    "    ratio = int(ratio)\n",
    "    nodes_df = pd.DataFrame([d[1] for d in w_g.nodes(data=True)]).set_index('id')\n",
    "    gws = list(map(str, nodes_df[nodes_df.type == 'gateway'].index.values))\n",
    "    clusters = nodes_df.cluster.unique()\n",
    "    for r in range(10):\n",
    "        rnd_gws = sorted(gws, key=lambda x:random.random())\n",
    "        g : nx.Graph = w_g.copy()\n",
    "        for fails in range(0,5):\n",
    "            connected = 0\n",
    "            if fails > 0  and rnd_gws:\n",
    "                fail_gw = rnd_gws.pop()\n",
    "                g.remove_node(fail_gw)        \n",
    "            if rnd_gws:\n",
    "                paths = nx.multi_source_dijkstra_path_length(g, rnd_gws)\n",
    "                connected = sum([g.nodes[p]['subscriptions'] for p in paths.keys()])\n",
    "                all_sums = sum([g.nodes[n]['subscriptions'] for n in g.nodes()])\n",
    "                \n",
    "            base_dict = {'area': area, \n",
    "                         'algo': algo,\n",
    "                            'ratio': ratio, \n",
    "                            'cluster_size': cluster_size, \n",
    "                            'n_gw': int(n_gw), \n",
    "                            'failed': str(fails)}\n",
    "            results.append(base_dict | {'connected': connected, 'conn_ratio': connected/all_sums, 'tot_gws': len(rnd_gws), 'all_sums': all_sums})\n",
    "\n",
    "\n",
    "con_fw_df = pd.DataFrame(results)\n"
   ]
  },
  {
   "cell_type": "code",
   "execution_count": 51,
   "metadata": {},
   "outputs": [
    {
     "name": "stderr",
     "output_type": "stream",
     "text": [
      "/tmp/ipykernel_4156141/1319767469.py:1: FutureWarning: In a future version of pandas all arguments of DataFrame.pivot will be keyword-only.\n",
      "  out = con_fw_df[con_fw_df.cluster_size == 200].groupby(['algogw', 'failed']).conn_ratio.agg(['mean', ci]).reset_index().pivot('failed', 'algogw')\n"
     ]
    }
   ],
   "source": [
    "out = con_fw_df[con_fw_df.cluster_size == 200].groupby(['algogw', 'failed']).conn_ratio.agg(['mean', ci]).reset_index().pivot('failed', 'algogw')\n",
    "\n",
    "out.columns = [f\"{c[0]}_{c[1]}\" for c in out.columns]\n",
    "to_csv_comment(out, f'/home/gabriel/WORKS/TrueNets/CNSM22/processed/connectivity_gw.csv')"
   ]
  },
  {
   "cell_type": "code",
   "execution_count": 14,
   "metadata": {},
   "outputs": [
    {
     "data": {
      "application/pdf": "[encoded data removed]",
      "image/svg+xml": "<?xml version=\"1.0\" encoding=\"utf-8\" standalone=\"no\"?>\n<!DOCTYPE svg PUBLIC \"-//W3C//DTD SVG 1.1//EN\"\n  \"http://www.w3.org/Graphics/SVG/1.1/DTD/svg11.dtd\">\n<svg xmlns:xlink=\"http://www.w3.org/1999/xlink\" width=\"432.081315pt\" height=\"351.99625pt\" viewBox=\"0 0 432.081315 351.99625\" xmlns=\"http://www.w3.org/2000/svg\" version=\"1.1\">\n <metadata>\n  <rdf:RDF xmlns:dc=\"http://purl.org/dc/elements/1.1/\" xmlns:cc=\"http://creativecommons.org/ns#\" xmlns:rdf=\"http://www.w3.org/1999/02/22-rdf-syntax-ns#\">\n   <cc:Work>\n    <dc:type rdf:resource=\"http://purl.org/dc/dcmitype/StillImage\"/>\n    <dc:date>2023-03-21T16:13:31.686400</dc:date>\n    <dc:format>image/svg+xml</dc:format>\n    <dc:creator>\n     <cc:Agent>\n      <dc:title>Matplotlib v3.7.1, https://matplotlib.org/</dc:title>\n     </cc:Agent>\n    </dc:creator>\n   </cc:Work>\n  </rdf:RDF>\n </metadata>\n <defs>\n  <style type=\"text/css\">*{stroke-linejoin: round; stroke-linecap: butt}</style>\n </defs>\n <g id=\"figure_1\">\n  <g id=\"patch_1\">\n   <path d=\"M 0 351.99625 \nL 432.081315 351.99625 \nL 432.081315 0 \nL 0 0 \nz\n\" style=\"fill: #ffffff\"/>\n  </g>\n  <g id=\"axes_1\">\n   <g id=\"patch_2\">\n    <path d=\"M 44.059375 314.44 \nL 340.653515 314.44 \nL 340.653515 7.2 \nL 44.059375 7.2 \nz\n\" style=\"fill: #ffffff\"/>\n   </g>\n   <g id=\"PolyCollection_1\">\n    <defs>\n     <path id=\"m1aff185e53\" d=\"M 57.540927 -330.830795 \nL 57.540927 -328.101007 \nL 124.948686 -295.30828 \nL 192.356445 -237.807901 \nL 259.764204 -199.224239 \nL 327.171963 -150.809613 \nL 327.171963 -160.069128 \nL 327.171963 -160.069128 \nL 259.764204 -206.997724 \nL 192.356445 -245.273265 \nL 124.948686 -299.284288 \nL 57.540927 -330.830795 \nz\n\" style=\"stroke: #1f77b4; stroke-opacity: 0.2\"/>\n    </defs>\n    <g clip-path=\"url(#pd3fd8650dc)\">\n     <use xlink:href=\"#m1aff185e53\" x=\"0\" y=\"351.99625\" style=\"fill: #1f77b4; fill-opacity: 0.2; stroke: #1f77b4; stroke-opacity: 0.2\"/>\n    </g>\n   </g>\n   <g id=\"PolyCollection_2\">\n    <defs>\n     <path id=\"md5a84963d9\" d=\"M 57.540927 -330.642698 \nL 57.540927 -327.985938 \nL 124.948686 -212.386377 \nL 192.356445 -130.332059 \nL 259.764204 -85.612909 \nL 327.171963 -51.521705 \nL 327.171963 -58.374816 \nL 327.171963 -58.374816 \nL 259.764204 -93.316329 \nL 192.356445 -138.234262 \nL 124.948686 -219.173475 \nL 57.540927 -330.642698 \nz\n\" style=\"stroke: #ff7f0e; stroke-opacity: 0.2\"/>\n    </defs>\n    <g clip-path=\"url(#pd3fd8650dc)\">\n     <use xlink:href=\"#md5a84963d9\" x=\"0\" y=\"351.99625\" style=\"fill: #ff7f0e; fill-opacity: 0.2; stroke: #ff7f0e; stroke-opacity: 0.2\"/>\n    </g>\n   </g>\n   <g id=\"PolyCollection_3\">\n    <defs>\n     <path id=\"m9dd2ca293a\" d=\"M 57.540927 -330.68228 \nL 57.540927 -327.98866 \nL 124.948686 -321.455264 \nL 192.356445 -265.607272 \nL 259.764204 -230.524767 \nL 327.171963 -176.157705 \nL 327.171963 -186.414203 \nL 327.171963 -186.414203 \nL 259.764204 -238.967848 \nL 192.356445 -273.842507 \nL 124.948686 -324.793712 \nL 57.540927 -330.68228 \nz\n\" style=\"stroke: #2ca02c; stroke-opacity: 0.2\"/>\n    </defs>\n    <g clip-path=\"url(#pd3fd8650dc)\">\n     <use xlink:href=\"#m9dd2ca293a\" x=\"0\" y=\"351.99625\" style=\"fill: #2ca02c; fill-opacity: 0.2; stroke: #2ca02c; stroke-opacity: 0.2\"/>\n    </g>\n   </g>\n   <g id=\"matplotlib.axis_1\">\n    <g id=\"xtick_1\">\n     <g id=\"line2d_1\">\n      <path d=\"M 57.540927 314.44 \nL 57.540927 7.2 \n\" clip-path=\"url(#pd3fd8650dc)\" style=\"fill: none; stroke: #b0b0b0; stroke-opacity: 0.5; stroke-width: 0.8; stroke-linecap: square\"/>\n     </g>\n     <g id=\"line2d_2\">\n      <defs>\n       <path id=\"m1028a1bf7a\" d=\"M 0 0 \nL 0 3.5 \n\" style=\"stroke: #000000; stroke-width: 0.8\"/>\n      </defs>\n      <g>\n       <use xlink:href=\"#m1028a1bf7a\" x=\"57.540927\" y=\"314.44\" style=\"stroke: #000000; stroke-width: 0.8\"/>\n      </g>\n     </g>\n     <g id=\"text_1\">\n      <!-- 0 -->\n      <g transform=\"translate(54.359677 329.038437) scale(0.1 -0.1)\">\n       <defs>\n        <path id=\"DejaVuSans-30\" d=\"M 2034 4250 \nQ 1547 4250 1301 3770 \nQ 1056 3291 1056 2328 \nQ 1056 1369 1301 889 \nQ 1547 409 2034 409 \nQ 2525 409 2770 889 \nQ 3016 1369 3016 2328 \nQ 3016 3291 2770 3770 \nQ 2525 4250 2034 4250 \nz\nM 2034 4750 \nQ 2819 4750 3233 4129 \nQ 3647 3509 3647 2328 \nQ 3647 1150 3233 529 \nQ 2819 -91 2034 -91 \nQ 1250 -91 836 529 \nQ 422 1150 422 2328 \nQ 422 3509 836 4129 \nQ 1250 4750 2034 4750 \nz\n\" transform=\"scale(0.015625)\"/>\n       </defs>\n       <use xlink:href=\"#DejaVuSans-30\"/>\n      </g>\n     </g>\n    </g>\n    <g id=\"xtick_2\">\n     <g id=\"line2d_3\">\n      <path d=\"M 124.948686 314.44 \nL 124.948686 7.2 \n\" clip-path=\"url(#pd3fd8650dc)\" style=\"fill: none; stroke: #b0b0b0; stroke-opacity: 0.5; stroke-width: 0.8; stroke-linecap: square\"/>\n     </g>\n     <g id=\"line2d_4\">\n      <g>\n       <use xlink:href=\"#m1028a1bf7a\" x=\"124.948686\" y=\"314.44\" style=\"stroke: #000000; stroke-width: 0.8\"/>\n      </g>\n     </g>\n     <g id=\"text_2\">\n      <!-- 1 -->\n      <g transform=\"translate(121.767436 329.038437) scale(0.1 -0.1)\">\n       <defs>\n        <path id=\"DejaVuSans-31\" d=\"M 794 531 \nL 1825 531 \nL 1825 4091 \nL 703 3866 \nL 703 4441 \nL 1819 4666 \nL 2450 4666 \nL 2450 531 \nL 3481 531 \nL 3481 0 \nL 794 0 \nL 794 531 \nz\n\" transform=\"scale(0.015625)\"/>\n       </defs>\n       <use xlink:href=\"#DejaVuSans-31\"/>\n      </g>\n     </g>\n    </g>\n    <g id=\"xtick_3\">\n     <g id=\"line2d_5\">\n      <path d=\"M 192.356445 314.44 \nL 192.356445 7.2 \n\" clip-path=\"url(#pd3fd8650dc)\" style=\"fill: none; stroke: #b0b0b0; stroke-opacity: 0.5; stroke-width: 0.8; stroke-linecap: square\"/>\n     </g>\n     <g id=\"line2d_6\">\n      <g>\n       <use xlink:href=\"#m1028a1bf7a\" x=\"192.356445\" y=\"314.44\" style=\"stroke: #000000; stroke-width: 0.8\"/>\n      </g>\n     </g>\n     <g id=\"text_3\">\n      <!-- 2 -->\n      <g transform=\"translate(189.175195 329.038437) scale(0.1 -0.1)\">\n       <defs>\n        <path id=\"DejaVuSans-32\" d=\"M 1228 531 \nL 3431 531 \nL 3431 0 \nL 469 0 \nL 469 531 \nQ 828 903 1448 1529 \nQ 2069 2156 2228 2338 \nQ 2531 2678 2651 2914 \nQ 2772 3150 2772 3378 \nQ 2772 3750 2511 3984 \nQ 2250 4219 1831 4219 \nQ 1534 4219 1204 4116 \nQ 875 4013 500 3803 \nL 500 4441 \nQ 881 4594 1212 4672 \nQ 1544 4750 1819 4750 \nQ 2544 4750 2975 4387 \nQ 3406 4025 3406 3419 \nQ 3406 3131 3298 2873 \nQ 3191 2616 2906 2266 \nQ 2828 2175 2409 1742 \nQ 1991 1309 1228 531 \nz\n\" transform=\"scale(0.015625)\"/>\n       </defs>\n       <use xlink:href=\"#DejaVuSans-32\"/>\n      </g>\n     </g>\n    </g>\n    <g id=\"xtick_4\">\n     <g id=\"line2d_7\">\n      <path d=\"M 259.764204 314.44 \nL 259.764204 7.2 \n\" clip-path=\"url(#pd3fd8650dc)\" style=\"fill: none; stroke: #b0b0b0; stroke-opacity: 0.5; stroke-width: 0.8; stroke-linecap: square\"/>\n     </g>\n     <g id=\"line2d_8\">\n      <g>\n       <use xlink:href=\"#m1028a1bf7a\" x=\"259.764204\" y=\"314.44\" style=\"stroke: #000000; stroke-width: 0.8\"/>\n      </g>\n     </g>\n     <g id=\"text_4\">\n      <!-- 3 -->\n      <g transform=\"translate(256.582954 329.038437) scale(0.1 -0.1)\">\n       <defs>\n        <path id=\"DejaVuSans-33\" d=\"M 2597 2516 \nQ 3050 2419 3304 2112 \nQ 3559 1806 3559 1356 \nQ 3559 666 3084 287 \nQ 2609 -91 1734 -91 \nQ 1441 -91 1130 -33 \nQ 819 25 488 141 \nL 488 750 \nQ 750 597 1062 519 \nQ 1375 441 1716 441 \nQ 2309 441 2620 675 \nQ 2931 909 2931 1356 \nQ 2931 1769 2642 2001 \nQ 2353 2234 1838 2234 \nL 1294 2234 \nL 1294 2753 \nL 1863 2753 \nQ 2328 2753 2575 2939 \nQ 2822 3125 2822 3475 \nQ 2822 3834 2567 4026 \nQ 2313 4219 1838 4219 \nQ 1578 4219 1281 4162 \nQ 984 4106 628 3988 \nL 628 4550 \nQ 988 4650 1302 4700 \nQ 1616 4750 1894 4750 \nQ 2613 4750 3031 4423 \nQ 3450 4097 3450 3541 \nQ 3450 3153 3228 2886 \nQ 3006 2619 2597 2516 \nz\n\" transform=\"scale(0.015625)\"/>\n       </defs>\n       <use xlink:href=\"#DejaVuSans-33\"/>\n      </g>\n     </g>\n    </g>\n    <g id=\"xtick_5\">\n     <g id=\"line2d_9\">\n      <path d=\"M 327.171963 314.44 \nL 327.171963 7.2 \n\" clip-path=\"url(#pd3fd8650dc)\" style=\"fill: none; stroke: #b0b0b0; stroke-opacity: 0.5; stroke-width: 0.8; stroke-linecap: square\"/>\n     </g>\n     <g id=\"line2d_10\">\n      <g>\n       <use xlink:href=\"#m1028a1bf7a\" x=\"327.171963\" y=\"314.44\" style=\"stroke: #000000; stroke-width: 0.8\"/>\n      </g>\n     </g>\n     <g id=\"text_5\">\n      <!-- 4 -->\n      <g transform=\"translate(323.990713 329.038437) scale(0.1 -0.1)\">\n       <defs>\n        <path id=\"DejaVuSans-34\" d=\"M 2419 4116 \nL 825 1625 \nL 2419 1625 \nL 2419 4116 \nz\nM 2253 4666 \nL 3047 4666 \nL 3047 1625 \nL 3713 1625 \nL 3713 1100 \nL 3047 1100 \nL 3047 0 \nL 2419 0 \nL 2419 1100 \nL 313 1100 \nL 313 1709 \nL 2253 4666 \nz\n\" transform=\"scale(0.015625)\"/>\n       </defs>\n       <use xlink:href=\"#DejaVuSans-34\"/>\n      </g>\n     </g>\n    </g>\n    <g id=\"text_6\">\n     <!-- failed -->\n     <g transform=\"translate(178.50332 342.716562) scale(0.1 -0.1)\">\n      <defs>\n       <path id=\"DejaVuSans-66\" d=\"M 2375 4863 \nL 2375 4384 \nL 1825 4384 \nQ 1516 4384 1395 4259 \nQ 1275 4134 1275 3809 \nL 1275 3500 \nL 2222 3500 \nL 2222 3053 \nL 1275 3053 \nL 1275 0 \nL 697 0 \nL 697 3053 \nL 147 3053 \nL 147 3500 \nL 697 3500 \nL 697 3744 \nQ 697 4328 969 4595 \nQ 1241 4863 1831 4863 \nL 2375 4863 \nz\n\" transform=\"scale(0.015625)\"/>\n       <path id=\"DejaVuSans-61\" d=\"M 2194 1759 \nQ 1497 1759 1228 1600 \nQ 959 1441 959 1056 \nQ 959 750 1161 570 \nQ 1363 391 1709 391 \nQ 2188 391 2477 730 \nQ 2766 1069 2766 1631 \nL 2766 1759 \nL 2194 1759 \nz\nM 3341 1997 \nL 3341 0 \nL 2766 0 \nL 2766 531 \nQ 2569 213 2275 61 \nQ 1981 -91 1556 -91 \nQ 1019 -91 701 211 \nQ 384 513 384 1019 \nQ 384 1609 779 1909 \nQ 1175 2209 1959 2209 \nL 2766 2209 \nL 2766 2266 \nQ 2766 2663 2505 2880 \nQ 2244 3097 1772 3097 \nQ 1472 3097 1187 3025 \nQ 903 2953 641 2809 \nL 641 3341 \nQ 956 3463 1253 3523 \nQ 1550 3584 1831 3584 \nQ 2591 3584 2966 3190 \nQ 3341 2797 3341 1997 \nz\n\" transform=\"scale(0.015625)\"/>\n       <path id=\"DejaVuSans-69\" d=\"M 603 3500 \nL 1178 3500 \nL 1178 0 \nL 603 0 \nL 603 3500 \nz\nM 603 4863 \nL 1178 4863 \nL 1178 4134 \nL 603 4134 \nL 603 4863 \nz\n\" transform=\"scale(0.015625)\"/>\n       <path id=\"DejaVuSans-6c\" d=\"M 603 4863 \nL 1178 4863 \nL 1178 0 \nL 603 0 \nL 603 4863 \nz\n\" transform=\"scale(0.015625)\"/>\n       <path id=\"DejaVuSans-65\" d=\"M 3597 1894 \nL 3597 1613 \nL 953 1613 \nQ 991 1019 1311 708 \nQ 1631 397 2203 397 \nQ 2534 397 2845 478 \nQ 3156 559 3463 722 \nL 3463 178 \nQ 3153 47 2828 -22 \nQ 2503 -91 2169 -91 \nQ 1331 -91 842 396 \nQ 353 884 353 1716 \nQ 353 2575 817 3079 \nQ 1281 3584 2069 3584 \nQ 2775 3584 3186 3129 \nQ 3597 2675 3597 1894 \nz\nM 3022 2063 \nQ 3016 2534 2758 2815 \nQ 2500 3097 2075 3097 \nQ 1594 3097 1305 2825 \nQ 1016 2553 972 2059 \nL 3022 2063 \nz\n\" transform=\"scale(0.015625)\"/>\n       <path id=\"DejaVuSans-64\" d=\"M 2906 2969 \nL 2906 4863 \nL 3481 4863 \nL 3481 0 \nL 2906 0 \nL 2906 525 \nQ 2725 213 2448 61 \nQ 2172 -91 1784 -91 \nQ 1150 -91 751 415 \nQ 353 922 353 1747 \nQ 353 2572 751 3078 \nQ 1150 3584 1784 3584 \nQ 2172 3584 2448 3432 \nQ 2725 3281 2906 2969 \nz\nM 947 1747 \nQ 947 1113 1208 752 \nQ 1469 391 1925 391 \nQ 2381 391 2643 752 \nQ 2906 1113 2906 1747 \nQ 2906 2381 2643 2742 \nQ 2381 3103 1925 3103 \nQ 1469 3103 1208 2742 \nQ 947 2381 947 1747 \nz\n\" transform=\"scale(0.015625)\"/>\n      </defs>\n      <use xlink:href=\"#DejaVuSans-66\"/>\n      <use xlink:href=\"#DejaVuSans-61\" x=\"35.205078\"/>\n      <use xlink:href=\"#DejaVuSans-69\" x=\"96.484375\"/>\n      <use xlink:href=\"#DejaVuSans-6c\" x=\"124.267578\"/>\n      <use xlink:href=\"#DejaVuSans-65\" x=\"152.050781\"/>\n      <use xlink:href=\"#DejaVuSans-64\" x=\"213.574219\"/>\n     </g>\n    </g>\n   </g>\n   <g id=\"matplotlib.axis_2\">\n    <g id=\"ytick_1\">\n     <g id=\"line2d_11\">\n      <path d=\"M 44.059375 288.023078 \nL 340.653515 288.023078 \n\" clip-path=\"url(#pd3fd8650dc)\" style=\"fill: none; stroke: #b0b0b0; stroke-opacity: 0.5; stroke-width: 0.8; stroke-linecap: square\"/>\n     </g>\n     <g id=\"line2d_12\">\n      <defs>\n       <path id=\"m58e1132a58\" d=\"M 0 0 \nL -3.5 0 \n\" style=\"stroke: #000000; stroke-width: 0.8\"/>\n      </defs>\n      <g>\n       <use xlink:href=\"#m58e1132a58\" x=\"44.059375\" y=\"288.023078\" style=\"stroke: #000000; stroke-width: 0.8\"/>\n      </g>\n     </g>\n     <g id=\"text_7\">\n      <!-- 0.2 -->\n      <g transform=\"translate(21.15625 291.822297) scale(0.1 -0.1)\">\n       <defs>\n        <path id=\"DejaVuSans-2e\" d=\"M 684 794 \nL 1344 794 \nL 1344 0 \nL 684 0 \nL 684 794 \nz\n\" transform=\"scale(0.015625)\"/>\n       </defs>\n       <use xlink:href=\"#DejaVuSans-30\"/>\n       <use xlink:href=\"#DejaVuSans-2e\" x=\"63.623047\"/>\n       <use xlink:href=\"#DejaVuSans-32\" x=\"95.410156\"/>\n      </g>\n     </g>\n    </g>\n    <g id=\"ytick_2\">\n     <g id=\"line2d_13\">\n      <path d=\"M 44.059375 251.13548 \nL 340.653515 251.13548 \n\" clip-path=\"url(#pd3fd8650dc)\" style=\"fill: none; stroke: #b0b0b0; stroke-opacity: 0.5; stroke-width: 0.8; stroke-linecap: square\"/>\n     </g>\n     <g id=\"line2d_14\">\n      <g>\n       <use xlink:href=\"#m58e1132a58\" x=\"44.059375\" y=\"251.13548\" style=\"stroke: #000000; stroke-width: 0.8\"/>\n      </g>\n     </g>\n     <g id=\"text_8\">\n      <!-- 0.3 -->\n      <g transform=\"translate(21.15625 254.934699) scale(0.1 -0.1)\">\n       <use xlink:href=\"#DejaVuSans-30\"/>\n       <use xlink:href=\"#DejaVuSans-2e\" x=\"63.623047\"/>\n       <use xlink:href=\"#DejaVuSans-33\" x=\"95.410156\"/>\n      </g>\n     </g>\n    </g>\n    <g id=\"ytick_3\">\n     <g id=\"line2d_15\">\n      <path d=\"M 44.059375 214.247881 \nL 340.653515 214.247881 \n\" clip-path=\"url(#pd3fd8650dc)\" style=\"fill: none; stroke: #b0b0b0; stroke-opacity: 0.5; stroke-width: 0.8; stroke-linecap: square\"/>\n     </g>\n     <g id=\"line2d_16\">\n      <g>\n       <use xlink:href=\"#m58e1132a58\" x=\"44.059375\" y=\"214.247881\" style=\"stroke: #000000; stroke-width: 0.8\"/>\n      </g>\n     </g>\n     <g id=\"text_9\">\n      <!-- 0.4 -->\n      <g transform=\"translate(21.15625 218.0471) scale(0.1 -0.1)\">\n       <use xlink:href=\"#DejaVuSans-30\"/>\n       <use xlink:href=\"#DejaVuSans-2e\" x=\"63.623047\"/>\n       <use xlink:href=\"#DejaVuSans-34\" x=\"95.410156\"/>\n      </g>\n     </g>\n    </g>\n    <g id=\"ytick_4\">\n     <g id=\"line2d_17\">\n      <path d=\"M 44.059375 177.360283 \nL 340.653515 177.360283 \n\" clip-path=\"url(#pd3fd8650dc)\" style=\"fill: none; stroke: #b0b0b0; stroke-opacity: 0.5; stroke-width: 0.8; stroke-linecap: square\"/>\n     </g>\n     <g id=\"line2d_18\">\n      <g>\n       <use xlink:href=\"#m58e1132a58\" x=\"44.059375\" y=\"177.360283\" style=\"stroke: #000000; stroke-width: 0.8\"/>\n      </g>\n     </g>\n     <g id=\"text_10\">\n      <!-- 0.5 -->\n      <g transform=\"translate(21.15625 181.159502) scale(0.1 -0.1)\">\n       <defs>\n        <path id=\"DejaVuSans-35\" d=\"M 691 4666 \nL 3169 4666 \nL 3169 4134 \nL 1269 4134 \nL 1269 2991 \nQ 1406 3038 1543 3061 \nQ 1681 3084 1819 3084 \nQ 2600 3084 3056 2656 \nQ 3513 2228 3513 1497 \nQ 3513 744 3044 326 \nQ 2575 -91 1722 -91 \nQ 1428 -91 1123 -41 \nQ 819 9 494 109 \nL 494 744 \nQ 775 591 1075 516 \nQ 1375 441 1709 441 \nQ 2250 441 2565 725 \nQ 2881 1009 2881 1497 \nQ 2881 1984 2565 2268 \nQ 2250 2553 1709 2553 \nQ 1456 2553 1204 2497 \nQ 953 2441 691 2322 \nL 691 4666 \nz\n\" transform=\"scale(0.015625)\"/>\n       </defs>\n       <use xlink:href=\"#DejaVuSans-30\"/>\n       <use xlink:href=\"#DejaVuSans-2e\" x=\"63.623047\"/>\n       <use xlink:href=\"#DejaVuSans-35\" x=\"95.410156\"/>\n      </g>\n     </g>\n    </g>\n    <g id=\"ytick_5\">\n     <g id=\"line2d_19\">\n      <path d=\"M 44.059375 140.472684 \nL 340.653515 140.472684 \n\" clip-path=\"url(#pd3fd8650dc)\" style=\"fill: none; stroke: #b0b0b0; stroke-opacity: 0.5; stroke-width: 0.8; stroke-linecap: square\"/>\n     </g>\n     <g id=\"line2d_20\">\n      <g>\n       <use xlink:href=\"#m58e1132a58\" x=\"44.059375\" y=\"140.472684\" style=\"stroke: #000000; stroke-width: 0.8\"/>\n      </g>\n     </g>\n     <g id=\"text_11\">\n      <!-- 0.6 -->\n      <g transform=\"translate(21.15625 144.271903) scale(0.1 -0.1)\">\n       <defs>\n        <path id=\"DejaVuSans-36\" d=\"M 2113 2584 \nQ 1688 2584 1439 2293 \nQ 1191 2003 1191 1497 \nQ 1191 994 1439 701 \nQ 1688 409 2113 409 \nQ 2538 409 2786 701 \nQ 3034 994 3034 1497 \nQ 3034 2003 2786 2293 \nQ 2538 2584 2113 2584 \nz\nM 3366 4563 \nL 3366 3988 \nQ 3128 4100 2886 4159 \nQ 2644 4219 2406 4219 \nQ 1781 4219 1451 3797 \nQ 1122 3375 1075 2522 \nQ 1259 2794 1537 2939 \nQ 1816 3084 2150 3084 \nQ 2853 3084 3261 2657 \nQ 3669 2231 3669 1497 \nQ 3669 778 3244 343 \nQ 2819 -91 2113 -91 \nQ 1303 -91 875 529 \nQ 447 1150 447 2328 \nQ 447 3434 972 4092 \nQ 1497 4750 2381 4750 \nQ 2619 4750 2861 4703 \nQ 3103 4656 3366 4563 \nz\n\" transform=\"scale(0.015625)\"/>\n       </defs>\n       <use xlink:href=\"#DejaVuSans-30\"/>\n       <use xlink:href=\"#DejaVuSans-2e\" x=\"63.623047\"/>\n       <use xlink:href=\"#DejaVuSans-36\" x=\"95.410156\"/>\n      </g>\n     </g>\n    </g>\n    <g id=\"ytick_6\">\n     <g id=\"line2d_21\">\n      <path d=\"M 44.059375 103.585086 \nL 340.653515 103.585086 \n\" clip-path=\"url(#pd3fd8650dc)\" style=\"fill: none; stroke: #b0b0b0; stroke-opacity: 0.5; stroke-width: 0.8; stroke-linecap: square\"/>\n     </g>\n     <g id=\"line2d_22\">\n      <g>\n       <use xlink:href=\"#m58e1132a58\" x=\"44.059375\" y=\"103.585086\" style=\"stroke: #000000; stroke-width: 0.8\"/>\n      </g>\n     </g>\n     <g id=\"text_12\">\n      <!-- 0.7 -->\n      <g transform=\"translate(21.15625 107.384305) scale(0.1 -0.1)\">\n       <defs>\n        <path id=\"DejaVuSans-37\" d=\"M 525 4666 \nL 3525 4666 \nL 3525 4397 \nL 1831 0 \nL 1172 0 \nL 2766 4134 \nL 525 4134 \nL 525 4666 \nz\n\" transform=\"scale(0.015625)\"/>\n       </defs>\n       <use xlink:href=\"#DejaVuSans-30\"/>\n       <use xlink:href=\"#DejaVuSans-2e\" x=\"63.623047\"/>\n       <use xlink:href=\"#DejaVuSans-37\" x=\"95.410156\"/>\n      </g>\n     </g>\n    </g>\n    <g id=\"ytick_7\">\n     <g id=\"line2d_23\">\n      <path d=\"M 44.059375 66.697488 \nL 340.653515 66.697488 \n\" clip-path=\"url(#pd3fd8650dc)\" style=\"fill: none; stroke: #b0b0b0; stroke-opacity: 0.5; stroke-width: 0.8; stroke-linecap: square\"/>\n     </g>\n     <g id=\"line2d_24\">\n      <g>\n       <use xlink:href=\"#m58e1132a58\" x=\"44.059375\" y=\"66.697488\" style=\"stroke: #000000; stroke-width: 0.8\"/>\n      </g>\n     </g>\n     <g id=\"text_13\">\n      <!-- 0.8 -->\n      <g transform=\"translate(21.15625 70.496706) scale(0.1 -0.1)\">\n       <defs>\n        <path id=\"DejaVuSans-38\" d=\"M 2034 2216 \nQ 1584 2216 1326 1975 \nQ 1069 1734 1069 1313 \nQ 1069 891 1326 650 \nQ 1584 409 2034 409 \nQ 2484 409 2743 651 \nQ 3003 894 3003 1313 \nQ 3003 1734 2745 1975 \nQ 2488 2216 2034 2216 \nz\nM 1403 2484 \nQ 997 2584 770 2862 \nQ 544 3141 544 3541 \nQ 544 4100 942 4425 \nQ 1341 4750 2034 4750 \nQ 2731 4750 3128 4425 \nQ 3525 4100 3525 3541 \nQ 3525 3141 3298 2862 \nQ 3072 2584 2669 2484 \nQ 3125 2378 3379 2068 \nQ 3634 1759 3634 1313 \nQ 3634 634 3220 271 \nQ 2806 -91 2034 -91 \nQ 1263 -91 848 271 \nQ 434 634 434 1313 \nQ 434 1759 690 2068 \nQ 947 2378 1403 2484 \nz\nM 1172 3481 \nQ 1172 3119 1398 2916 \nQ 1625 2713 2034 2713 \nQ 2441 2713 2670 2916 \nQ 2900 3119 2900 3481 \nQ 2900 3844 2670 4047 \nQ 2441 4250 2034 4250 \nQ 1625 4250 1398 4047 \nQ 1172 3844 1172 3481 \nz\n\" transform=\"scale(0.015625)\"/>\n       </defs>\n       <use xlink:href=\"#DejaVuSans-30\"/>\n       <use xlink:href=\"#DejaVuSans-2e\" x=\"63.623047\"/>\n       <use xlink:href=\"#DejaVuSans-38\" x=\"95.410156\"/>\n      </g>\n     </g>\n    </g>\n    <g id=\"ytick_8\">\n     <g id=\"line2d_25\">\n      <path d=\"M 44.059375 29.809889 \nL 340.653515 29.809889 \n\" clip-path=\"url(#pd3fd8650dc)\" style=\"fill: none; stroke: #b0b0b0; stroke-opacity: 0.5; stroke-width: 0.8; stroke-linecap: square\"/>\n     </g>\n     <g id=\"line2d_26\">\n      <g>\n       <use xlink:href=\"#m58e1132a58\" x=\"44.059375\" y=\"29.809889\" style=\"stroke: #000000; stroke-width: 0.8\"/>\n      </g>\n     </g>\n     <g id=\"text_14\">\n      <!-- 0.9 -->\n      <g transform=\"translate(21.15625 33.609108) scale(0.1 -0.1)\">\n       <defs>\n        <path id=\"DejaVuSans-39\" d=\"M 703 97 \nL 703 672 \nQ 941 559 1184 500 \nQ 1428 441 1663 441 \nQ 2288 441 2617 861 \nQ 2947 1281 2994 2138 \nQ 2813 1869 2534 1725 \nQ 2256 1581 1919 1581 \nQ 1219 1581 811 2004 \nQ 403 2428 403 3163 \nQ 403 3881 828 4315 \nQ 1253 4750 1959 4750 \nQ 2769 4750 3195 4129 \nQ 3622 3509 3622 2328 \nQ 3622 1225 3098 567 \nQ 2575 -91 1691 -91 \nQ 1453 -91 1209 -44 \nQ 966 3 703 97 \nz\nM 1959 2075 \nQ 2384 2075 2632 2365 \nQ 2881 2656 2881 3163 \nQ 2881 3666 2632 3958 \nQ 2384 4250 1959 4250 \nQ 1534 4250 1286 3958 \nQ 1038 3666 1038 3163 \nQ 1038 2656 1286 2365 \nQ 1534 2075 1959 2075 \nz\n\" transform=\"scale(0.015625)\"/>\n       </defs>\n       <use xlink:href=\"#DejaVuSans-30\"/>\n       <use xlink:href=\"#DejaVuSans-2e\" x=\"63.623047\"/>\n       <use xlink:href=\"#DejaVuSans-39\" x=\"95.410156\"/>\n      </g>\n     </g>\n    </g>\n    <g id=\"text_15\">\n     <!-- conn_ratio -->\n     <g transform=\"translate(14.798438 186.994219) rotate(-90) scale(0.1 -0.1)\">\n      <defs>\n       <path id=\"DejaVuSans-63\" d=\"M 3122 3366 \nL 3122 2828 \nQ 2878 2963 2633 3030 \nQ 2388 3097 2138 3097 \nQ 1578 3097 1268 2742 \nQ 959 2388 959 1747 \nQ 959 1106 1268 751 \nQ 1578 397 2138 397 \nQ 2388 397 2633 464 \nQ 2878 531 3122 666 \nL 3122 134 \nQ 2881 22 2623 -34 \nQ 2366 -91 2075 -91 \nQ 1284 -91 818 406 \nQ 353 903 353 1747 \nQ 353 2603 823 3093 \nQ 1294 3584 2113 3584 \nQ 2378 3584 2631 3529 \nQ 2884 3475 3122 3366 \nz\n\" transform=\"scale(0.015625)\"/>\n       <path id=\"DejaVuSans-6f\" d=\"M 1959 3097 \nQ 1497 3097 1228 2736 \nQ 959 2375 959 1747 \nQ 959 1119 1226 758 \nQ 1494 397 1959 397 \nQ 2419 397 2687 759 \nQ 2956 1122 2956 1747 \nQ 2956 2369 2687 2733 \nQ 2419 3097 1959 3097 \nz\nM 1959 3584 \nQ 2709 3584 3137 3096 \nQ 3566 2609 3566 1747 \nQ 3566 888 3137 398 \nQ 2709 -91 1959 -91 \nQ 1206 -91 779 398 \nQ 353 888 353 1747 \nQ 353 2609 779 3096 \nQ 1206 3584 1959 3584 \nz\n\" transform=\"scale(0.015625)\"/>\n       <path id=\"DejaVuSans-6e\" d=\"M 3513 2113 \nL 3513 0 \nL 2938 0 \nL 2938 2094 \nQ 2938 2591 2744 2837 \nQ 2550 3084 2163 3084 \nQ 1697 3084 1428 2787 \nQ 1159 2491 1159 1978 \nL 1159 0 \nL 581 0 \nL 581 3500 \nL 1159 3500 \nL 1159 2956 \nQ 1366 3272 1645 3428 \nQ 1925 3584 2291 3584 \nQ 2894 3584 3203 3211 \nQ 3513 2838 3513 2113 \nz\n\" transform=\"scale(0.015625)\"/>\n       <path id=\"DejaVuSans-5f\" d=\"M 3263 -1063 \nL 3263 -1509 \nL -63 -1509 \nL -63 -1063 \nL 3263 -1063 \nz\n\" transform=\"scale(0.015625)\"/>\n       <path id=\"DejaVuSans-72\" d=\"M 2631 2963 \nQ 2534 3019 2420 3045 \nQ 2306 3072 2169 3072 \nQ 1681 3072 1420 2755 \nQ 1159 2438 1159 1844 \nL 1159 0 \nL 581 0 \nL 581 3500 \nL 1159 3500 \nL 1159 2956 \nQ 1341 3275 1631 3429 \nQ 1922 3584 2338 3584 \nQ 2397 3584 2469 3576 \nQ 2541 3569 2628 3553 \nL 2631 2963 \nz\n\" transform=\"scale(0.015625)\"/>\n       <path id=\"DejaVuSans-74\" d=\"M 1172 4494 \nL 1172 3500 \nL 2356 3500 \nL 2356 3053 \nL 1172 3053 \nL 1172 1153 \nQ 1172 725 1289 603 \nQ 1406 481 1766 481 \nL 2356 481 \nL 2356 0 \nL 1766 0 \nQ 1100 0 847 248 \nQ 594 497 594 1153 \nL 594 3053 \nL 172 3053 \nL 172 3500 \nL 594 3500 \nL 594 4494 \nL 1172 4494 \nz\n\" transform=\"scale(0.015625)\"/>\n      </defs>\n      <use xlink:href=\"#DejaVuSans-63\"/>\n      <use xlink:href=\"#DejaVuSans-6f\" x=\"54.980469\"/>\n      <use xlink:href=\"#DejaVuSans-6e\" x=\"116.162109\"/>\n      <use xlink:href=\"#DejaVuSans-6e\" x=\"179.541016\"/>\n      <use xlink:href=\"#DejaVuSans-5f\" x=\"242.919922\"/>\n      <use xlink:href=\"#DejaVuSans-72\" x=\"292.919922\"/>\n      <use xlink:href=\"#DejaVuSans-61\" x=\"334.033203\"/>\n      <use xlink:href=\"#DejaVuSans-74\" x=\"395.3125\"/>\n      <use xlink:href=\"#DejaVuSans-69\" x=\"434.521484\"/>\n      <use xlink:href=\"#DejaVuSans-6f\" x=\"462.304688\"/>\n     </g>\n    </g>\n   </g>\n   <g id=\"line2d_27\">\n    <path d=\"M 57.540927 22.613648 \nL 124.948686 54.675576 \nL 192.356445 110.348023 \nL 259.764204 148.85901 \nL 327.171963 196.447415 \n\" clip-path=\"url(#pd3fd8650dc)\" style=\"fill: none; stroke: #1f77b4; stroke-width: 1.5; stroke-linecap: square\"/>\n   </g>\n   <g id=\"line2d_28\">\n    <path d=\"M 57.540927 22.613648 \nL 124.948686 136.232769 \nL 192.356445 217.673071 \nL 259.764204 262.654237 \nL 327.171963 297.073409 \n\" clip-path=\"url(#pd3fd8650dc)\" style=\"fill: none; stroke-dasharray: 6,2.25; stroke-dashoffset: 0; stroke: #ff7f0e; stroke-width: 1.5\"/>\n   </g>\n   <g id=\"line2d_29\">\n    <path d=\"M 57.540927 22.613648 \nL 124.948686 28.859586 \nL 192.356445 82.333553 \nL 259.764204 117.233498 \nL 327.171963 170.364329 \n\" clip-path=\"url(#pd3fd8650dc)\" style=\"fill: none; stroke-dasharray: 1.5,1.5; stroke-dashoffset: 0; stroke: #2ca02c; stroke-width: 1.5\"/>\n   </g>\n   <g id=\"line2d_30\"/>\n   <g id=\"line2d_31\"/>\n   <g id=\"line2d_32\"/>\n   <g id=\"patch_3\">\n    <path d=\"M 44.059375 314.44 \nL 44.059375 7.2 \n\" style=\"fill: none; stroke: #000000; stroke-width: 0.8; stroke-linejoin: miter; stroke-linecap: square\"/>\n   </g>\n   <g id=\"patch_4\">\n    <path d=\"M 44.059375 314.44 \nL 340.653515 314.44 \n\" style=\"fill: none; stroke: #000000; stroke-width: 0.8; stroke-linejoin: miter; stroke-linecap: square\"/>\n   </g>\n  </g>\n  <g id=\"legend_1\">\n   <g id=\"text_16\">\n    <!-- algogw -->\n    <g transform=\"translate(366.918034 156.323125) scale(0.1 -0.1)\">\n     <defs>\n      <path id=\"DejaVuSans-67\" d=\"M 2906 1791 \nQ 2906 2416 2648 2759 \nQ 2391 3103 1925 3103 \nQ 1463 3103 1205 2759 \nQ 947 2416 947 1791 \nQ 947 1169 1205 825 \nQ 1463 481 1925 481 \nQ 2391 481 2648 825 \nQ 2906 1169 2906 1791 \nz\nM 3481 434 \nQ 3481 -459 3084 -895 \nQ 2688 -1331 1869 -1331 \nQ 1566 -1331 1297 -1286 \nQ 1028 -1241 775 -1147 \nL 775 -588 \nQ 1028 -725 1275 -790 \nQ 1522 -856 1778 -856 \nQ 2344 -856 2625 -561 \nQ 2906 -266 2906 331 \nL 2906 616 \nQ 2728 306 2450 153 \nQ 2172 0 1784 0 \nQ 1141 0 747 490 \nQ 353 981 353 1791 \nQ 353 2603 747 3093 \nQ 1141 3584 1784 3584 \nQ 2172 3584 2450 3431 \nQ 2728 3278 2906 2969 \nL 2906 3500 \nL 3481 3500 \nL 3481 434 \nz\n\" transform=\"scale(0.015625)\"/>\n      <path id=\"DejaVuSans-77\" d=\"M 269 3500 \nL 844 3500 \nL 1563 769 \nL 2278 3500 \nL 2956 3500 \nL 3675 769 \nL 4391 3500 \nL 4966 3500 \nL 4050 0 \nL 3372 0 \nL 2619 2869 \nL 1863 0 \nL 1184 0 \nL 269 3500 \nz\n\" transform=\"scale(0.015625)\"/>\n     </defs>\n     <use xlink:href=\"#DejaVuSans-61\"/>\n     <use xlink:href=\"#DejaVuSans-6c\" x=\"61.279297\"/>\n     <use xlink:href=\"#DejaVuSans-67\" x=\"89.0625\"/>\n     <use xlink:href=\"#DejaVuSans-6f\" x=\"152.539062\"/>\n     <use xlink:href=\"#DejaVuSans-67\" x=\"213.720703\"/>\n     <use xlink:href=\"#DejaVuSans-77\" x=\"277.197266\"/>\n    </g>\n   </g>\n   <g id=\"line2d_33\">\n    <path d=\"M 346.654752 167.50125 \nL 356.654752 167.50125 \nL 366.654752 167.50125 \n\" style=\"fill: none; stroke: #1f77b4; stroke-width: 1.5; stroke-linecap: square\"/>\n   </g>\n   <g id=\"text_17\">\n    <!-- dijkstra_2 -->\n    <g transform=\"translate(374.654752 171.00125) scale(0.1 -0.1)\">\n     <defs>\n      <path id=\"DejaVuSans-6a\" d=\"M 603 3500 \nL 1178 3500 \nL 1178 -63 \nQ 1178 -731 923 -1031 \nQ 669 -1331 103 -1331 \nL -116 -1331 \nL -116 -844 \nL 38 -844 \nQ 366 -844 484 -692 \nQ 603 -541 603 -63 \nL 603 3500 \nz\nM 603 4863 \nL 1178 4863 \nL 1178 4134 \nL 603 4134 \nL 603 4863 \nz\n\" transform=\"scale(0.015625)\"/>\n      <path id=\"DejaVuSans-6b\" d=\"M 581 4863 \nL 1159 4863 \nL 1159 1991 \nL 2875 3500 \nL 3609 3500 \nL 1753 1863 \nL 3688 0 \nL 2938 0 \nL 1159 1709 \nL 1159 0 \nL 581 0 \nL 581 4863 \nz\n\" transform=\"scale(0.015625)\"/>\n      <path id=\"DejaVuSans-73\" d=\"M 2834 3397 \nL 2834 2853 \nQ 2591 2978 2328 3040 \nQ 2066 3103 1784 3103 \nQ 1356 3103 1142 2972 \nQ 928 2841 928 2578 \nQ 928 2378 1081 2264 \nQ 1234 2150 1697 2047 \nL 1894 2003 \nQ 2506 1872 2764 1633 \nQ 3022 1394 3022 966 \nQ 3022 478 2636 193 \nQ 2250 -91 1575 -91 \nQ 1294 -91 989 -36 \nQ 684 19 347 128 \nL 347 722 \nQ 666 556 975 473 \nQ 1284 391 1588 391 \nQ 1994 391 2212 530 \nQ 2431 669 2431 922 \nQ 2431 1156 2273 1281 \nQ 2116 1406 1581 1522 \nL 1381 1569 \nQ 847 1681 609 1914 \nQ 372 2147 372 2553 \nQ 372 3047 722 3315 \nQ 1072 3584 1716 3584 \nQ 2034 3584 2315 3537 \nQ 2597 3491 2834 3397 \nz\n\" transform=\"scale(0.015625)\"/>\n     </defs>\n     <use xlink:href=\"#DejaVuSans-64\"/>\n     <use xlink:href=\"#DejaVuSans-69\" x=\"63.476562\"/>\n     <use xlink:href=\"#DejaVuSans-6a\" x=\"91.259766\"/>\n     <use xlink:href=\"#DejaVuSans-6b\" x=\"119.042969\"/>\n     <use xlink:href=\"#DejaVuSans-73\" x=\"176.953125\"/>\n     <use xlink:href=\"#DejaVuSans-74\" x=\"229.052734\"/>\n     <use xlink:href=\"#DejaVuSans-72\" x=\"268.261719\"/>\n     <use xlink:href=\"#DejaVuSans-61\" x=\"309.375\"/>\n     <use xlink:href=\"#DejaVuSans-5f\" x=\"370.654297\"/>\n     <use xlink:href=\"#DejaVuSans-32\" x=\"420.654297\"/>\n    </g>\n   </g>\n   <g id=\"line2d_34\">\n    <path d=\"M 346.654752 182.4575 \nL 356.654752 182.4575 \nL 366.654752 182.4575 \n\" style=\"fill: none; stroke-dasharray: 6,2.25; stroke-dashoffset: 0; stroke: #ff7f0e; stroke-width: 1.5\"/>\n   </g>\n   <g id=\"text_18\">\n    <!-- dijkstra_1 -->\n    <g transform=\"translate(374.654752 185.9575) scale(0.1 -0.1)\">\n     <use xlink:href=\"#DejaVuSans-64\"/>\n     <use xlink:href=\"#DejaVuSans-69\" x=\"63.476562\"/>\n     <use xlink:href=\"#DejaVuSans-6a\" x=\"91.259766\"/>\n     <use xlink:href=\"#DejaVuSans-6b\" x=\"119.042969\"/>\n     <use xlink:href=\"#DejaVuSans-73\" x=\"176.953125\"/>\n     <use xlink:href=\"#DejaVuSans-74\" x=\"229.052734\"/>\n     <use xlink:href=\"#DejaVuSans-72\" x=\"268.261719\"/>\n     <use xlink:href=\"#DejaVuSans-61\" x=\"309.375\"/>\n     <use xlink:href=\"#DejaVuSans-5f\" x=\"370.654297\"/>\n     <use xlink:href=\"#DejaVuSans-31\" x=\"420.654297\"/>\n    </g>\n   </g>\n   <g id=\"line2d_35\">\n    <path d=\"M 346.654752 197.41375 \nL 356.654752 197.41375 \nL 366.654752 197.41375 \n\" style=\"fill: none; stroke-dasharray: 1.5,1.5; stroke-dashoffset: 0; stroke: #2ca02c; stroke-width: 1.5\"/>\n   </g>\n   <g id=\"text_19\">\n    <!-- espfp_2 -->\n    <g transform=\"translate(374.654752 200.91375) scale(0.1 -0.1)\">\n     <defs>\n      <path id=\"DejaVuSans-70\" d=\"M 1159 525 \nL 1159 -1331 \nL 581 -1331 \nL 581 3500 \nL 1159 3500 \nL 1159 2969 \nQ 1341 3281 1617 3432 \nQ 1894 3584 2278 3584 \nQ 2916 3584 3314 3078 \nQ 3713 2572 3713 1747 \nQ 3713 922 3314 415 \nQ 2916 -91 2278 -91 \nQ 1894 -91 1617 61 \nQ 1341 213 1159 525 \nz\nM 3116 1747 \nQ 3116 2381 2855 2742 \nQ 2594 3103 2138 3103 \nQ 1681 3103 1420 2742 \nQ 1159 2381 1159 1747 \nQ 1159 1113 1420 752 \nQ 1681 391 2138 391 \nQ 2594 391 2855 752 \nQ 3116 1113 3116 1747 \nz\n\" transform=\"scale(0.015625)\"/>\n     </defs>\n     <use xlink:href=\"#DejaVuSans-65\"/>\n     <use xlink:href=\"#DejaVuSans-73\" x=\"61.523438\"/>\n     <use xlink:href=\"#DejaVuSans-70\" x=\"113.623047\"/>\n     <use xlink:href=\"#DejaVuSans-66\" x=\"177.099609\"/>\n     <use xlink:href=\"#DejaVuSans-70\" x=\"212.304688\"/>\n     <use xlink:href=\"#DejaVuSans-5f\" x=\"275.78125\"/>\n     <use xlink:href=\"#DejaVuSans-32\" x=\"325.78125\"/>\n    </g>\n   </g>\n  </g>\n </g>\n <defs>\n  <clipPath id=\"pd3fd8650dc\">\n   <rect x=\"44.059375\" y=\"7.2\" width=\"296.59414\" height=\"307.24\"/>\n  </clipPath>\n </defs>\n</svg>\n",
      "text/plain": [
       "<Figure size 617.75x500 with 1 Axes>"
      ]
     },
     "metadata": {},
     "output_type": "display_data"
    }
   ],
   "source": [
    "con_fw_df['algogw'] = con_fw_df.apply(lambda x:f'{x.algo}_{x.n_gw}', axis=1)\n",
    "g = sns.relplot(data=con_fw_df[con_fw_df.cluster_size == 200], x='failed', y='conn_ratio', hue='algogw', kind='line', style='algogw')#markers='o', style='failed')\n",
    "for ax in g.axes.flatten():\n",
    "    ax.grid(alpha=0.5)\n",
    "    #ax.set_ylim([0.9,1.0])"
   ]
  },
  {
   "attachments": {},
   "cell_type": "markdown",
   "metadata": {},
   "source": [
    "minimum bandwidth over failed gws"
   ]
  },
  {
   "cell_type": "code",
   "execution_count": null,
   "metadata": {},
   "outputs": [],
   "source": [
    "mac_efficiency = 0.84\n",
    "\n",
    "def calc_speeds(graph, gws):\n",
    "    g = graph.copy()\n",
    "    results = []\n",
    "    area, ratio, cluster_size, algo, n_gw, time, random_seed = re.split('[._/]', f)[1:8]\n",
    "    cluster_size = int(cluster_size)\n",
    "    ratio = int(ratio)\n",
    "    paths = nx.multi_source_dijkstra_path(g, gws, weight='dist')\n",
    "    #print(gws, len(paths), sorted(paths.items()))\n",
    "    speeds = []\n",
    "    for n in g.nodes():\n",
    "        if g.degree()[n]>0:\n",
    "            caps = []\n",
    "            n_paths = 0\n",
    "            for neigh in g[n].keys():\n",
    "                caps.append(calc_speed(g, n, neigh))\n",
    "                n_paths += g[n][neigh]['paths']\n",
    "            g.nodes[n]['capacity'] = g.nodes[n]['n_ant'] * np.mean(caps)\n",
    "            #print(f\"{g.nodes[n].get('paths', 0)} {n_paths}\")\n",
    "            g.nodes[n]['paths'] = n_paths\n",
    "            g.nodes[n]['bottleneck'] = g.nodes[n]['capacity'] / n_paths\n",
    "\n",
    "    for src, p in paths.items():\n",
    "        if src in gws:\n",
    "            continue\n",
    "        #min_bw = calc_minbw(w_g, p)\n",
    "        min_bw = calc_minbw_gab(g, p)\n",
    "        max_bw = calc_maxbw(g, p)\n",
    "        for s in range(g.nodes(data=True)[src]['subscriptions']):\n",
    "            results.append({'min_bw': mac_efficiency*min_bw, 'max_bw': mac_efficiency*max_bw})\n",
    "    return results\n",
    "\n",
    "data = []\n",
    "results = []\n",
    "results_nodes = []\n",
    "for g_id, (f, w_g, f_g, n_subs) in enumerate(graphs[:]):\n",
    "    measures = {}\n",
    "    area, ratio, cluster_size, algo, n_gw, time, random_seed = re.split('[._/]', f)[1:8]\n",
    "    if n_gw == '1':\n",
    "        #it's useless to compute the bw with only 1 gw\n",
    "        continue\n",
    "    cluster_size = int(cluster_size)\n",
    "    ratio = int(ratio)\n",
    "    nodes_df = pd.DataFrame([d[1] for d in w_g.nodes(data=True)]).set_index('id')\n",
    "    clusters = nodes_df.cluster.unique()\n",
    "    for c in clusters:\n",
    "        nodes_c = nodes_df[nodes_df.cluster == c]\n",
    "        g_c = nx.subgraph(w_g, map(str, nodes_c.index.values))\n",
    "        gw_c = nodes_c[nodes_c.type == 'gateway'].index.values\n",
    "        speeds =  calc_speeds(g_c, list(map(str,gw_c)))\n",
    "        avg_min = np.mean([s['min_bw'] for s in speeds])\n",
    "        base_dict = {'area': area, \n",
    "                        'ratio': ratio, \n",
    "                        'cluster_size': cluster_size, \n",
    "                        'n_gw': int(n_gw),\n",
    "                        'failed': '0',\n",
    "                        'algo': algo,\n",
    "                        'nodes': len(g_c),\n",
    "                        'cluster': c                    \n",
    "                    }\n",
    "        for s in speeds:\n",
    "                results_nodes.append(s | base_dict)\n",
    "        if len(gw_c) == 1:\n",
    "            continue #weird corner case with only 1GW\n",
    "        for gw_i in range(2):\n",
    "            dead_gw = str(gw_c[gw_i])\n",
    "            alive_gw = str(gw_c[int(not gw_i)])\n",
    "            g_c = nx.subgraph(w_g, map(str, nodes_c.index.values)).copy()\n",
    "            g_c.remove_node(dead_gw)\n",
    "            #recompute the paths passing through the edges\n",
    "            compute_paths(g_c, [alive_gw])\n",
    "            #compute speeds\n",
    "            speeds =  calc_speeds(g_c, [alive_gw])\n",
    "            avg_min = np.mean([s['min_bw'] for s in speeds])\n",
    "            base_dict = {'area': area, \n",
    "                         'ratio': ratio, \n",
    "                         'cluster_size': cluster_size, \n",
    "                         'n_gw': int(n_gw),\n",
    "                         'failed': '1',\n",
    "                         'algo': algo,\n",
    "                         'nodes': len(g_c),\n",
    "                         'cluster': c\n",
    "                        }\n",
    "            for s in speeds:\n",
    "                results_nodes.append(s | base_dict)    \n",
    "\n",
    "bw_fail_gw = pd.DataFrame(results_nodes)"
   ]
  },
  {
   "cell_type": "code",
   "execution_count": 16,
   "metadata": {},
   "outputs": [
    {
     "name": "stdout",
     "output_type": "stream",
     "text": [
      "             mean                              ci                    \n",
      "ratio         25         50         100       25        50        100\n",
      "failed                                                               \n",
      "0       11.772780  11.497969  10.546345  0.056499  0.036818  0.022618\n",
      "1        5.946099   5.897993   5.743877  0.024966  0.016056  0.011502\n"
     ]
    },
    {
     "name": "stderr",
     "output_type": "stream",
     "text": [
      "/tmp/ipykernel_4156141/2178683843.py:1: FutureWarning: In a future version of pandas all arguments of DataFrame.pivot will be keyword-only.\n",
      "  fail_bw = bw_fail_gw[(bw_fail_gw.cluster_size==200) & (bw_fail_gw.n_gw == 2)].groupby(['ratio', 'failed']).min_bw.agg(['mean', ci]).reset_index().pivot('failed', 'ratio')\n"
     ]
    }
   ],
   "source": [
    "fail_bw = bw_fail_gw[(bw_fail_gw.cluster_size==200) & (bw_fail_gw.n_gw == 2)].groupby(['ratio', 'failed']).min_bw.agg(['mean', ci]).reset_index().pivot('failed', 'ratio')\n",
    "\n",
    "# fail_bw.columns = [f'{c[0]}_{c[1]}' for c in fail_bw.columns]\n",
    "# to_csv_comment(fail_bw, f'/home/gabriel/WORKS/TrueNets/CNSM22/processed/min_bw_ext.csv')\n",
    "print(fail_bw)"
   ]
  },
  {
   "cell_type": "code",
   "execution_count": 17,
   "metadata": {},
   "outputs": [
    {
     "name": "stdout",
     "output_type": "stream",
     "text": [
      "           mean_25   mean_50    mean_100     ci_25     ci_50    ci_100\n",
      "failed                                                                \n",
      "0       335.584193  335.8254  335.891689  0.038607  0.015193  0.008631\n",
      "1       332.347232  333.8713  333.962301  0.079838  0.042165  0.032105\n"
     ]
    },
    {
     "name": "stderr",
     "output_type": "stream",
     "text": [
      "/tmp/ipykernel_4156141/3062950017.py:1: FutureWarning: In a future version of pandas all arguments of DataFrame.pivot will be keyword-only.\n",
      "  fail_bw = bw_fail_gw[(bw_fail_gw.cluster_size==200) & (bw_fail_gw.n_gw == 2)].groupby(['ratio', 'failed']).max_bw.agg(['mean', ci]).reset_index().pivot('failed', 'ratio')\n"
     ]
    }
   ],
   "source": [
    "fail_bw = bw_fail_gw[(bw_fail_gw.cluster_size==200) & (bw_fail_gw.n_gw == 2)].groupby(['ratio', 'failed']).max_bw.agg(['mean', ci]).reset_index().pivot('failed', 'ratio')\n",
    "\n",
    "fail_bw.columns = [f'{c[0]}_{c[1]}' for c in fail_bw.columns]\n",
    "to_csv_comment(fail_bw, f'/home/gabriel/WORKS/TrueNets/CNSM22/processed/max_bw_ext.csv')\n",
    "print(fail_bw)"
   ]
  },
  {
   "attachments": {},
   "cell_type": "markdown",
   "metadata": {},
   "source": [
    "Link resiliency (deprecated)"
   ]
  },
  {
   "cell_type": "code",
   "execution_count": 18,
   "metadata": {},
   "outputs": [
    {
     "ename": "KeyboardInterrupt",
     "evalue": "",
     "output_type": "error",
     "traceback": [
      "\u001b[0;31m---------------------------------------------------------------------------\u001b[0m",
      "\u001b[0;31mKeyboardInterrupt\u001b[0m                         Traceback (most recent call last)",
      "Cell \u001b[0;32mIn[18], line 17\u001b[0m\n\u001b[1;32m     15\u001b[0m     to_rem \u001b[39m=\u001b[39m [random\u001b[39m.\u001b[39mchoice(\u001b[39mlist\u001b[39m(g\u001b[39m.\u001b[39medges()))]\n\u001b[1;32m     16\u001b[0m     g\u001b[39m.\u001b[39mremove_edges_from(to_rem)\n\u001b[0;32m---> 17\u001b[0m paths \u001b[39m=\u001b[39m nx\u001b[39m.\u001b[39;49mmulti_source_dijkstra_path_length(g, gws)\n\u001b[1;32m     18\u001b[0m connected \u001b[39m=\u001b[39m \u001b[39msum\u001b[39m([g\u001b[39m.\u001b[39mnodes[p][\u001b[39m'\u001b[39m\u001b[39msubscriptions\u001b[39m\u001b[39m'\u001b[39m] \u001b[39mfor\u001b[39;00m p \u001b[39min\u001b[39;00m paths\u001b[39m.\u001b[39mkeys()])\n\u001b[1;32m     19\u001b[0m all_sums \u001b[39m=\u001b[39m \u001b[39msum\u001b[39m([g\u001b[39m.\u001b[39mnodes[n][\u001b[39m'\u001b[39m\u001b[39msubscriptions\u001b[39m\u001b[39m'\u001b[39m] \u001b[39mfor\u001b[39;00m n \u001b[39min\u001b[39;00m g\u001b[39m.\u001b[39mnodes()])\n",
      "File \u001b[0;32m~/.virtualenvs/phigraph/lib/python3.11/site-packages/networkx/algorithms/shortest_paths/weighted.py:628\u001b[0m, in \u001b[0;36mmulti_source_dijkstra_path_length\u001b[0;34m(G, sources, cutoff, weight)\u001b[0m\n\u001b[1;32m    626\u001b[0m         \u001b[39mraise\u001b[39;00m nx\u001b[39m.\u001b[39mNodeNotFound(\u001b[39mf\u001b[39m\u001b[39m\"\u001b[39m\u001b[39mNode \u001b[39m\u001b[39m{\u001b[39;00ms\u001b[39m}\u001b[39;00m\u001b[39m not found in graph\u001b[39m\u001b[39m\"\u001b[39m)\n\u001b[1;32m    627\u001b[0m weight \u001b[39m=\u001b[39m _weight_function(G, weight)\n\u001b[0;32m--> 628\u001b[0m \u001b[39mreturn\u001b[39;00m _dijkstra_multisource(G, sources, weight, cutoff\u001b[39m=\u001b[39;49mcutoff)\n",
      "File \u001b[0;32m~/.virtualenvs/phigraph/lib/python3.11/site-packages/networkx/algorithms/shortest_paths/weighted.py:838\u001b[0m, in \u001b[0;36m_dijkstra_multisource\u001b[0;34m(G, sources, weight, pred, paths, cutoff, target)\u001b[0m\n\u001b[1;32m    836\u001b[0m     \u001b[39mbreak\u001b[39;00m\n\u001b[1;32m    837\u001b[0m \u001b[39mfor\u001b[39;00m u, e \u001b[39min\u001b[39;00m G_succ[v]\u001b[39m.\u001b[39mitems():\n\u001b[0;32m--> 838\u001b[0m     cost \u001b[39m=\u001b[39m weight(v, u, e)\n\u001b[1;32m    839\u001b[0m     \u001b[39mif\u001b[39;00m cost \u001b[39mis\u001b[39;00m \u001b[39mNone\u001b[39;00m:\n\u001b[1;32m    840\u001b[0m         \u001b[39mcontinue\u001b[39;00m\n",
      "File \u001b[0;32m~/.virtualenvs/phigraph/lib/python3.11/site-packages/networkx/algorithms/shortest_paths/weighted.py:78\u001b[0m, in \u001b[0;36m_weight_function.<locals>.<lambda>\u001b[0;34m(u, v, data)\u001b[0m\n\u001b[1;32m     76\u001b[0m \u001b[39mif\u001b[39;00m G\u001b[39m.\u001b[39mis_multigraph():\n\u001b[1;32m     77\u001b[0m     \u001b[39mreturn\u001b[39;00m \u001b[39mlambda\u001b[39;00m u, v, d: \u001b[39mmin\u001b[39m(attr\u001b[39m.\u001b[39mget(weight, \u001b[39m1\u001b[39m) \u001b[39mfor\u001b[39;00m attr \u001b[39min\u001b[39;00m d\u001b[39m.\u001b[39mvalues())\n\u001b[0;32m---> 78\u001b[0m \u001b[39mreturn\u001b[39;00m \u001b[39mlambda\u001b[39;00m u, v, data: data\u001b[39m.\u001b[39mget(weight, \u001b[39m1\u001b[39m)\n",
      "\u001b[0;31mKeyboardInterrupt\u001b[0m: "
     ]
    }
   ],
   "source": [
    "\n",
    "# results = []\n",
    "# for g_id, (f, w_g, f_g, n_subs) in enumerate(graphs[:]):\n",
    "\n",
    "#     measures = {}\n",
    "#     area, ratio, cluster_size, algo, n_gw, time, random_seed = re.split('[._/]', f)[1:8]\n",
    "#     cluster_size = int(cluster_size)\n",
    "#     ratio = int(ratio)\n",
    "#     nodes_df = pd.DataFrame([d[1] for d in w_g.nodes(data=True)]).set_index('id')\n",
    "#     gws = list(map(str, nodes_df[nodes_df.type == 'gateway'].index.values))\n",
    "#     for r in range(10):\n",
    "#         g : nx.Graph = w_g.copy()\n",
    "#         for fails in range(0,10):\n",
    "#             connected = 0\n",
    "#             if fails>0 and len(g.edges()): #with 0 fails we don't want to remove any node\n",
    "#                 to_rem = [random.choice(list(g.edges()))]\n",
    "#                 g.remove_edges_from(to_rem)\n",
    "#             paths = nx.multi_source_dijkstra_path_length(g, gws)\n",
    "#             connected = sum([g.nodes[p]['subscriptions'] for p in paths.keys()])\n",
    "#             all_sums = sum([g.nodes[n]['subscriptions'] for n in g.nodes()])\n",
    "            \n",
    "#             base_dict = {'area': area, \n",
    "#                          'algo': algo,\n",
    "#                             'ratio': ratio, \n",
    "#                             'cluster_size': cluster_size, \n",
    "#                             'n_gw': int(n_gw), \n",
    "#                             'failed': str(fails)}\n",
    "#             #print(fails, connected, all_sums)\n",
    "#             results.append(base_dict | {'connected': connected, 'conn_ratio': connected/all_sums, 'tot_gws': len(rnd_gws), 'all_sums': all_sums})\n",
    "#         del g\n",
    "\n",
    "# linkres_df = pd.DataFrame(results)\n"
   ]
  },
  {
   "cell_type": "code",
   "execution_count": null,
   "metadata": {},
   "outputs": [],
   "source": [
    "# g = sns.relplot(data=linkres_df, x='failed',y='conn_ratio', col='cluster_size', kind='line', hue='n_gw', style='algo')\n",
    "# for ax in g.axes.flatten():\n",
    "#     ax.grid(alpha=0.5)\n",
    "#     #ax.set_ylim([0.9,1.0])"
   ]
  },
  {
   "attachments": {},
   "cell_type": "markdown",
   "metadata": {},
   "source": [
    "Antenna resiliency per network (stuck in while lookp)"
   ]
  },
  {
   "cell_type": "code",
   "execution_count": null,
   "metadata": {},
   "outputs": [],
   "source": [
    "# mac_efficiency = 0.84\n",
    "# from tqdm import tqdm\n",
    "\n",
    "# data = []\n",
    "# results = []\n",
    "# results_nodes = []\n",
    "# for g_id, (f, w_g, f_g, n_subs) in enumerate(graphs[:]):\n",
    "\n",
    "#     measures = {}\n",
    "#     area, ratio, cluster_size, algo, n_gw, time, random_seed = re.split('[._/]', f)[1:8]\n",
    "#     cluster_size = int(cluster_size)\n",
    "#     ratio = int(ratio)\n",
    "#     nodes_df = pd.DataFrame([d[1] for d in w_g.nodes(data=True)]).set_index('id')\n",
    "#     clusters = nodes_df.cluster.unique()\n",
    "#     for r in range(10):\n",
    "#         g : nx.Graph = w_g.copy()\n",
    "#         gws = list(map(str, nodes_df[nodes_df.type == 'gateway'].index.values))\n",
    "#         for fails in range(0,10):\n",
    "#             connected = 0\n",
    "#             if fails>0: #with 0 fails we don't want to remove any node\n",
    "#                 n,d = random.choice(list(g.nodes(data=True)))\n",
    "#                 while(g.degree(n) == 0 or d.get('n_ant', 0) == 0): #if i pick up an unconnected node, retry\n",
    "#                     n,d = random.choice(list(g.nodes(data=True)))\n",
    "#                 edges_per_ant = len(g[n])/d['n_ant']\n",
    "#                 edges_to_kill = round(edges_per_ant+random.random()-0.5)\n",
    "#                 to_rem = [(n, tgt) for tgt in random.sample(list(nx.neighbors(g, n)), k=edges_to_kill)]\n",
    "#                 g.remove_edges_from(to_rem)\n",
    "#                 g.nodes[n]['n_ant'] -= 1\n",
    "#                 #if(g.nodes[n]['n_ant'] == 0):\n",
    "#                     #if n in gws:\n",
    "#                         #gws.remove(n)\n",
    "#                         #print(f\"removed {n}\")\n",
    "#             paths = nx.multi_source_dijkstra_path_length(g, gws)\n",
    "#             connected = sum([g.nodes[p]['subscriptions'] for p in paths.keys()])\n",
    "#             all_sums = sum([g.nodes[n]['subscriptions'] for n in g.nodes()])\n",
    "            \n",
    "#             base_dict = {'area': area, \n",
    "#                          'algo': algo,\n",
    "#                         'ratio': ratio, \n",
    "#                         'cluster_size': cluster_size, \n",
    "#                         'n_gw': int(n_gw), \n",
    "#                         'failed': str(fails),\n",
    "#                         'edges': len(g.edges())}\n",
    "#             results.append(base_dict | {'connected': connected, 'conn_ratio': connected/all_sums, 'tot_gws': len(gws), 'all_sums': all_sums})\n",
    "\n",
    "# antres_df = pd.DataFrame(results)\n"
   ]
  },
  {
   "cell_type": "code",
   "execution_count": null,
   "metadata": {},
   "outputs": [],
   "source": [
    "# g = sns.relplot(data=antres_df, x='failed',y='conn_ratio', col='cluster_size', kind='line', hue='n_gw', style='algo')\n",
    "# for ax in g.axes.flatten():\n",
    "#     ax.grid(alpha=0.5) "
   ]
  },
  {
   "attachments": {},
   "cell_type": "markdown",
   "metadata": {},
   "source": [
    "Antenna resiliency per cluster"
   ]
  },
  {
   "cell_type": "code",
   "execution_count": 19,
   "metadata": {},
   "outputs": [],
   "source": [
    "mac_efficiency = 0.84\n",
    "from tqdm import tqdm\n",
    "\n",
    "data = []\n",
    "results = []\n",
    "results_nodes = []\n",
    "for g_id, (f, w_g, f_g, n_subs) in enumerate(graphs[:]):\n",
    "    #for each simulated network\n",
    "    measures = {}\n",
    "    area, ratio, cluster_size, algo, n_gw, time, random_seed = re.split('[._/]', f)[1:8]\n",
    "    cluster_size = int(cluster_size)\n",
    "    ratio = int(ratio)\n",
    "    nodes_df = pd.DataFrame([d[1] for d in w_g.nodes(data=True)]).set_index('id')\n",
    "    clusters = nodes_df.cluster.unique()\n",
    "    for c in clusters:\n",
    "        #for each cluster\n",
    "        nodes_c = nodes_df[nodes_df.cluster == c]\n",
    "        g_c = nx.subgraph(w_g, map(str, nodes_c.index.values))\n",
    "        gw_c = nodes_c[nodes_c.type == 'gateway'].index.values\n",
    "        for r in range(10):\n",
    "            #10 iid runs\n",
    "            g : nx.Graph = g_c.copy()\n",
    "            gws = list(map(str, gw_c))\n",
    "            for fails in range(10):\n",
    "                connected = 0\n",
    "                if fails>0: #with 0 fails we don't want to remove any node\n",
    "                    n,d = random.choice(list(g.nodes(data=True)))\n",
    "                    i=0\n",
    "                    while(g.degree(n) < 2 or d.get('n_ant', 0) == 0): #if i pick up an unconnected node, retry\n",
    "                        n,d = random.choice(list(g.nodes(data=True)))    \n",
    "                        i+=1\n",
    "                        if i == 50:\n",
    "                            break\n",
    "                    if d.get('n_ant',0) == 0:\n",
    "                        continue\n",
    "                    edges_per_ant = len(g[n])/d['n_ant']\n",
    "                    edges_to_kill = round(edges_per_ant+random.random()-0.5)\n",
    "                    to_rem = [(n, tgt) for tgt in random.sample(list(nx.neighbors(g, n)), k=edges_to_kill)]\n",
    "                    g.remove_edges_from(to_rem)\n",
    "                    g.nodes[n]['n_ant'] -= 1\n",
    "                paths = nx.multi_source_dijkstra_path_length(g, gws)\n",
    "                connected = sum([g.nodes[p]['subscriptions'] for p in paths.keys()])\n",
    "                all_sums = sum([g.nodes[n]['subscriptions'] for n in g.nodes()])\n",
    "                base_dict = {'area': area, \n",
    "                             'algo': algo,\n",
    "                            'ratio': ratio, \n",
    "                            'cluster_size': cluster_size, \n",
    "                            'n_gw': int(n_gw), \n",
    "                            'failed': str(fails),\n",
    "                            'edges': len(g.edges())}\n",
    "                results.append(base_dict | {'connected': connected, 'conn_ratio': connected/all_sums, 'tot_gws': len(gws), 'all_sums': all_sums})\n",
    "\n",
    "antres_custer_df = pd.DataFrame(results)\n"
   ]
  },
  {
   "cell_type": "code",
   "execution_count": 52,
   "metadata": {},
   "outputs": [
    {
     "name": "stderr",
     "output_type": "stream",
     "text": [
      "/tmp/ipykernel_4156141/164768801.py:1: FutureWarning: In a future version of pandas all arguments of DataFrame.pivot will be keyword-only.\n",
      "  out = antres_custer_df[antres_custer_df.n_gw == 1].groupby(['cluster_size', 'failed']).conn_ratio.agg(['mean', ci]).reset_index().pivot('failed', 'cluster_size')\n"
     ]
    }
   ],
   "source": [
    "out = antres_custer_df[antres_custer_df.n_gw == 1].groupby(['cluster_size', 'failed']).conn_ratio.agg(['mean', ci]).reset_index().pivot('failed', 'cluster_size')\n",
    "out.columns = [f\"{c[0]}_{c[1]}\" for c in out.columns]\n",
    "to_csv_comment(out, f'/home/gabriel/WORKS/TrueNets/CNSM22/processed/connectivity_radio.csv')"
   ]
  },
  {
   "cell_type": "code",
   "execution_count": 20,
   "metadata": {},
   "outputs": [
    {
     "data": {
      "application/pdf": "[encoded data removed]",
      "image/svg+xml": "<?xml version=\"1.0\" encoding=\"utf-8\" standalone=\"no\"?>\n<!DOCTYPE svg PUBLIC \"-//W3C//DTD SVG 1.1//EN\"\n  \"http://www.w3.org/Graphics/SVG/1.1/DTD/svg11.dtd\">\n<svg xmlns:xlink=\"http://www.w3.org/1999/xlink\" width=\"416.068291pt\" height=\"351.99625pt\" viewBox=\"0 0 416.068291 351.99625\" xmlns=\"http://www.w3.org/2000/svg\" version=\"1.1\">\n <metadata>\n  <rdf:RDF xmlns:dc=\"http://purl.org/dc/elements/1.1/\" xmlns:cc=\"http://creativecommons.org/ns#\" xmlns:rdf=\"http://www.w3.org/1999/02/22-rdf-syntax-ns#\">\n   <cc:Work>\n    <dc:type rdf:resource=\"http://purl.org/dc/dcmitype/StillImage\"/>\n    <dc:date>2023-03-21T16:24:09.740141</dc:date>\n    <dc:format>image/svg+xml</dc:format>\n    <dc:creator>\n     <cc:Agent>\n      <dc:title>Matplotlib v3.7.1, https://matplotlib.org/</dc:title>\n     </cc:Agent>\n    </dc:creator>\n   </cc:Work>\n  </rdf:RDF>\n </metadata>\n <defs>\n  <style type=\"text/css\">*{stroke-linejoin: round; stroke-linecap: butt}</style>\n </defs>\n <g id=\"figure_1\">\n  <g id=\"patch_1\">\n   <path d=\"M 0 351.99625 \nL 416.068291 351.99625 \nL 416.068291 0 \nL 0 0 \nz\n\" style=\"fill: #ffffff\"/>\n  </g>\n  <g id=\"axes_1\">\n   <g id=\"patch_2\">\n    <path d=\"M 44.059375 314.44 \nL 343.285091 314.44 \nL 343.285091 7.2 \nL 44.059375 7.2 \nz\n\" style=\"fill: #ffffff\"/>\n   </g>\n   <g id=\"PolyCollection_1\">\n    <defs>\n     <path id=\"m309a235230\" d=\"M 57.660544 -328.059339 \nL 57.660544 -327.084789 \nL 87.885364 -289.301686 \nL 118.110183 -247.695845 \nL 148.335003 -206.933268 \nL 178.559823 -170.39421 \nL 208.784643 -137.941844 \nL 239.009462 -110.495466 \nL 269.234282 -87.007655 \nL 299.459102 -67.329032 \nL 329.683922 -51.521705 \nL 329.683922 -52.878548 \nL 329.683922 -52.878548 \nL 299.459102 -68.905223 \nL 269.234282 -88.683076 \nL 239.009462 -112.210059 \nL 208.784643 -139.718502 \nL 178.559823 -172.188851 \nL 148.335003 -208.576388 \nL 118.110183 -249.261325 \nL 87.885364 -290.548415 \nL 57.660544 -328.059339 \nz\n\" style=\"stroke: #edd1cb; stroke-opacity: 0.2\"/>\n    </defs>\n    <g clip-path=\"url(#pc145333b8a)\">\n     <use xlink:href=\"#m309a235230\" x=\"0\" y=\"351.99625\" style=\"fill: #edd1cb; fill-opacity: 0.2; stroke: #edd1cb; stroke-opacity: 0.2\"/>\n    </g>\n   </g>\n   <g id=\"PolyCollection_2\">\n    <defs>\n     <path id=\"m18bba523a4\" d=\"M 57.660544 -329.284859 \nL 57.660544 -327.965265 \nL 87.885364 -311.122161 \nL 118.110183 -292.207208 \nL 148.335003 -272.012192 \nL 178.559823 -251.566584 \nL 208.784643 -230.63318 \nL 239.009462 -210.506229 \nL 269.234282 -190.42319 \nL 299.459102 -171.892 \nL 329.683922 -153.538759 \nL 329.683922 -156.043999 \nL 329.683922 -156.043999 \nL 299.459102 -174.301279 \nL 269.234282 -192.93516 \nL 239.009462 -212.805375 \nL 208.784643 -232.899751 \nL 178.559823 -253.667389 \nL 148.335003 -273.897755 \nL 118.110183 -293.962164 \nL 87.885364 -312.608969 \nL 57.660544 -329.284859 \nz\n\" style=\"stroke: #c8879e; stroke-opacity: 0.2\"/>\n    </defs>\n    <g clip-path=\"url(#pc145333b8a)\">\n     <use xlink:href=\"#m18bba523a4\" x=\"0\" y=\"351.99625\" style=\"fill: #c8879e; fill-opacity: 0.2; stroke: #c8879e; stroke-opacity: 0.2\"/>\n    </g>\n   </g>\n   <g id=\"PolyCollection_3\">\n    <defs>\n     <path id=\"m5fda8587e4\" d=\"M 57.660544 -330.830795 \nL 57.660544 -329.229827 \nL 87.885364 -322.557932 \nL 118.110183 -315.292383 \nL 148.335003 -307.755199 \nL 178.559823 -299.433779 \nL 208.784643 -290.790382 \nL 239.009462 -282.018173 \nL 269.234282 -272.706049 \nL 299.459102 -263.390381 \nL 329.683922 -254.125554 \nL 329.683922 -256.587226 \nL 329.683922 -256.587226 \nL 299.459102 -265.662079 \nL 269.234282 -275.021689 \nL 239.009462 -284.140255 \nL 208.784643 -292.780554 \nL 178.559823 -301.500079 \nL 148.335003 -309.585143 \nL 118.110183 -317.018817 \nL 87.885364 -324.181989 \nL 57.660544 -330.830795 \nz\n\" style=\"stroke: #2d1e3e; stroke-opacity: 0.2\"/>\n    </defs>\n    <g clip-path=\"url(#pc145333b8a)\">\n     <use xlink:href=\"#m5fda8587e4\" x=\"0\" y=\"351.99625\" style=\"fill: #2d1e3e; fill-opacity: 0.2; stroke: #2d1e3e; stroke-opacity: 0.2\"/>\n    </g>\n   </g>\n   <g id=\"matplotlib.axis_1\">\n    <g id=\"xtick_1\">\n     <g id=\"line2d_1\">\n      <path d=\"M 57.660544 314.44 \nL 57.660544 7.2 \n\" clip-path=\"url(#pc145333b8a)\" style=\"fill: none; stroke: #b0b0b0; stroke-opacity: 0.5; stroke-width: 0.8; stroke-linecap: square\"/>\n     </g>\n     <g id=\"line2d_2\">\n      <defs>\n       <path id=\"m45a9f615ea\" d=\"M 0 0 \nL 0 3.5 \n\" style=\"stroke: #000000; stroke-width: 0.8\"/>\n      </defs>\n      <g>\n       <use xlink:href=\"#m45a9f615ea\" x=\"57.660544\" y=\"314.44\" style=\"stroke: #000000; stroke-width: 0.8\"/>\n      </g>\n     </g>\n     <g id=\"text_1\">\n      <!-- 0 -->\n      <g transform=\"translate(54.479294 329.038437) scale(0.1 -0.1)\">\n       <defs>\n        <path id=\"DejaVuSans-30\" d=\"M 2034 4250 \nQ 1547 4250 1301 3770 \nQ 1056 3291 1056 2328 \nQ 1056 1369 1301 889 \nQ 1547 409 2034 409 \nQ 2525 409 2770 889 \nQ 3016 1369 3016 2328 \nQ 3016 3291 2770 3770 \nQ 2525 4250 2034 4250 \nz\nM 2034 4750 \nQ 2819 4750 3233 4129 \nQ 3647 3509 3647 2328 \nQ 3647 1150 3233 529 \nQ 2819 -91 2034 -91 \nQ 1250 -91 836 529 \nQ 422 1150 422 2328 \nQ 422 3509 836 4129 \nQ 1250 4750 2034 4750 \nz\n\" transform=\"scale(0.015625)\"/>\n       </defs>\n       <use xlink:href=\"#DejaVuSans-30\"/>\n      </g>\n     </g>\n    </g>\n    <g id=\"xtick_2\">\n     <g id=\"line2d_3\">\n      <path d=\"M 87.885364 314.44 \nL 87.885364 7.2 \n\" clip-path=\"url(#pc145333b8a)\" style=\"fill: none; stroke: #b0b0b0; stroke-opacity: 0.5; stroke-width: 0.8; stroke-linecap: square\"/>\n     </g>\n     <g id=\"line2d_4\">\n      <g>\n       <use xlink:href=\"#m45a9f615ea\" x=\"87.885364\" y=\"314.44\" style=\"stroke: #000000; stroke-width: 0.8\"/>\n      </g>\n     </g>\n     <g id=\"text_2\">\n      <!-- 1 -->\n      <g transform=\"translate(84.704114 329.038437) scale(0.1 -0.1)\">\n       <defs>\n        <path id=\"DejaVuSans-31\" d=\"M 794 531 \nL 1825 531 \nL 1825 4091 \nL 703 3866 \nL 703 4441 \nL 1819 4666 \nL 2450 4666 \nL 2450 531 \nL 3481 531 \nL 3481 0 \nL 794 0 \nL 794 531 \nz\n\" transform=\"scale(0.015625)\"/>\n       </defs>\n       <use xlink:href=\"#DejaVuSans-31\"/>\n      </g>\n     </g>\n    </g>\n    <g id=\"xtick_3\">\n     <g id=\"line2d_5\">\n      <path d=\"M 118.110183 314.44 \nL 118.110183 7.2 \n\" clip-path=\"url(#pc145333b8a)\" style=\"fill: none; stroke: #b0b0b0; stroke-opacity: 0.5; stroke-width: 0.8; stroke-linecap: square\"/>\n     </g>\n     <g id=\"line2d_6\">\n      <g>\n       <use xlink:href=\"#m45a9f615ea\" x=\"118.110183\" y=\"314.44\" style=\"stroke: #000000; stroke-width: 0.8\"/>\n      </g>\n     </g>\n     <g id=\"text_3\">\n      <!-- 2 -->\n      <g transform=\"translate(114.928933 329.038437) scale(0.1 -0.1)\">\n       <defs>\n        <path id=\"DejaVuSans-32\" d=\"M 1228 531 \nL 3431 531 \nL 3431 0 \nL 469 0 \nL 469 531 \nQ 828 903 1448 1529 \nQ 2069 2156 2228 2338 \nQ 2531 2678 2651 2914 \nQ 2772 3150 2772 3378 \nQ 2772 3750 2511 3984 \nQ 2250 4219 1831 4219 \nQ 1534 4219 1204 4116 \nQ 875 4013 500 3803 \nL 500 4441 \nQ 881 4594 1212 4672 \nQ 1544 4750 1819 4750 \nQ 2544 4750 2975 4387 \nQ 3406 4025 3406 3419 \nQ 3406 3131 3298 2873 \nQ 3191 2616 2906 2266 \nQ 2828 2175 2409 1742 \nQ 1991 1309 1228 531 \nz\n\" transform=\"scale(0.015625)\"/>\n       </defs>\n       <use xlink:href=\"#DejaVuSans-32\"/>\n      </g>\n     </g>\n    </g>\n    <g id=\"xtick_4\">\n     <g id=\"line2d_7\">\n      <path d=\"M 148.335003 314.44 \nL 148.335003 7.2 \n\" clip-path=\"url(#pc145333b8a)\" style=\"fill: none; stroke: #b0b0b0; stroke-opacity: 0.5; stroke-width: 0.8; stroke-linecap: square\"/>\n     </g>\n     <g id=\"line2d_8\">\n      <g>\n       <use xlink:href=\"#m45a9f615ea\" x=\"148.335003\" y=\"314.44\" style=\"stroke: #000000; stroke-width: 0.8\"/>\n      </g>\n     </g>\n     <g id=\"text_4\">\n      <!-- 3 -->\n      <g transform=\"translate(145.153753 329.038437) scale(0.1 -0.1)\">\n       <defs>\n        <path id=\"DejaVuSans-33\" d=\"M 2597 2516 \nQ 3050 2419 3304 2112 \nQ 3559 1806 3559 1356 \nQ 3559 666 3084 287 \nQ 2609 -91 1734 -91 \nQ 1441 -91 1130 -33 \nQ 819 25 488 141 \nL 488 750 \nQ 750 597 1062 519 \nQ 1375 441 1716 441 \nQ 2309 441 2620 675 \nQ 2931 909 2931 1356 \nQ 2931 1769 2642 2001 \nQ 2353 2234 1838 2234 \nL 1294 2234 \nL 1294 2753 \nL 1863 2753 \nQ 2328 2753 2575 2939 \nQ 2822 3125 2822 3475 \nQ 2822 3834 2567 4026 \nQ 2313 4219 1838 4219 \nQ 1578 4219 1281 4162 \nQ 984 4106 628 3988 \nL 628 4550 \nQ 988 4650 1302 4700 \nQ 1616 4750 1894 4750 \nQ 2613 4750 3031 4423 \nQ 3450 4097 3450 3541 \nQ 3450 3153 3228 2886 \nQ 3006 2619 2597 2516 \nz\n\" transform=\"scale(0.015625)\"/>\n       </defs>\n       <use xlink:href=\"#DejaVuSans-33\"/>\n      </g>\n     </g>\n    </g>\n    <g id=\"xtick_5\">\n     <g id=\"line2d_9\">\n      <path d=\"M 178.559823 314.44 \nL 178.559823 7.2 \n\" clip-path=\"url(#pc145333b8a)\" style=\"fill: none; stroke: #b0b0b0; stroke-opacity: 0.5; stroke-width: 0.8; stroke-linecap: square\"/>\n     </g>\n     <g id=\"line2d_10\">\n      <g>\n       <use xlink:href=\"#m45a9f615ea\" x=\"178.559823\" y=\"314.44\" style=\"stroke: #000000; stroke-width: 0.8\"/>\n      </g>\n     </g>\n     <g id=\"text_5\">\n      <!-- 4 -->\n      <g transform=\"translate(175.378573 329.038437) scale(0.1 -0.1)\">\n       <defs>\n        <path id=\"DejaVuSans-34\" d=\"M 2419 4116 \nL 825 1625 \nL 2419 1625 \nL 2419 4116 \nz\nM 2253 4666 \nL 3047 4666 \nL 3047 1625 \nL 3713 1625 \nL 3713 1100 \nL 3047 1100 \nL 3047 0 \nL 2419 0 \nL 2419 1100 \nL 313 1100 \nL 313 1709 \nL 2253 4666 \nz\n\" transform=\"scale(0.015625)\"/>\n       </defs>\n       <use xlink:href=\"#DejaVuSans-34\"/>\n      </g>\n     </g>\n    </g>\n    <g id=\"xtick_6\">\n     <g id=\"line2d_11\">\n      <path d=\"M 208.784643 314.44 \nL 208.784643 7.2 \n\" clip-path=\"url(#pc145333b8a)\" style=\"fill: none; stroke: #b0b0b0; stroke-opacity: 0.5; stroke-width: 0.8; stroke-linecap: square\"/>\n     </g>\n     <g id=\"line2d_12\">\n      <g>\n       <use xlink:href=\"#m45a9f615ea\" x=\"208.784643\" y=\"314.44\" style=\"stroke: #000000; stroke-width: 0.8\"/>\n      </g>\n     </g>\n     <g id=\"text_6\">\n      <!-- 5 -->\n      <g transform=\"translate(205.603393 329.038437) scale(0.1 -0.1)\">\n       <defs>\n        <path id=\"DejaVuSans-35\" d=\"M 691 4666 \nL 3169 4666 \nL 3169 4134 \nL 1269 4134 \nL 1269 2991 \nQ 1406 3038 1543 3061 \nQ 1681 3084 1819 3084 \nQ 2600 3084 3056 2656 \nQ 3513 2228 3513 1497 \nQ 3513 744 3044 326 \nQ 2575 -91 1722 -91 \nQ 1428 -91 1123 -41 \nQ 819 9 494 109 \nL 494 744 \nQ 775 591 1075 516 \nQ 1375 441 1709 441 \nQ 2250 441 2565 725 \nQ 2881 1009 2881 1497 \nQ 2881 1984 2565 2268 \nQ 2250 2553 1709 2553 \nQ 1456 2553 1204 2497 \nQ 953 2441 691 2322 \nL 691 4666 \nz\n\" transform=\"scale(0.015625)\"/>\n       </defs>\n       <use xlink:href=\"#DejaVuSans-35\"/>\n      </g>\n     </g>\n    </g>\n    <g id=\"xtick_7\">\n     <g id=\"line2d_13\">\n      <path d=\"M 239.009462 314.44 \nL 239.009462 7.2 \n\" clip-path=\"url(#pc145333b8a)\" style=\"fill: none; stroke: #b0b0b0; stroke-opacity: 0.5; stroke-width: 0.8; stroke-linecap: square\"/>\n     </g>\n     <g id=\"line2d_14\">\n      <g>\n       <use xlink:href=\"#m45a9f615ea\" x=\"239.009462\" y=\"314.44\" style=\"stroke: #000000; stroke-width: 0.8\"/>\n      </g>\n     </g>\n     <g id=\"text_7\">\n      <!-- 6 -->\n      <g transform=\"translate(235.828212 329.038437) scale(0.1 -0.1)\">\n       <defs>\n        <path id=\"DejaVuSans-36\" d=\"M 2113 2584 \nQ 1688 2584 1439 2293 \nQ 1191 2003 1191 1497 \nQ 1191 994 1439 701 \nQ 1688 409 2113 409 \nQ 2538 409 2786 701 \nQ 3034 994 3034 1497 \nQ 3034 2003 2786 2293 \nQ 2538 2584 2113 2584 \nz\nM 3366 4563 \nL 3366 3988 \nQ 3128 4100 2886 4159 \nQ 2644 4219 2406 4219 \nQ 1781 4219 1451 3797 \nQ 1122 3375 1075 2522 \nQ 1259 2794 1537 2939 \nQ 1816 3084 2150 3084 \nQ 2853 3084 3261 2657 \nQ 3669 2231 3669 1497 \nQ 3669 778 3244 343 \nQ 2819 -91 2113 -91 \nQ 1303 -91 875 529 \nQ 447 1150 447 2328 \nQ 447 3434 972 4092 \nQ 1497 4750 2381 4750 \nQ 2619 4750 2861 4703 \nQ 3103 4656 3366 4563 \nz\n\" transform=\"scale(0.015625)\"/>\n       </defs>\n       <use xlink:href=\"#DejaVuSans-36\"/>\n      </g>\n     </g>\n    </g>\n    <g id=\"xtick_8\">\n     <g id=\"line2d_15\">\n      <path d=\"M 269.234282 314.44 \nL 269.234282 7.2 \n\" clip-path=\"url(#pc145333b8a)\" style=\"fill: none; stroke: #b0b0b0; stroke-opacity: 0.5; stroke-width: 0.8; stroke-linecap: square\"/>\n     </g>\n     <g id=\"line2d_16\">\n      <g>\n       <use xlink:href=\"#m45a9f615ea\" x=\"269.234282\" y=\"314.44\" style=\"stroke: #000000; stroke-width: 0.8\"/>\n      </g>\n     </g>\n     <g id=\"text_8\">\n      <!-- 7 -->\n      <g transform=\"translate(266.053032 329.038437) scale(0.1 -0.1)\">\n       <defs>\n        <path id=\"DejaVuSans-37\" d=\"M 525 4666 \nL 3525 4666 \nL 3525 4397 \nL 1831 0 \nL 1172 0 \nL 2766 4134 \nL 525 4134 \nL 525 4666 \nz\n\" transform=\"scale(0.015625)\"/>\n       </defs>\n       <use xlink:href=\"#DejaVuSans-37\"/>\n      </g>\n     </g>\n    </g>\n    <g id=\"xtick_9\">\n     <g id=\"line2d_17\">\n      <path d=\"M 299.459102 314.44 \nL 299.459102 7.2 \n\" clip-path=\"url(#pc145333b8a)\" style=\"fill: none; stroke: #b0b0b0; stroke-opacity: 0.5; stroke-width: 0.8; stroke-linecap: square\"/>\n     </g>\n     <g id=\"line2d_18\">\n      <g>\n       <use xlink:href=\"#m45a9f615ea\" x=\"299.459102\" y=\"314.44\" style=\"stroke: #000000; stroke-width: 0.8\"/>\n      </g>\n     </g>\n     <g id=\"text_9\">\n      <!-- 8 -->\n      <g transform=\"translate(296.277852 329.038437) scale(0.1 -0.1)\">\n       <defs>\n        <path id=\"DejaVuSans-38\" d=\"M 2034 2216 \nQ 1584 2216 1326 1975 \nQ 1069 1734 1069 1313 \nQ 1069 891 1326 650 \nQ 1584 409 2034 409 \nQ 2484 409 2743 651 \nQ 3003 894 3003 1313 \nQ 3003 1734 2745 1975 \nQ 2488 2216 2034 2216 \nz\nM 1403 2484 \nQ 997 2584 770 2862 \nQ 544 3141 544 3541 \nQ 544 4100 942 4425 \nQ 1341 4750 2034 4750 \nQ 2731 4750 3128 4425 \nQ 3525 4100 3525 3541 \nQ 3525 3141 3298 2862 \nQ 3072 2584 2669 2484 \nQ 3125 2378 3379 2068 \nQ 3634 1759 3634 1313 \nQ 3634 634 3220 271 \nQ 2806 -91 2034 -91 \nQ 1263 -91 848 271 \nQ 434 634 434 1313 \nQ 434 1759 690 2068 \nQ 947 2378 1403 2484 \nz\nM 1172 3481 \nQ 1172 3119 1398 2916 \nQ 1625 2713 2034 2713 \nQ 2441 2713 2670 2916 \nQ 2900 3119 2900 3481 \nQ 2900 3844 2670 4047 \nQ 2441 4250 2034 4250 \nQ 1625 4250 1398 4047 \nQ 1172 3844 1172 3481 \nz\n\" transform=\"scale(0.015625)\"/>\n       </defs>\n       <use xlink:href=\"#DejaVuSans-38\"/>\n      </g>\n     </g>\n    </g>\n    <g id=\"xtick_10\">\n     <g id=\"line2d_19\">\n      <path d=\"M 329.683922 314.44 \nL 329.683922 7.2 \n\" clip-path=\"url(#pc145333b8a)\" style=\"fill: none; stroke: #b0b0b0; stroke-opacity: 0.5; stroke-width: 0.8; stroke-linecap: square\"/>\n     </g>\n     <g id=\"line2d_20\">\n      <g>\n       <use xlink:href=\"#m45a9f615ea\" x=\"329.683922\" y=\"314.44\" style=\"stroke: #000000; stroke-width: 0.8\"/>\n      </g>\n     </g>\n     <g id=\"text_10\">\n      <!-- 9 -->\n      <g transform=\"translate(326.502672 329.038437) scale(0.1 -0.1)\">\n       <defs>\n        <path id=\"DejaVuSans-39\" d=\"M 703 97 \nL 703 672 \nQ 941 559 1184 500 \nQ 1428 441 1663 441 \nQ 2288 441 2617 861 \nQ 2947 1281 2994 2138 \nQ 2813 1869 2534 1725 \nQ 2256 1581 1919 1581 \nQ 1219 1581 811 2004 \nQ 403 2428 403 3163 \nQ 403 3881 828 4315 \nQ 1253 4750 1959 4750 \nQ 2769 4750 3195 4129 \nQ 3622 3509 3622 2328 \nQ 3622 1225 3098 567 \nQ 2575 -91 1691 -91 \nQ 1453 -91 1209 -44 \nQ 966 3 703 97 \nz\nM 1959 2075 \nQ 2384 2075 2632 2365 \nQ 2881 2656 2881 3163 \nQ 2881 3666 2632 3958 \nQ 2384 4250 1959 4250 \nQ 1534 4250 1286 3958 \nQ 1038 3666 1038 3163 \nQ 1038 2656 1286 2365 \nQ 1534 2075 1959 2075 \nz\n\" transform=\"scale(0.015625)\"/>\n       </defs>\n       <use xlink:href=\"#DejaVuSans-39\"/>\n      </g>\n     </g>\n    </g>\n    <g id=\"text_11\">\n     <!-- failed -->\n     <g transform=\"translate(179.819108 342.716562) scale(0.1 -0.1)\">\n      <defs>\n       <path id=\"DejaVuSans-66\" d=\"M 2375 4863 \nL 2375 4384 \nL 1825 4384 \nQ 1516 4384 1395 4259 \nQ 1275 4134 1275 3809 \nL 1275 3500 \nL 2222 3500 \nL 2222 3053 \nL 1275 3053 \nL 1275 0 \nL 697 0 \nL 697 3053 \nL 147 3053 \nL 147 3500 \nL 697 3500 \nL 697 3744 \nQ 697 4328 969 4595 \nQ 1241 4863 1831 4863 \nL 2375 4863 \nz\n\" transform=\"scale(0.015625)\"/>\n       <path id=\"DejaVuSans-61\" d=\"M 2194 1759 \nQ 1497 1759 1228 1600 \nQ 959 1441 959 1056 \nQ 959 750 1161 570 \nQ 1363 391 1709 391 \nQ 2188 391 2477 730 \nQ 2766 1069 2766 1631 \nL 2766 1759 \nL 2194 1759 \nz\nM 3341 1997 \nL 3341 0 \nL 2766 0 \nL 2766 531 \nQ 2569 213 2275 61 \nQ 1981 -91 1556 -91 \nQ 1019 -91 701 211 \nQ 384 513 384 1019 \nQ 384 1609 779 1909 \nQ 1175 2209 1959 2209 \nL 2766 2209 \nL 2766 2266 \nQ 2766 2663 2505 2880 \nQ 2244 3097 1772 3097 \nQ 1472 3097 1187 3025 \nQ 903 2953 641 2809 \nL 641 3341 \nQ 956 3463 1253 3523 \nQ 1550 3584 1831 3584 \nQ 2591 3584 2966 3190 \nQ 3341 2797 3341 1997 \nz\n\" transform=\"scale(0.015625)\"/>\n       <path id=\"DejaVuSans-69\" d=\"M 603 3500 \nL 1178 3500 \nL 1178 0 \nL 603 0 \nL 603 3500 \nz\nM 603 4863 \nL 1178 4863 \nL 1178 4134 \nL 603 4134 \nL 603 4863 \nz\n\" transform=\"scale(0.015625)\"/>\n       <path id=\"DejaVuSans-6c\" d=\"M 603 4863 \nL 1178 4863 \nL 1178 0 \nL 603 0 \nL 603 4863 \nz\n\" transform=\"scale(0.015625)\"/>\n       <path id=\"DejaVuSans-65\" d=\"M 3597 1894 \nL 3597 1613 \nL 953 1613 \nQ 991 1019 1311 708 \nQ 1631 397 2203 397 \nQ 2534 397 2845 478 \nQ 3156 559 3463 722 \nL 3463 178 \nQ 3153 47 2828 -22 \nQ 2503 -91 2169 -91 \nQ 1331 -91 842 396 \nQ 353 884 353 1716 \nQ 353 2575 817 3079 \nQ 1281 3584 2069 3584 \nQ 2775 3584 3186 3129 \nQ 3597 2675 3597 1894 \nz\nM 3022 2063 \nQ 3016 2534 2758 2815 \nQ 2500 3097 2075 3097 \nQ 1594 3097 1305 2825 \nQ 1016 2553 972 2059 \nL 3022 2063 \nz\n\" transform=\"scale(0.015625)\"/>\n       <path id=\"DejaVuSans-64\" d=\"M 2906 2969 \nL 2906 4863 \nL 3481 4863 \nL 3481 0 \nL 2906 0 \nL 2906 525 \nQ 2725 213 2448 61 \nQ 2172 -91 1784 -91 \nQ 1150 -91 751 415 \nQ 353 922 353 1747 \nQ 353 2572 751 3078 \nQ 1150 3584 1784 3584 \nQ 2172 3584 2448 3432 \nQ 2725 3281 2906 2969 \nz\nM 947 1747 \nQ 947 1113 1208 752 \nQ 1469 391 1925 391 \nQ 2381 391 2643 752 \nQ 2906 1113 2906 1747 \nQ 2906 2381 2643 2742 \nQ 2381 3103 1925 3103 \nQ 1469 3103 1208 2742 \nQ 947 2381 947 1747 \nz\n\" transform=\"scale(0.015625)\"/>\n      </defs>\n      <use xlink:href=\"#DejaVuSans-66\"/>\n      <use xlink:href=\"#DejaVuSans-61\" x=\"35.205078\"/>\n      <use xlink:href=\"#DejaVuSans-69\" x=\"96.484375\"/>\n      <use xlink:href=\"#DejaVuSans-6c\" x=\"124.267578\"/>\n      <use xlink:href=\"#DejaVuSans-65\" x=\"152.050781\"/>\n      <use xlink:href=\"#DejaVuSans-64\" x=\"213.574219\"/>\n     </g>\n    </g>\n   </g>\n   <g id=\"matplotlib.axis_2\">\n    <g id=\"ytick_1\">\n     <g id=\"line2d_21\">\n      <path d=\"M 44.059375 295.908981 \nL 343.285091 295.908981 \n\" clip-path=\"url(#pc145333b8a)\" style=\"fill: none; stroke: #b0b0b0; stroke-opacity: 0.5; stroke-width: 0.8; stroke-linecap: square\"/>\n     </g>\n     <g id=\"line2d_22\">\n      <defs>\n       <path id=\"m483e36457b\" d=\"M 0 0 \nL -3.5 0 \n\" style=\"stroke: #000000; stroke-width: 0.8\"/>\n      </defs>\n      <g>\n       <use xlink:href=\"#m483e36457b\" x=\"44.059375\" y=\"295.908981\" style=\"stroke: #000000; stroke-width: 0.8\"/>\n      </g>\n     </g>\n     <g id=\"text_12\">\n      <!-- 0.2 -->\n      <g transform=\"translate(21.15625 299.7082) scale(0.1 -0.1)\">\n       <defs>\n        <path id=\"DejaVuSans-2e\" d=\"M 684 794 \nL 1344 794 \nL 1344 0 \nL 684 0 \nL 684 794 \nz\n\" transform=\"scale(0.015625)\"/>\n       </defs>\n       <use xlink:href=\"#DejaVuSans-30\"/>\n       <use xlink:href=\"#DejaVuSans-2e\" x=\"63.623047\"/>\n       <use xlink:href=\"#DejaVuSans-32\" x=\"95.410156\"/>\n      </g>\n     </g>\n    </g>\n    <g id=\"ytick_2\">\n     <g id=\"line2d_23\">\n      <path d=\"M 44.059375 259.362433 \nL 343.285091 259.362433 \n\" clip-path=\"url(#pc145333b8a)\" style=\"fill: none; stroke: #b0b0b0; stroke-opacity: 0.5; stroke-width: 0.8; stroke-linecap: square\"/>\n     </g>\n     <g id=\"line2d_24\">\n      <g>\n       <use xlink:href=\"#m483e36457b\" x=\"44.059375\" y=\"259.362433\" style=\"stroke: #000000; stroke-width: 0.8\"/>\n      </g>\n     </g>\n     <g id=\"text_13\">\n      <!-- 0.3 -->\n      <g transform=\"translate(21.15625 263.161652) scale(0.1 -0.1)\">\n       <use xlink:href=\"#DejaVuSans-30\"/>\n       <use xlink:href=\"#DejaVuSans-2e\" x=\"63.623047\"/>\n       <use xlink:href=\"#DejaVuSans-33\" x=\"95.410156\"/>\n      </g>\n     </g>\n    </g>\n    <g id=\"ytick_3\">\n     <g id=\"line2d_25\">\n      <path d=\"M 44.059375 222.815886 \nL 343.285091 222.815886 \n\" clip-path=\"url(#pc145333b8a)\" style=\"fill: none; stroke: #b0b0b0; stroke-opacity: 0.5; stroke-width: 0.8; stroke-linecap: square\"/>\n     </g>\n     <g id=\"line2d_26\">\n      <g>\n       <use xlink:href=\"#m483e36457b\" x=\"44.059375\" y=\"222.815886\" style=\"stroke: #000000; stroke-width: 0.8\"/>\n      </g>\n     </g>\n     <g id=\"text_14\">\n      <!-- 0.4 -->\n      <g transform=\"translate(21.15625 226.615104) scale(0.1 -0.1)\">\n       <use xlink:href=\"#DejaVuSans-30\"/>\n       <use xlink:href=\"#DejaVuSans-2e\" x=\"63.623047\"/>\n       <use xlink:href=\"#DejaVuSans-34\" x=\"95.410156\"/>\n      </g>\n     </g>\n    </g>\n    <g id=\"ytick_4\">\n     <g id=\"line2d_27\">\n      <path d=\"M 44.059375 186.269338 \nL 343.285091 186.269338 \n\" clip-path=\"url(#pc145333b8a)\" style=\"fill: none; stroke: #b0b0b0; stroke-opacity: 0.5; stroke-width: 0.8; stroke-linecap: square\"/>\n     </g>\n     <g id=\"line2d_28\">\n      <g>\n       <use xlink:href=\"#m483e36457b\" x=\"44.059375\" y=\"186.269338\" style=\"stroke: #000000; stroke-width: 0.8\"/>\n      </g>\n     </g>\n     <g id=\"text_15\">\n      <!-- 0.5 -->\n      <g transform=\"translate(21.15625 190.068557) scale(0.1 -0.1)\">\n       <use xlink:href=\"#DejaVuSans-30\"/>\n       <use xlink:href=\"#DejaVuSans-2e\" x=\"63.623047\"/>\n       <use xlink:href=\"#DejaVuSans-35\" x=\"95.410156\"/>\n      </g>\n     </g>\n    </g>\n    <g id=\"ytick_5\">\n     <g id=\"line2d_29\">\n      <path d=\"M 44.059375 149.72279 \nL 343.285091 149.72279 \n\" clip-path=\"url(#pc145333b8a)\" style=\"fill: none; stroke: #b0b0b0; stroke-opacity: 0.5; stroke-width: 0.8; stroke-linecap: square\"/>\n     </g>\n     <g id=\"line2d_30\">\n      <g>\n       <use xlink:href=\"#m483e36457b\" x=\"44.059375\" y=\"149.72279\" style=\"stroke: #000000; stroke-width: 0.8\"/>\n      </g>\n     </g>\n     <g id=\"text_16\">\n      <!-- 0.6 -->\n      <g transform=\"translate(21.15625 153.522009) scale(0.1 -0.1)\">\n       <use xlink:href=\"#DejaVuSans-30\"/>\n       <use xlink:href=\"#DejaVuSans-2e\" x=\"63.623047\"/>\n       <use xlink:href=\"#DejaVuSans-36\" x=\"95.410156\"/>\n      </g>\n     </g>\n    </g>\n    <g id=\"ytick_6\">\n     <g id=\"line2d_31\">\n      <path d=\"M 44.059375 113.176243 \nL 343.285091 113.176243 \n\" clip-path=\"url(#pc145333b8a)\" style=\"fill: none; stroke: #b0b0b0; stroke-opacity: 0.5; stroke-width: 0.8; stroke-linecap: square\"/>\n     </g>\n     <g id=\"line2d_32\">\n      <g>\n       <use xlink:href=\"#m483e36457b\" x=\"44.059375\" y=\"113.176243\" style=\"stroke: #000000; stroke-width: 0.8\"/>\n      </g>\n     </g>\n     <g id=\"text_17\">\n      <!-- 0.7 -->\n      <g transform=\"translate(21.15625 116.975461) scale(0.1 -0.1)\">\n       <use xlink:href=\"#DejaVuSans-30\"/>\n       <use xlink:href=\"#DejaVuSans-2e\" x=\"63.623047\"/>\n       <use xlink:href=\"#DejaVuSans-37\" x=\"95.410156\"/>\n      </g>\n     </g>\n    </g>\n    <g id=\"ytick_7\">\n     <g id=\"line2d_33\">\n      <path d=\"M 44.059375 76.629695 \nL 343.285091 76.629695 \n\" clip-path=\"url(#pc145333b8a)\" style=\"fill: none; stroke: #b0b0b0; stroke-opacity: 0.5; stroke-width: 0.8; stroke-linecap: square\"/>\n     </g>\n     <g id=\"line2d_34\">\n      <g>\n       <use xlink:href=\"#m483e36457b\" x=\"44.059375\" y=\"76.629695\" style=\"stroke: #000000; stroke-width: 0.8\"/>\n      </g>\n     </g>\n     <g id=\"text_18\">\n      <!-- 0.8 -->\n      <g transform=\"translate(21.15625 80.428914) scale(0.1 -0.1)\">\n       <use xlink:href=\"#DejaVuSans-30\"/>\n       <use xlink:href=\"#DejaVuSans-2e\" x=\"63.623047\"/>\n       <use xlink:href=\"#DejaVuSans-38\" x=\"95.410156\"/>\n      </g>\n     </g>\n    </g>\n    <g id=\"ytick_8\">\n     <g id=\"line2d_35\">\n      <path d=\"M 44.059375 40.083147 \nL 343.285091 40.083147 \n\" clip-path=\"url(#pc145333b8a)\" style=\"fill: none; stroke: #b0b0b0; stroke-opacity: 0.5; stroke-width: 0.8; stroke-linecap: square\"/>\n     </g>\n     <g id=\"line2d_36\">\n      <g>\n       <use xlink:href=\"#m483e36457b\" x=\"44.059375\" y=\"40.083147\" style=\"stroke: #000000; stroke-width: 0.8\"/>\n      </g>\n     </g>\n     <g id=\"text_19\">\n      <!-- 0.9 -->\n      <g transform=\"translate(21.15625 43.882366) scale(0.1 -0.1)\">\n       <use xlink:href=\"#DejaVuSans-30\"/>\n       <use xlink:href=\"#DejaVuSans-2e\" x=\"63.623047\"/>\n       <use xlink:href=\"#DejaVuSans-39\" x=\"95.410156\"/>\n      </g>\n     </g>\n    </g>\n    <g id=\"text_20\">\n     <!-- conn_ratio -->\n     <g transform=\"translate(14.798438 186.994219) rotate(-90) scale(0.1 -0.1)\">\n      <defs>\n       <path id=\"DejaVuSans-63\" d=\"M 3122 3366 \nL 3122 2828 \nQ 2878 2963 2633 3030 \nQ 2388 3097 2138 3097 \nQ 1578 3097 1268 2742 \nQ 959 2388 959 1747 \nQ 959 1106 1268 751 \nQ 1578 397 2138 397 \nQ 2388 397 2633 464 \nQ 2878 531 3122 666 \nL 3122 134 \nQ 2881 22 2623 -34 \nQ 2366 -91 2075 -91 \nQ 1284 -91 818 406 \nQ 353 903 353 1747 \nQ 353 2603 823 3093 \nQ 1294 3584 2113 3584 \nQ 2378 3584 2631 3529 \nQ 2884 3475 3122 3366 \nz\n\" transform=\"scale(0.015625)\"/>\n       <path id=\"DejaVuSans-6f\" d=\"M 1959 3097 \nQ 1497 3097 1228 2736 \nQ 959 2375 959 1747 \nQ 959 1119 1226 758 \nQ 1494 397 1959 397 \nQ 2419 397 2687 759 \nQ 2956 1122 2956 1747 \nQ 2956 2369 2687 2733 \nQ 2419 3097 1959 3097 \nz\nM 1959 3584 \nQ 2709 3584 3137 3096 \nQ 3566 2609 3566 1747 \nQ 3566 888 3137 398 \nQ 2709 -91 1959 -91 \nQ 1206 -91 779 398 \nQ 353 888 353 1747 \nQ 353 2609 779 3096 \nQ 1206 3584 1959 3584 \nz\n\" transform=\"scale(0.015625)\"/>\n       <path id=\"DejaVuSans-6e\" d=\"M 3513 2113 \nL 3513 0 \nL 2938 0 \nL 2938 2094 \nQ 2938 2591 2744 2837 \nQ 2550 3084 2163 3084 \nQ 1697 3084 1428 2787 \nQ 1159 2491 1159 1978 \nL 1159 0 \nL 581 0 \nL 581 3500 \nL 1159 3500 \nL 1159 2956 \nQ 1366 3272 1645 3428 \nQ 1925 3584 2291 3584 \nQ 2894 3584 3203 3211 \nQ 3513 2838 3513 2113 \nz\n\" transform=\"scale(0.015625)\"/>\n       <path id=\"DejaVuSans-5f\" d=\"M 3263 -1063 \nL 3263 -1509 \nL -63 -1509 \nL -63 -1063 \nL 3263 -1063 \nz\n\" transform=\"scale(0.015625)\"/>\n       <path id=\"DejaVuSans-72\" d=\"M 2631 2963 \nQ 2534 3019 2420 3045 \nQ 2306 3072 2169 3072 \nQ 1681 3072 1420 2755 \nQ 1159 2438 1159 1844 \nL 1159 0 \nL 581 0 \nL 581 3500 \nL 1159 3500 \nL 1159 2956 \nQ 1341 3275 1631 3429 \nQ 1922 3584 2338 3584 \nQ 2397 3584 2469 3576 \nQ 2541 3569 2628 3553 \nL 2631 2963 \nz\n\" transform=\"scale(0.015625)\"/>\n       <path id=\"DejaVuSans-74\" d=\"M 1172 4494 \nL 1172 3500 \nL 2356 3500 \nL 2356 3053 \nL 1172 3053 \nL 1172 1153 \nQ 1172 725 1289 603 \nQ 1406 481 1766 481 \nL 2356 481 \nL 2356 0 \nL 1766 0 \nQ 1100 0 847 248 \nQ 594 497 594 1153 \nL 594 3053 \nL 172 3053 \nL 172 3500 \nL 594 3500 \nL 594 4494 \nL 1172 4494 \nz\n\" transform=\"scale(0.015625)\"/>\n      </defs>\n      <use xlink:href=\"#DejaVuSans-63\"/>\n      <use xlink:href=\"#DejaVuSans-6f\" x=\"54.980469\"/>\n      <use xlink:href=\"#DejaVuSans-6e\" x=\"116.162109\"/>\n      <use xlink:href=\"#DejaVuSans-6e\" x=\"179.541016\"/>\n      <use xlink:href=\"#DejaVuSans-5f\" x=\"242.919922\"/>\n      <use xlink:href=\"#DejaVuSans-72\" x=\"292.919922\"/>\n      <use xlink:href=\"#DejaVuSans-61\" x=\"334.033203\"/>\n      <use xlink:href=\"#DejaVuSans-74\" x=\"395.3125\"/>\n      <use xlink:href=\"#DejaVuSans-69\" x=\"434.521484\"/>\n      <use xlink:href=\"#DejaVuSans-6f\" x=\"462.304688\"/>\n     </g>\n    </g>\n   </g>\n   <g id=\"line2d_37\">\n    <path d=\"M 57.660544 24.414142 \nL 87.885364 62.044809 \nL 118.110183 103.565488 \nL 148.335003 144.220744 \nL 178.559823 180.717092 \nL 208.784643 213.195035 \nL 239.009462 240.648105 \nL 269.234282 264.143856 \nL 299.459102 283.849437 \nL 329.683922 299.793053 \n\" clip-path=\"url(#pc145333b8a)\" style=\"fill: none; stroke: #edd1cb; stroke-width: 1.5; stroke-linecap: square\"/>\n   </g>\n   <g id=\"line2d_38\">\n    <path d=\"M 57.660544 23.384752 \nL 87.885364 40.110511 \nL 118.110183 58.903129 \nL 148.335003 79.019138 \nL 178.559823 99.355188 \nL 208.784643 120.277748 \nL 239.009462 140.298313 \nL 269.234282 160.347096 \nL 299.459102 178.908852 \nL 329.683922 197.224873 \n\" clip-path=\"url(#pc145333b8a)\" style=\"fill: none; stroke: #c8879e; stroke-width: 1.5; stroke-linecap: square\"/>\n   </g>\n   <g id=\"line2d_39\">\n    <path d=\"M 57.660544 22.01229 \nL 87.885364 28.621559 \nL 118.110183 35.798754 \nL 148.335003 43.306047 \nL 178.559823 51.52928 \nL 208.784643 60.178276 \nL 239.009462 68.904331 \nL 269.234282 78.166446 \nL 299.459102 87.522792 \nL 329.683922 96.628037 \n\" clip-path=\"url(#pc145333b8a)\" style=\"fill: none; stroke: #2d1e3e; stroke-width: 1.5; stroke-linecap: square\"/>\n   </g>\n   <g id=\"line2d_40\"/>\n   <g id=\"line2d_41\"/>\n   <g id=\"line2d_42\"/>\n   <g id=\"patch_3\">\n    <path d=\"M 44.059375 314.44 \nL 44.059375 7.2 \n\" style=\"fill: none; stroke: #000000; stroke-width: 0.8; stroke-linejoin: miter; stroke-linecap: square\"/>\n   </g>\n   <g id=\"patch_4\">\n    <path d=\"M 44.059375 314.44 \nL 343.285091 314.44 \n\" style=\"fill: none; stroke: #000000; stroke-width: 0.8; stroke-linejoin: miter; stroke-linecap: square\"/>\n   </g>\n  </g>\n  <g id=\"legend_1\">\n   <g id=\"text_21\">\n    <!-- cluster_size -->\n    <g transform=\"translate(348.671416 156.60125) scale(0.1 -0.1)\">\n     <defs>\n      <path id=\"DejaVuSans-75\" d=\"M 544 1381 \nL 544 3500 \nL 1119 3500 \nL 1119 1403 \nQ 1119 906 1312 657 \nQ 1506 409 1894 409 \nQ 2359 409 2629 706 \nQ 2900 1003 2900 1516 \nL 2900 3500 \nL 3475 3500 \nL 3475 0 \nL 2900 0 \nL 2900 538 \nQ 2691 219 2414 64 \nQ 2138 -91 1772 -91 \nQ 1169 -91 856 284 \nQ 544 659 544 1381 \nz\nM 1991 3584 \nL 1991 3584 \nz\n\" transform=\"scale(0.015625)\"/>\n      <path id=\"DejaVuSans-73\" d=\"M 2834 3397 \nL 2834 2853 \nQ 2591 2978 2328 3040 \nQ 2066 3103 1784 3103 \nQ 1356 3103 1142 2972 \nQ 928 2841 928 2578 \nQ 928 2378 1081 2264 \nQ 1234 2150 1697 2047 \nL 1894 2003 \nQ 2506 1872 2764 1633 \nQ 3022 1394 3022 966 \nQ 3022 478 2636 193 \nQ 2250 -91 1575 -91 \nQ 1294 -91 989 -36 \nQ 684 19 347 128 \nL 347 722 \nQ 666 556 975 473 \nQ 1284 391 1588 391 \nQ 1994 391 2212 530 \nQ 2431 669 2431 922 \nQ 2431 1156 2273 1281 \nQ 2116 1406 1581 1522 \nL 1381 1569 \nQ 847 1681 609 1914 \nQ 372 2147 372 2553 \nQ 372 3047 722 3315 \nQ 1072 3584 1716 3584 \nQ 2034 3584 2315 3537 \nQ 2597 3491 2834 3397 \nz\n\" transform=\"scale(0.015625)\"/>\n      <path id=\"DejaVuSans-7a\" d=\"M 353 3500 \nL 3084 3500 \nL 3084 2975 \nL 922 459 \nL 3084 459 \nL 3084 0 \nL 275 0 \nL 275 525 \nL 2438 3041 \nL 353 3041 \nL 353 3500 \nz\n\" transform=\"scale(0.015625)\"/>\n     </defs>\n     <use xlink:href=\"#DejaVuSans-63\"/>\n     <use xlink:href=\"#DejaVuSans-6c\" x=\"54.980469\"/>\n     <use xlink:href=\"#DejaVuSans-75\" x=\"82.763672\"/>\n     <use xlink:href=\"#DejaVuSans-73\" x=\"146.142578\"/>\n     <use xlink:href=\"#DejaVuSans-74\" x=\"198.242188\"/>\n     <use xlink:href=\"#DejaVuSans-65\" x=\"237.451172\"/>\n     <use xlink:href=\"#DejaVuSans-72\" x=\"298.974609\"/>\n     <use xlink:href=\"#DejaVuSans-5f\" x=\"340.087891\"/>\n     <use xlink:href=\"#DejaVuSans-73\" x=\"390.087891\"/>\n     <use xlink:href=\"#DejaVuSans-69\" x=\"442.1875\"/>\n     <use xlink:href=\"#DejaVuSans-7a\" x=\"469.970703\"/>\n     <use xlink:href=\"#DejaVuSans-65\" x=\"522.460938\"/>\n    </g>\n   </g>\n   <g id=\"line2d_43\">\n    <path d=\"M 354.326103 168.0575 \nL 364.326103 168.0575 \nL 374.326103 168.0575 \n\" style=\"fill: none; stroke: #edd1cb; stroke-width: 1.5; stroke-linecap: square\"/>\n   </g>\n   <g id=\"text_22\">\n    <!-- 50 -->\n    <g transform=\"translate(382.326103 171.5575) scale(0.1 -0.1)\">\n     <use xlink:href=\"#DejaVuSans-35\"/>\n     <use xlink:href=\"#DejaVuSans-30\" x=\"63.623047\"/>\n    </g>\n   </g>\n   <g id=\"line2d_44\">\n    <path d=\"M 354.326103 182.735625 \nL 364.326103 182.735625 \nL 374.326103 182.735625 \n\" style=\"fill: none; stroke: #c8879e; stroke-width: 1.5; stroke-linecap: square\"/>\n   </g>\n   <g id=\"text_23\">\n    <!-- 100 -->\n    <g transform=\"translate(382.326103 186.235625) scale(0.1 -0.1)\">\n     <use xlink:href=\"#DejaVuSans-31\"/>\n     <use xlink:href=\"#DejaVuSans-30\" x=\"63.623047\"/>\n     <use xlink:href=\"#DejaVuSans-30\" x=\"127.246094\"/>\n    </g>\n   </g>\n   <g id=\"line2d_45\">\n    <path d=\"M 354.326103 197.41375 \nL 364.326103 197.41375 \nL 374.326103 197.41375 \n\" style=\"fill: none; stroke: #2d1e3e; stroke-width: 1.5; stroke-linecap: square\"/>\n   </g>\n   <g id=\"text_24\">\n    <!-- 200 -->\n    <g transform=\"translate(382.326103 200.91375) scale(0.1 -0.1)\">\n     <use xlink:href=\"#DejaVuSans-32\"/>\n     <use xlink:href=\"#DejaVuSans-30\" x=\"63.623047\"/>\n     <use xlink:href=\"#DejaVuSans-30\" x=\"127.246094\"/>\n    </g>\n   </g>\n  </g>\n </g>\n <defs>\n  <clipPath id=\"pc145333b8a\">\n   <rect x=\"44.059375\" y=\"7.2\" width=\"299.225716\" height=\"307.24\"/>\n  </clipPath>\n </defs>\n</svg>\n",
      "text/plain": [
       "<Figure size 592.111x500 with 1 Axes>"
      ]
     },
     "metadata": {},
     "output_type": "display_data"
    }
   ],
   "source": [
    "g = sns.relplot(data=antres_custer_df[antres_custer_df.n_gw==1], x='failed',y='conn_ratio', kind='line', hue='cluster_size')\n",
    "for ax in g.axes.flatten():\n",
    "    ax.grid(alpha=0.5) "
   ]
  },
  {
   "cell_type": "markdown",
   "metadata": {},
   "source": [
    "**Antennas per node**"
   ]
  },
  {
   "cell_type": "code",
   "execution_count": 21,
   "metadata": {},
   "outputs": [],
   "source": [
    "\n",
    "data = []\n",
    "for (f,w_g,f_g, n_subs) in graphs:\n",
    "    measures = {}\n",
    "    area, ratio, cluster_size, algo, n_gw, time, random_seed = re.split('[._/]', f)[1:8]\n",
    "    cluster_size = int(cluster_size)\n",
    "    ratio = int(ratio)\n",
    "\n",
    "    gws = [n for n in w_g if 'type' in w_g.nodes[n] and w_g.nodes[n]['type'] == 'gateway']\n",
    "    \n",
    "    for n in w_g.nodes():\n",
    "        if w_g.degree()[n] > 0:\n",
    "            run = {}\n",
    "            run['area'] = area\n",
    "            run['cluster_size'] = cluster_size\n",
    "            run['ratio'] =  ratio\n",
    "            if n in gws:\n",
    "                run['type'] = 'gw'\n",
    "            elif w_g.degree()[n]==1:\n",
    "                run['type'] = 'leaf'\n",
    "            else:\n",
    "                run['type'] = 'relay'\n",
    "            run['antennae'] =  w_g.nodes[n]['n_ant']\n",
    "            run['degree'] = w_g.degree()[n]\n",
    "            run['n_gw'] = n_gw\n",
    "            run['algo'] = algo\n",
    "            run['area'] =  area\n",
    "            data.append(run)\n",
    "            \n",
    "\n",
    "ant_node = pd.DataFrame(data)"
   ]
  },
  {
   "cell_type": "markdown",
   "metadata": {},
   "source": [
    "**Gnuplot Graphs**"
   ]
  },
  {
   "cell_type": "markdown",
   "metadata": {},
   "source": [
    "Fiber deploy over cluster size and customer ratio"
   ]
  },
  {
   "cell_type": "code",
   "execution_count": 22,
   "metadata": {},
   "outputs": [
    {
     "name": "stderr",
     "output_type": "stream",
     "text": [
      "/tmp/ipykernel_4156141/3310874289.py:5: FutureWarning: In a future version of pandas all arguments of DataFrame.pivot will be keyword-only.\n",
      "  data = data.reset_index().pivot('cluster_size', 'ratio',['mean', 'ci'])\n",
      "/tmp/ipykernel_4156141/3310874289.py:5: FutureWarning: In a future version of pandas all arguments of DataFrame.pivot will be keyword-only.\n",
      "  data = data.reset_index().pivot('cluster_size', 'ratio',['mean', 'ci'])\n",
      "/tmp/ipykernel_4156141/3310874289.py:5: FutureWarning: In a future version of pandas all arguments of DataFrame.pivot will be keyword-only.\n",
      "  data = data.reset_index().pivot('cluster_size', 'ratio',['mean', 'ci'])\n",
      "/tmp/ipykernel_4156141/3310874289.py:5: FutureWarning: In a future version of pandas all arguments of DataFrame.pivot will be keyword-only.\n",
      "  data = data.reset_index().pivot('cluster_size', 'ratio',['mean', 'ci'])\n"
     ]
    }
   ],
   "source": [
    "for n_gw in ['1','2']:\n",
    "    for algo in edf.algo.unique():\n",
    "        fiber = edf[(edf.type_cost=='fiber_cost') & (edf.n_gw == n_gw) & (edf.algo ==algo)]\n",
    "        data = fiber.groupby(['ratio', 'cluster_size'])['cost_customer'].agg(['mean', ci])\n",
    "        data = data.reset_index().pivot('cluster_size', 'ratio',['mean', 'ci'])\n",
    "        data.columns = [\"_\".join([a[0], str(a[1])]) for a in data.columns.to_flat_index()]\n",
    "        to_csv_comment(data, f'/home/gabriel/WORKS/TrueNets/CNSM22/processed/fiber_cost_{n_gw}_{algo}.csv')\n",
    "#sns.relplot(data=data, x='gateways', y='mean', hue='ratio', kind='line')\n"
   ]
  },
  {
   "cell_type": "markdown",
   "metadata": {},
   "source": [
    "Overall cost for cluster = 200 over customer ratio"
   ]
  },
  {
   "cell_type": "code",
   "execution_count": 23,
   "metadata": {},
   "outputs": [],
   "source": [
    "for n_gw in ['1','2']:\n",
    "    for algo in edf.algo.unique():\n",
    "        if n_gw =='1' and algo =='espfp':\n",
    "            continue\n",
    "        costs = opdf[(opdf.cluster_size==200)& (opdf.n_gw == n_gw) & (opdf.algo ==algo)].groupby('ratio')[['fiber_cost', 'transport_cost', 'unplanned_cost']].agg(['mean', ci])\n",
    "        capex = sedf[(sedf.cluster_size==200)& (sedf.n_gw == n_gw) & (sedf.algo ==algo)].groupby('ratio')['capex'].agg(['mean', ci])\n",
    "        costs['capex', 'mean'] = capex['mean']\n",
    "        costs['capex', 'ci'] = capex['ci']\n",
    "        costs.columns = [\"_\".join(a) for a in costs.columns.to_flat_index()]\n",
    "        costs['recurring'] = costs['fiber_cost_mean'] + costs['transport_cost_mean'] + costs['unplanned_cost_mean']\n",
    "        costs['sum'] = costs['recurring'] + costs['capex_mean']\n",
    "\n",
    "        costs.index = costs.index/100\n",
    "        to_csv_comment(costs, f'/home/gabriel/WORKS/TrueNets/CNSM22/processed/costs_{n_gw}_{algo}.csv')\n"
   ]
  },
  {
   "cell_type": "markdown",
   "metadata": {},
   "source": [
    "Capex customer breaked up"
   ]
  },
  {
   "cell_type": "code",
   "execution_count": 24,
   "metadata": {},
   "outputs": [
    {
     "name": "stderr",
     "output_type": "stream",
     "text": [
      "/tmp/ipykernel_4156141/1024778943.py:5: UserWarning: Boolean Series key will be reindexed to match DataFrame index.\n",
      "  rat = df[(df.cluster_size == 200) & (df.n_gw == n_gw)& (edf.algo ==algo)].groupby(['ratio'])['relays_ratio'].agg(['mean', ci])\n",
      "/tmp/ipykernel_4156141/1024778943.py:7: FutureWarning: In a future version of pandas all arguments of DataFrame.pivot will be keyword-only.\n",
      "  capex =  capex1.reset_index().pivot('ratio', 'type_cost',['mean', 'ci'])\n",
      "/tmp/ipykernel_4156141/1024778943.py:5: UserWarning: Boolean Series key will be reindexed to match DataFrame index.\n",
      "  rat = df[(df.cluster_size == 200) & (df.n_gw == n_gw)& (edf.algo ==algo)].groupby(['ratio'])['relays_ratio'].agg(['mean', ci])\n",
      "/tmp/ipykernel_4156141/1024778943.py:7: FutureWarning: In a future version of pandas all arguments of DataFrame.pivot will be keyword-only.\n",
      "  capex =  capex1.reset_index().pivot('ratio', 'type_cost',['mean', 'ci'])\n",
      "/tmp/ipykernel_4156141/1024778943.py:5: UserWarning: Boolean Series key will be reindexed to match DataFrame index.\n",
      "  rat = df[(df.cluster_size == 200) & (df.n_gw == n_gw)& (edf.algo ==algo)].groupby(['ratio'])['relays_ratio'].agg(['mean', ci])\n",
      "/tmp/ipykernel_4156141/1024778943.py:7: FutureWarning: In a future version of pandas all arguments of DataFrame.pivot will be keyword-only.\n",
      "  capex =  capex1.reset_index().pivot('ratio', 'type_cost',['mean', 'ci'])\n"
     ]
    }
   ],
   "source": [
    "for n_gw in ['1','2']:\n",
    "    for algo in df.algo.unique():\n",
    "        if n_gw =='1' and algo =='espfp':\n",
    "            continue\n",
    "        rat = df[(df.cluster_size == 200) & (df.n_gw == n_gw)& (edf.algo ==algo)].groupby(['ratio'])['relays_ratio'].agg(['mean', ci])\n",
    "        capex1 = edf[(edf.cluster_size==200) & (edf.n_gw == n_gw)& (edf.algo ==algo)].groupby(['ratio', 'type_cost'])['cost_customer'].agg(['mean', ci])\n",
    "        capex =  capex1.reset_index().pivot('ratio', 'type_cost',['mean', 'ci'])\n",
    "        capex.columns = [\"_\".join(a) for a in capex.columns.to_flat_index()]\n",
    "        capex['relayratio_mean'] = rat['mean']\n",
    "        capex['relayratio_ci'] = rat.ci\n",
    "        capex['sum'] = capex['mean_deploy'] + capex['mean_fiber_cost'] + capex['mean_radio_cost'] + capex['mean_router_cost']\n",
    "\n",
    "        capex.index = capex.index/100\n",
    "        to_csv_comment(capex, f'/home/gabriel/WORKS/TrueNets/CNSM22/processed/capex_{n_gw}_{algo}.csv')\n"
   ]
  },
  {
   "cell_type": "markdown",
   "metadata": {},
   "source": [
    "Effective bandwidth"
   ]
  },
  {
   "cell_type": "code",
   "execution_count": 25,
   "metadata": {},
   "outputs": [],
   "source": [
    "for n_gw in ['1', '2']:\n",
    "    for algo in bwdf.algo.unique():\n",
    "        if n_gw =='1' and algo =='espfp':\n",
    "            continue\n",
    "        min_bw = bwdf[(bwdf.cluster_size==200) & (bwdf.n_gw == n_gw)& (bwdf.algo ==algo)].groupby(['ratio'])['min_bw'].agg(['mean', ci])\n",
    "        to_csv_comment(min_bw, f'/home/gabriel/WORKS/TrueNets/CNSM22/processed/min_bw_{n_gw}_{algo}.csv')\n",
    "#sns.relplot(data=bwdf, x='gateways', y='min_bw', hue='ratio', kind='line')"
   ]
  },
  {
   "cell_type": "code",
   "execution_count": 26,
   "metadata": {},
   "outputs": [],
   "source": [
    "for n_gw in ['1', '2']:\n",
    "    for algo in bwdf.algo.unique():\n",
    "        if n_gw =='1' and algo =='espfp':\n",
    "            continue\n",
    "        max_bw = bwdf[(bwdf.cluster_size==200) & (bwdf.n_gw == n_gw)& (bwdf.algo ==algo)].groupby(['ratio'])['max_bw'].agg(['mean', ci])\n",
    "        max_bw.index = max_bw.index/100\n",
    "        to_csv_comment(max_bw, f'/home/gabriel/WORKS/TrueNets/CNSM22/processed/max_bw_{n_gw}_{algo}.csv')"
   ]
  },
  {
   "cell_type": "code",
   "execution_count": 27,
   "metadata": {},
   "outputs": [
    {
     "data": {
      "text/html": [
       "<div>\n",
       "<style scoped>\n",
       "    .dataframe tbody tr th:only-of-type {\n",
       "        vertical-align: middle;\n",
       "    }\n",
       "\n",
       "    .dataframe tbody tr th {\n",
       "        vertical-align: top;\n",
       "    }\n",
       "\n",
       "    .dataframe thead th {\n",
       "        text-align: right;\n",
       "    }\n",
       "</style>\n",
       "<table border=\"1\" class=\"dataframe\">\n",
       "  <thead>\n",
       "    <tr style=\"text-align: right;\">\n",
       "      <th></th>\n",
       "      <th>sum</th>\n",
       "      <th>recurring</th>\n",
       "      <th>sum</th>\n",
       "      <th>mean</th>\n",
       "      <th>0</th>\n",
       "      <th>mean</th>\n",
       "      <th>1</th>\n",
       "    </tr>\n",
       "    <tr>\n",
       "      <th>ratio</th>\n",
       "      <th></th>\n",
       "      <th></th>\n",
       "      <th></th>\n",
       "      <th></th>\n",
       "      <th></th>\n",
       "      <th></th>\n",
       "      <th></th>\n",
       "    </tr>\n",
       "  </thead>\n",
       "  <tbody>\n",
       "    <tr>\n",
       "      <th>0.25</th>\n",
       "      <td>1362.975710</td>\n",
       "      <td>16.168364</td>\n",
       "      <td>38.884626</td>\n",
       "      <td>NaN</td>\n",
       "      <td>NaN</td>\n",
       "      <td>335.578120</td>\n",
       "      <td>0.115874</td>\n",
       "    </tr>\n",
       "    <tr>\n",
       "      <th>0.50</th>\n",
       "      <td>1128.458505</td>\n",
       "      <td>10.517778</td>\n",
       "      <td>29.325420</td>\n",
       "      <td>NaN</td>\n",
       "      <td>NaN</td>\n",
       "      <td>335.817057</td>\n",
       "      <td>0.087326</td>\n",
       "    </tr>\n",
       "    <tr>\n",
       "      <th>1.00</th>\n",
       "      <td>852.116977</td>\n",
       "      <td>6.974541</td>\n",
       "      <td>21.176490</td>\n",
       "      <td>NaN</td>\n",
       "      <td>NaN</td>\n",
       "      <td>335.885416</td>\n",
       "      <td>0.063047</td>\n",
       "    </tr>\n",
       "    <tr>\n",
       "      <th>25.00</th>\n",
       "      <td>NaN</td>\n",
       "      <td>NaN</td>\n",
       "      <td>NaN</td>\n",
       "      <td>11.689506</td>\n",
       "      <td>NaN</td>\n",
       "      <td>NaN</td>\n",
       "      <td>NaN</td>\n",
       "    </tr>\n",
       "    <tr>\n",
       "      <th>50.00</th>\n",
       "      <td>NaN</td>\n",
       "      <td>NaN</td>\n",
       "      <td>NaN</td>\n",
       "      <td>11.342919</td>\n",
       "      <td>NaN</td>\n",
       "      <td>NaN</td>\n",
       "      <td>NaN</td>\n",
       "    </tr>\n",
       "    <tr>\n",
       "      <th>100.00</th>\n",
       "      <td>NaN</td>\n",
       "      <td>NaN</td>\n",
       "      <td>NaN</td>\n",
       "      <td>10.348044</td>\n",
       "      <td>NaN</td>\n",
       "      <td>NaN</td>\n",
       "      <td>NaN</td>\n",
       "    </tr>\n",
       "  </tbody>\n",
       "</table>\n",
       "</div>"
      ],
      "text/plain": [
       "                sum  recurring        sum       mean   0        mean         1\n",
       "ratio                                                                         \n",
       "0.25    1362.975710  16.168364  38.884626        NaN NaN  335.578120  0.115874\n",
       "0.50    1128.458505  10.517778  29.325420        NaN NaN  335.817057  0.087326\n",
       "1.00     852.116977   6.974541  21.176490        NaN NaN  335.885416  0.063047\n",
       "25.00           NaN        NaN        NaN  11.689506 NaN         NaN       NaN\n",
       "50.00           NaN        NaN        NaN  11.342919 NaN         NaN       NaN\n",
       "100.00          NaN        NaN        NaN  10.348044 NaN         NaN       NaN"
      ]
     },
     "execution_count": 27,
     "metadata": {},
     "output_type": "execute_result"
    }
   ],
   "source": [
    "pd.concat([capex['sum'],  costs['recurring'], costs['sum'], min_bw['mean'], costs['sum']/min_bw['mean'],max_bw['mean'], costs['sum']/max_bw['mean']], axis=1)"
   ]
  },
  {
   "cell_type": "code",
   "execution_count": 28,
   "metadata": {},
   "outputs": [
    {
     "data": {
      "text/plain": [
       "array(['dijkstra', 'espfp'], dtype=object)"
      ]
     },
     "execution_count": 28,
     "metadata": {},
     "output_type": "execute_result"
    }
   ],
   "source": [
    "ant_node.algo.unique()"
   ]
  },
  {
   "cell_type": "code",
   "execution_count": 29,
   "metadata": {},
   "outputs": [],
   "source": [
    "for n_gw in ['1', '2']:\n",
    "    for algo in ant_node.algo.unique():\n",
    "        if n_gw =='1' and algo =='espfp':\n",
    "            continue\n",
    "        ant_type = ant_node[(ant_node.cluster_size == 200) &(ant_node.type != 'leaf')&(ant_node.ratio!=20)& (ant_node.n_gw == n_gw)& (ant_node.algo ==algo)][['antennae', 'type']]\n",
    "        to_csv_comment(ant_type, f'/home/gabriel/WORKS/TrueNets/CNSM22/processed/ant_type_{n_gw}_{algo}.csv')"
   ]
  }
 ],
 "metadata": {
  "kernelspec": {
   "display_name": "phigraph",
   "language": "python",
   "name": "python3"
  },
  "language_info": {
   "codemirror_mode": {
    "name": "ipython",
    "version": 3
   },
   "file_extension": ".py",
   "mimetype": "text/x-python",
   "name": "python",
   "nbconvert_exporter": "python",
   "pygments_lexer": "ipython3",
   "version": "3.11.2"
  },
  "orig_nbformat": 4,
  "vscode": {
   "interpreter": {
    "hash": "0bdb0f4c87a7c073fa2b033f0ebfebbc0523645a8572e6d563ddee7943f07c91"
   }
  }
 },
 "nbformat": 4,
 "nbformat_minor": 2
}
