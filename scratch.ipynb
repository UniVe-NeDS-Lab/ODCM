{
 "cells": [
  {
   "cell_type": "code",
   "execution_count": 27,
   "metadata": {},
   "outputs": [],
   "source": [
    "import networkx as nx\n",
    "import itertools\n",
    "import random"
   ]
  },
  {
   "cell_type": "code",
   "execution_count": 38,
   "metadata": {},
   "outputs": [
    {
     "name": "stdout",
     "output_type": "stream",
     "text": [
      "((12, 18, 40), 0.0009737098344693282)\n",
      "CPU times: user 13.5 s, sys: 25.1 ms, total: 13.6 s\n",
      "Wall time: 13.6 s\n",
      "((12, 18, 40), 0.0009737098344693282)\n",
      "CPU times: user 5min 1s, sys: 79.3 ms, total: 5min 1s\n",
      "Wall time: 5min 1s\n"
     ]
    }
   ],
   "source": [
    "def group_closeness_weighted_fast(graph, k): #n^(k+2)\n",
    "    distances = nx.floyd_warshall(graph,  weight='dist')\n",
    "    subs = {n:graph.nodes[n]['subscribers'] for n in graph.nodes()}\n",
    "    pairs = itertools.combinations(graph.nodes(), k) #n^k\n",
    "    group_c = {}\n",
    "    for p in pairs:\n",
    "        sums = 0\n",
    "        for n,s in subs.items():\n",
    "            sums += min([distances[src][n] for src in p])*s\n",
    "        group_c[p] = 1/sums#sum([s*path_dists[n] for n,s in subs.items()])\n",
    "    return(max(group_c.items(), key=lambda x:x[1]))\n",
    "\n",
    "def group_closeness_weighted(graph, k): #n^(k+2)\n",
    "    #TODO might be improved by using floyd_warshall algorithm to precompute all pair shortest path lengths\n",
    "    subs = {n:graph.nodes[n]['subscribers'] for n in graph.nodes()}\n",
    "    pairs = itertools.combinations(graph.nodes(), k) #n^k\n",
    "    group_c = {}\n",
    "    for p in pairs:\n",
    "        path_dists = nx.multi_source_dijkstra_path_length(graph, p, weight='dist') #n^2 ?\n",
    "        group_c[p] = 1/sum([s*path_dists[n] for n,s in subs.items()])\n",
    "    return(max(group_c.items(), key=lambda x:x[1]))\n",
    "\n",
    "g = nx.erdos_renyi_graph(100, 0.4)\n",
    "\n",
    "#add random distance\n",
    "for s,t in g.edges():\n",
    "    g[s][t]['dist'] = random.randint(0,100)\n",
    "\n",
    "#add random subscribers\n",
    "for n in g.nodes():\n",
    "    g.nodes[n]['subscribers'] = random.randint(0,5)\n",
    "\n",
    "\n",
    "\n",
    "%time print(group_closeness_weighted_fast(g, 3))\n",
    "%time print(group_closeness_weighted(g, 3))"
   ]
  },
  {
   "cell_type": "code",
   "execution_count": 1,
   "metadata": {},
   "outputs": [
    {
     "name": "stdout",
     "output_type": "stream",
     "text": [
      "Pretty printing has been turned OFF\n"
     ]
    }
   ],
   "source": [
    "#%matplotlib widget\n",
    "import networkx as nx\n",
    "from pprint import pprint\n",
    "import pandas as pd\n",
    "import math as m\n",
    "import numpy as np\n",
    "from matplotlib import pyplot as plt\n",
    "%pprint\n",
    "mac_efficiency=0.84"
   ]
  },
  {
   "cell_type": "code",
   "execution_count": 2,
   "metadata": {},
   "outputs": [],
   "source": [
    "graph = nx.read_graphml('/tmp/0_dualgw.graphml')"
   ]
  },
  {
   "cell_type": "code",
   "execution_count": 3,
   "metadata": {},
   "outputs": [],
   "source": [
    "#CapEx costs\n",
    "capex_costs = {\n",
    "    'gateway_deploy': 10000, #cost to deploy trellis + works + permits\n",
    "    'gateway_router': 5000, # \n",
    "    'fiber_deploy': 6000, # per km (aerial)\n",
    "    'relay_router': 500, # \n",
    "    'relay_deploy':  1000, # cost for trellis +  works \n",
    "    'leaf_deploy': 300, #cost for roof installation\n",
    "    'leaf_radio': 100, #cost of LHG XL5 ac\n",
    "    'mp_radio': 200 # cost of mANTBox 19\n",
    "}\n",
    "\n",
    "#OpEx costs\n",
    "opex_costs = {\n",
    "    'bw': 1680, #Euros per year for 1Gbps  [Cerdà 2020]\n",
    "    'transport_10': 31200, # yearly price for transport of 10Gbps [xarxaoberta.cat]\n",
    "    'transport_100': 55200,  # yearly price for transport of 100Gbps [xarxaoberta.cat]\n",
    "    'planned_maintenance': 50, #euros per hour to repair\n",
    "    'unplanned_maintenance': 200 #euros per hour to repair\n",
    "}\n",
    "\n",
    "#Reliability values\n",
    "mttf = {\n",
    "    'router': 2e5, #hours [verbrugge 2006] 22y\n",
    "    'radio': 1e5, #hours [mikrotik datasheet]  11yrs\n",
    "}\n",
    "\n",
    "mttr = {\n",
    "    'router': 2, #hours [verbrugge 2006]\n",
    "    'radio': 4, #hours [assumed]\n",
    "}\n",
    "\n",
    "#802.11ac technological values\n",
    "speed_table = [(-72, 400),    #MCS Rx table derived by Mikrotik antbox19 datasheet (some values have been interpolated)\n",
    "               (-75,360),\n",
    "               (-77,300),\n",
    "               (-83,270),\n",
    "               (-86,240),\n",
    "               (-90,180),\n",
    "               (-92,120),\n",
    "               (-94,90),\n",
    "               (-95,60),\n",
    "               (-96,30)] \n",
    "\n",
    "pt = 30 # (dBm) Maximum EIRP According to Italian regulations (1W)\n",
    "gr_m = 19 # (dBi) received gain for mANTBox 19\n",
    "gr_d = 27 # (dBi) received gain for LHG XL5\n",
    "\n",
    "max_bx = 360   #max ch capacity at mcs8\n",
    "contention_ratio = 50\n",
    "mpant_bw = 120 #beamwidth of the mANTbox 19\n",
    "mgb =  max_bx/contention_ratio\n",
    "mchan = max_bx/contention_ratio\n"
   ]
  },
  {
   "cell_type": "code",
   "execution_count": 4,
   "metadata": {},
   "outputs": [],
   "source": [
    "def calc_speed(g, src, dst):\n",
    "    d = g[src][dst]['dist']\n",
    "    pl = 20*m.log10(4*m.pi*d/0.0599585) #5ghz\n",
    "    if g.degree()[dst] == 1: # leaf\n",
    "        pr = pt + gr_d - pl\n",
    "    else: #relay\n",
    "        pr = pt + gr_m - pl\n",
    "    \n",
    "    for i in range(len(speed_table)):\n",
    "        if pr>speed_table[i][0]:\n",
    "            return speed_table[i][1]\n",
    "    return 0\n",
    "\n",
    "\n",
    "def calc_maxbw(g, p):\n",
    "    bottleneck = speed_table[0][1] #initalize to maximum value (400mbps)\n",
    "    for i in range(len(p)-1):\n",
    "        speed = calc_speed(g, p[i], p[i+1])\n",
    "        if speed<bottleneck:\n",
    "            bottleneck=speed\n",
    "    return bottleneck\n",
    "\n",
    "def calc_minbw(g, p):\n",
    "    bw_path = [max_bx*g.nodes[n]['n_ant']/sum([n['paths'] for n in g[n].values()]) for n in p]\n",
    "    pass\n",
    "    return min(bw_path)\n",
    "        \n",
    "def calc_minbw_leo(g, p):\n",
    "    bw_path = []\n",
    "    bw_path.append(max_bx*g.nodes[p[0]]['n_ant']/sum([n['paths'] for n in g[p[0]].values()]))\n",
    "    for i in range(0, len(p)-1):\n",
    "        speed = calc_speed(g, p[i], p[i+1])\n",
    "        links = g[p[i]][p[i+1]]['paths']\n",
    "        bw_path.append(speed/links)\n",
    "    pass\n",
    "    return min(bw_path)\n",
    "\n",
    "def calc_minbw_gab(g, path):\n",
    "    return min([g.nodes[p]['bottleneck'] for p in path])\n",
    "\n",
    "\n",
    "def compute_bw(g):\n",
    "    speeds = []\n",
    "    for n in w_g.nodes():\n",
    "        if w_g.degree()[n]>0:\n",
    "            caps = []\n",
    "            n_paths = 0\n",
    "            for neigh in w_g[n].keys():\n",
    "                caps.append(calc_speed(w_g, n, neigh))\n",
    "                n_paths += w_g[n][neigh]['paths']\n",
    "            w_g.nodes[n]['capacity'] = w_g.nodes[n]['n_ant'] * np.mean(caps)\n",
    "            w_g.nodes[n]['paths'] = n_paths\n",
    "            w_g.nodes[n]['bottleneck'] = w_g.nodes[n]['capacity'] / n_paths\n",
    "\n",
    "    \n",
    "    for src, p in paths.items():\n",
    "        if src in gws:\n",
    "            continue\n",
    "        #min_bw = calc_minbw(w_g, p)\n",
    "        min_bw = calc_minbw_gab(w_g, p)\n",
    "        \n",
    "        max_bw = calc_maxbw(w_g, p)\n",
    "        for s in range(w_g.nodes(data=True)[src]['subscriptions']):\n",
    "            run = {}\n",
    "            run['area'] = area\n",
    "            run['cluster_size'] = cluster_size\n",
    "            run['ratio'] =  ratio\n",
    "            run['gateways'] = len([n for n,att in w_g.nodes(data=True) if att.get('type')=='gateway'])\n",
    "            run['n_gw'] = n_gw\n",
    "            run['node'] = src\n",
    "            #run['min_bw'] = mac_efficiency*min_bw\n",
    "            run['max_bw'] = mac_efficiency*max_bw\n",
    "            run['min_bw'] = mac_efficiency*min_bw\n",
    "            data.append(run)\n",
    "        "
   ]
  },
  {
   "cell_type": "code",
   "execution_count": 22,
   "metadata": {},
   "outputs": [],
   "source": [
    "fig_idx = 0\n",
    "def plot_graph(graph):\n",
    "    def get_col(type, degree):\n",
    "        if type=='bs' and degree == 1:\n",
    "            return 'yellow'\n",
    "        if type=='bs' and degree > 1:\n",
    "            return 'black'\n",
    "        elif type=='gateway':\n",
    "            return 'red'\n",
    "        else:\n",
    "            return 'blue'\n",
    "    \n",
    "    def get_edge_attr(graph, src, tgt):\n",
    "        if graph.has_edge(src, tgt):\n",
    "            if graph[src][tgt].get('addedd') == True:\n",
    "                return 'red', 1, 3\n",
    "            return 'black', 1, 3\n",
    "        else:\n",
    "            return 'green', 0.3, 0.5\n",
    "    \n",
    "    pos = {n:(d['x'], d['y']) for n,d in graph.nodes(data=True)}\n",
    "    col = [get_col(graph.nodes[n]['type'], nx.degree(graph, n)) for n in graph.nodes()]\n",
    "    node_sizes = [10*graph.nodes[n].get('paths',1) for n in graph]\n",
    "    print(node_sizes)\n",
    "    fig = plt.figure(fig_idx)\n",
    "    nx.draw_networkx_nodes(graph, pos=pos, node_color=col, node_size=node_sizes)\n",
    "    edge_col = [get_edge_attr(graph, src, tgt)[0] for src, tgt in graph.edges()]\n",
    "    edge_alpha = [get_edge_attr(graph, src, tgt)[1] for src, tgt in graph.edges()]\n",
    "    edge_width = [get_edge_attr(graph, src, tgt)[2] for src, tgt in graph.edges()]\n",
    "    nx.draw_networkx_edges(graph, pos=pos, edge_color=edge_col, alpha=edge_alpha, width=edge_width)\n",
    "    plt.show()\n",
    "\n",
    "def plot_msp(paths, g):\n",
    "    MSP = nx.DiGraph()\n",
    "    MSP.add_nodes_from(g.nodes(data=True))\n",
    "    for n, p in paths.items():\n",
    "        for p_i in range(len(p)-1):\n",
    "            pass\n",
    "            MSP.add_edge(p[p_i+1], p[p_i])\n",
    "    plt.clf()\n",
    "    plot_graph(MSP)\n",
    "\n",
    "    \n"
   ]
  },
  {
   "cell_type": "code",
   "execution_count": 23,
   "metadata": {},
   "outputs": [
    {
     "name": "stdout",
     "output_type": "stream",
     "text": [
      "['704364515', '704409574']\n",
      "22 paths to 2 gw\n",
      "[10, 10, 20, 10, 20, 10, 50, 30, 50, 10, 40, 10, 140, 60, 10, 10, 50, 80, 30, 310, 60, 20]\n"
     ]
    },
    {
     "data": {
      "text/plain": [
       "<Figure size 432x288 with 0 Axes>"
      ]
     },
     "metadata": {},
     "output_type": "display_data"
    },
    {
     "data": {
      "image/png": "[encoded data removed]",
      "text/plain": [
       "<Figure size 432x288 with 1 Axes>"
      ]
     },
     "metadata": {},
     "output_type": "display_data"
    }
   ],
   "source": [
    "\n",
    "mygraph = graph.copy()\n",
    "results = []\n",
    "nodes_df = pd.DataFrame([d[1] for d in mygraph.nodes(data=True)]).set_index('id')\n",
    "nodes_c = nodes_df[nodes_df.cluster == 0]\n",
    "g = nx.subgraph(mygraph, map(str, nodes_c.index.values))\n",
    "gw_c = nodes_c[nodes_c.type == 'gateway'].index.values\n",
    "gws = list(map(str, gw_c))\n",
    "print(gws)\n",
    "paths = nx.multi_source_dijkstra_path(g, gws, weight='dist')\n",
    "fig_idx = 0\n",
    "\n",
    "print(f\"{len(paths)} paths to {len(gws)} gw\")\n",
    "#print(gws, len(paths), sorted(paths.items()))\n",
    "speeds = []\n",
    "for n in g.nodes():\n",
    "    if g.degree()[n]>0:\n",
    "        caps = []\n",
    "        n_paths = 0\n",
    "        for neigh in g[n].keys():\n",
    "            caps.append(calc_speed(g, n, neigh))\n",
    "            n_paths += g[n][neigh]['paths']\n",
    "        g.nodes[n]['capacity'] = g.nodes[n]['n_ant'] * np.mean(caps)\n",
    "        #print(f\"{g.nodes[n].get('paths', 0)} {n_paths}\")\n",
    "        g.nodes[n]['paths'] = n_paths\n",
    "        g.nodes[n]['bottleneck'] = g.nodes[n]['capacity'] / n_paths\n",
    "plot_msp(paths, g)\n",
    "\n",
    "for src, p in paths.items():\n",
    "    if src in gws:\n",
    "        for s in range(g.nodes(data=True)[src]['subscriptions']):\n",
    "            results.append({'min_bw': None, 'max_bw': None})\n",
    "    else:\n",
    "        #min_bw = calc_minbw(w_g, p)\n",
    "        min_bw = calc_minbw_gab(g, p)\n",
    "        max_bw = calc_maxbw(g, p)\n",
    "        for s in range(g.nodes(data=True)[src]['subscriptions']):\n",
    "            results.append({'min_bw': mac_efficiency*min_bw, 'max_bw': mac_efficiency*max_bw})\n"
   ]
  },
  {
   "cell_type": "code",
   "execution_count": 24,
   "metadata": {},
   "outputs": [
    {
     "name": "stdout",
     "output_type": "stream",
     "text": [
      "['704364515']\n",
      "22 paths to 1 gw\n",
      "[10, 10, 20, 10, 20, 10, 50, 30, 50, 10, 40, 10, 140, 60, 10, 10, 50, 80, 30, 310, 60, 20]\n"
     ]
    },
    {
     "data": {
      "image/png": "[encoded data removed]",
      "text/plain": [
       "<Figure size 432x288 with 1 Axes>"
      ]
     },
     "metadata": {},
     "output_type": "display_data"
    },
    {
     "name": "stdout",
     "output_type": "stream",
     "text": [
      "46\n",
      "[{'min_bw': None, 'max_bw': None}, {'min_bw': None, 'max_bw': None}, {'min_bw': None, 'max_bw': None}, {'min_bw': None, 'max_bw': None}, {'min_bw': None, 'max_bw': None}, {'min_bw': None, 'max_bw': None}, {'min_bw': None, 'max_bw': None}, {'min_bw': None, 'max_bw': None}, {'min_bw': None, 'max_bw': None}, {'min_bw': None, 'max_bw': None}, {'min_bw': 32.516129032258064, 'max_bw': 336.0}, {'min_bw': 32.516129032258064, 'max_bw': 336.0}, {'min_bw': 32.516129032258064, 'max_bw': 336.0}, {'min_bw': 32.516129032258064, 'max_bw': 336.0}, {'min_bw': 32.516129032258064, 'max_bw': 336.0}, {'min_bw': 32.516129032258064, 'max_bw': 336.0}, {'min_bw': 32.516129032258064, 'max_bw': 336.0}, {'min_bw': 32.516129032258064, 'max_bw': 336.0}, {'min_bw': 32.516129032258064, 'max_bw': 336.0}, {'min_bw': 32.516129032258064, 'max_bw': 336.0}, {'min_bw': 32.516129032258064, 'max_bw': 336.0}, {'min_bw': 32.516129032258064, 'max_bw': 336.0}, {'min_bw': 32.516129032258064, 'max_bw': 336.0}, {'min_bw': 32.516129032258064, 'max_bw': 336.0}, {'min_bw': 32.516129032258064, 'max_bw': 336.0}, {'min_bw': 32.516129032258064, 'max_bw': 336.0}, {'min_bw': 32.516129032258064, 'max_bw': 336.0}, {'min_bw': 32.516129032258064, 'max_bw': 336.0}, {'min_bw': 32.516129032258064, 'max_bw': 336.0}, {'min_bw': 32.516129032258064, 'max_bw': 336.0}, {'min_bw': 32.516129032258064, 'max_bw': 336.0}, {'min_bw': 32.516129032258064, 'max_bw': 336.0}, {'min_bw': 32.516129032258064, 'max_bw': 336.0}, {'min_bw': 32.516129032258064, 'max_bw': 336.0}, {'min_bw': 32.516129032258064, 'max_bw': 336.0}, {'min_bw': 32.516129032258064, 'max_bw': 336.0}, {'min_bw': 32.516129032258064, 'max_bw': 336.0}, {'min_bw': 32.516129032258064, 'max_bw': 336.0}, {'min_bw': 32.516129032258064, 'max_bw': 336.0}, {'min_bw': 32.516129032258064, 'max_bw': 336.0}, {'min_bw': 32.516129032258064, 'max_bw': 336.0}, {'min_bw': 32.516129032258064, 'max_bw': 336.0}, {'min_bw': 32.516129032258064, 'max_bw': 336.0}, {'min_bw': 32.516129032258064, 'max_bw': 336.0}, {'min_bw': 32.516129032258064, 'max_bw': 336.0}, {'min_bw': 32.516129032258064, 'max_bw': 336.0}]\n"
     ]
    }
   ],
   "source": [
    "\n",
    "mygraph = graph.copy()\n",
    "results = []\n",
    "nodes_df = pd.DataFrame([d[1] for d in mygraph.nodes(data=True)]).set_index('id')\n",
    "nodes_c = nodes_df[nodes_df.cluster == 0]\n",
    "g = nx.subgraph(mygraph, map(str, nodes_c.index.values))\n",
    "gw_c = nodes_c[nodes_c.type == 'gateway'].index.values\n",
    "gws = list(map(str, gw_c))\n",
    "gws =  gws[:1]\n",
    "print(gws)\n",
    "paths = nx.multi_source_dijkstra_path(g, gws, weight='dist')\n",
    "\n",
    "print(f\"{len(paths)} paths to {len(gws)} gw\")\n",
    "#print(gws, len(paths), sorted(paths.items()))\n",
    "speeds = []\n",
    "for n in g.nodes():\n",
    "    if g.degree()[n]>0:\n",
    "        caps = []\n",
    "        n_paths = 0\n",
    "        for neigh in g[n].keys():\n",
    "            caps.append(calc_speed(g, n, neigh))\n",
    "            n_paths += g[n][neigh]['paths']\n",
    "        g.nodes[n]['capacity'] = g.nodes[n]['n_ant'] * np.mean(caps)\n",
    "        #print(f\"{g.nodes[n].get('paths', 0)} {n_paths}\")\n",
    "        g.nodes[n]['paths'] = n_paths\n",
    "        g.nodes[n]['bottleneck'] = g.nodes[n]['capacity'] / n_paths\n",
    "fig_idx = 1\n",
    "plot_msp(paths, g)\n",
    "for src, p in paths.items():\n",
    "    if src in gws:\n",
    "        for s in range(g.nodes(data=True)[src]['subscriptions']):\n",
    "            results.append({'min_bw': None, 'max_bw': None})\n",
    "    else:\n",
    "        #min_bw = calc_minbw(w_g, p)\n",
    "        min_bw = calc_minbw_gab(g, p)\n",
    "        max_bw = calc_maxbw(g, p)\n",
    "        for s in range(g.nodes(data=True)[src]['subscriptions']):\n",
    "            results.append({'min_bw': mac_efficiency*min_bw, 'max_bw': mac_efficiency*max_bw})\n",
    "print(len(results))\n",
    "print(results)"
   ]
  },
  {
   "cell_type": "code",
   "execution_count": 25,
   "metadata": {},
   "outputs": [
    {
     "name": "stdout",
     "output_type": "stream",
     "text": [
      "['704409574']\n",
      "22 paths to 1 gw\n",
      "[10, 10, 20, 10, 20, 10, 50, 30, 50, 10, 40, 10, 140, 60, 10, 10, 50, 80, 30, 310, 60, 20]\n"
     ]
    },
    {
     "data": {
      "image/png": "[encoded data removed]",
      "text/plain": [
       "<Figure size 432x288 with 1 Axes>"
      ]
     },
     "metadata": {},
     "output_type": "display_data"
    },
    {
     "name": "stdout",
     "output_type": "stream",
     "text": [
      "46\n",
      "[{'min_bw': None, 'max_bw': None}, {'min_bw': None, 'max_bw': None}, {'min_bw': None, 'max_bw': None}, {'min_bw': 112.0, 'max_bw': 336.0}, {'min_bw': 112.0, 'max_bw': 336.0}, {'min_bw': 84.0, 'max_bw': 336.0}, {'min_bw': 84.0, 'max_bw': 336.0}, {'min_bw': 84.0, 'max_bw': 336.0}, {'min_bw': 48.0, 'max_bw': 336.0}, {'min_bw': 48.0, 'max_bw': 336.0}, {'min_bw': 48.0, 'max_bw': 336.0}, {'min_bw': 32.516129032258064, 'max_bw': 336.0}, {'min_bw': 32.516129032258064, 'max_bw': 336.0}, {'min_bw': 32.516129032258064, 'max_bw': 336.0}, {'min_bw': 32.516129032258064, 'max_bw': 336.0}, {'min_bw': 32.516129032258064, 'max_bw': 336.0}, {'min_bw': 32.516129032258064, 'max_bw': 336.0}, {'min_bw': 32.516129032258064, 'max_bw': 336.0}, {'min_bw': 32.516129032258064, 'max_bw': 336.0}, {'min_bw': 32.516129032258064, 'max_bw': 336.0}, {'min_bw': 32.516129032258064, 'max_bw': 336.0}, {'min_bw': 84.0, 'max_bw': 336.0}, {'min_bw': 48.0, 'max_bw': 336.0}, {'min_bw': 48.0, 'max_bw': 336.0}, {'min_bw': 48.0, 'max_bw': 336.0}, {'min_bw': 48.0, 'max_bw': 336.0}, {'min_bw': 48.0, 'max_bw': 336.0}, {'min_bw': 48.0, 'max_bw': 336.0}, {'min_bw': 32.516129032258064, 'max_bw': 336.0}, {'min_bw': 32.516129032258064, 'max_bw': 336.0}, {'min_bw': 32.516129032258064, 'max_bw': 336.0}, {'min_bw': 32.516129032258064, 'max_bw': 336.0}, {'min_bw': 32.516129032258064, 'max_bw': 336.0}, {'min_bw': 32.516129032258064, 'max_bw': 336.0}, {'min_bw': 32.516129032258064, 'max_bw': 336.0}, {'min_bw': 32.516129032258064, 'max_bw': 336.0}, {'min_bw': 32.516129032258064, 'max_bw': 336.0}, {'min_bw': 32.516129032258064, 'max_bw': 336.0}, {'min_bw': 32.516129032258064, 'max_bw': 336.0}, {'min_bw': 32.516129032258064, 'max_bw': 336.0}, {'min_bw': 32.516129032258064, 'max_bw': 336.0}, {'min_bw': 48.0, 'max_bw': 336.0}, {'min_bw': 48.0, 'max_bw': 336.0}, {'min_bw': 48.0, 'max_bw': 336.0}, {'min_bw': 48.0, 'max_bw': 336.0}, {'min_bw': 48.0, 'max_bw': 336.0}]\n"
     ]
    }
   ],
   "source": [
    "\n",
    "mygraph = graph.copy()\n",
    "results = []\n",
    "nodes_df = pd.DataFrame([d[1] for d in mygraph.nodes(data=True)]).set_index('id')\n",
    "nodes_c = nodes_df[nodes_df.cluster == 0]\n",
    "g = nx.subgraph(mygraph, map(str, nodes_c.index.values))\n",
    "gw_c = nodes_c[nodes_c.type == 'gateway'].index.values\n",
    "gws = list(map(str, gw_c))\n",
    "gws =  gws[1:]\n",
    "print(gws)\n",
    "paths = nx.multi_source_dijkstra_path(g, gws, weight='dist')\n",
    "\n",
    "print(f\"{len(paths)} paths to {len(gws)} gw\")\n",
    "#print(gws, len(paths), sorted(paths.items()))\n",
    "speeds = []\n",
    "for n in g.nodes():\n",
    "    if g.degree()[n]>0:\n",
    "        caps = []\n",
    "        n_paths = 0\n",
    "        for neigh in g[n].keys():\n",
    "            caps.append(calc_speed(g, n, neigh))\n",
    "            n_paths += g[n][neigh]['paths']\n",
    "        g.nodes[n]['capacity'] = g.nodes[n]['n_ant'] * np.mean(caps)\n",
    "        #print(f\"{g.nodes[n].get('paths', 0)} {n_paths}\")\n",
    "        g.nodes[n]['paths'] = n_paths\n",
    "        g.nodes[n]['bottleneck'] = g.nodes[n]['capacity'] / n_paths\n",
    "fig_idx = 1\n",
    "plot_msp(paths, g)\n",
    "for src, p in paths.items():\n",
    "    if src in gws:\n",
    "        for s in range(g.nodes(data=True)[src]['subscriptions']):\n",
    "            results.append({'min_bw': None, 'max_bw': None})\n",
    "    else:\n",
    "        #min_bw = calc_minbw(w_g, p)\n",
    "        min_bw = calc_minbw_gab(g, p)\n",
    "        max_bw = calc_maxbw(g, p)\n",
    "        for s in range(g.nodes(data=True)[src]['subscriptions']):\n",
    "            results.append({'min_bw': mac_efficiency*min_bw, 'max_bw': mac_efficiency*max_bw})\n",
    "print(len(results))\n",
    "print(results)"
   ]
  }
 ],
 "metadata": {
  "kernelspec": {
   "display_name": "phigraph",
   "language": "python",
   "name": "python3"
  },
  "language_info": {
   "codemirror_mode": {
    "name": "ipython",
    "version": 3
   },
   "file_extension": ".py",
   "mimetype": "text/x-python",
   "name": "python",
   "nbconvert_exporter": "python",
   "pygments_lexer": "ipython3",
   "version": "3.10.9 (main, Dec  7 2022, 13:47:07) [GCC 12.2.0]"
  },
  "orig_nbformat": 4,
  "vscode": {
   "interpreter": {
    "hash": "0bdb0f4c87a7c073fa2b033f0ebfebbc0523645a8572e6d563ddee7943f07c91"
   }
  }
 },
 "nbformat": 4,
 "nbformat_minor": 2
}
